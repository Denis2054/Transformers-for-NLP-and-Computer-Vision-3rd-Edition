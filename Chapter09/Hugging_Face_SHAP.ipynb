{
  "cells": [
    {
      "cell_type": "markdown",
      "metadata": {
        "id": "FBOnkCFDUkfn"
      },
      "source": [
        "#Interpreting Hugging Face transformers with SHAP\n",
        "\n",
        "Copyright 2023, Denis Rothman, MIT License"
      ]
    },
    {
      "cell_type": "markdown",
      "metadata": {
        "id": "jU3vsxcaUykG"
      },
      "source": [
        "# Introducing SHAP"
      ]
    },
    {
      "cell_type": "code",
      "execution_count": 1,
      "metadata": {
        "colab": {
          "base_uri": "https://localhost:8080/"
        },
        "id": "TQpHkx_SZPQM",
        "outputId": "b185b700-3b16-482d-9113-c66a4ea25651"
      },
      "outputs": [
        {
          "name": "stdout",
          "output_type": "stream",
          "text": [
            "Processed 5040 permutations\n",
            "The Shapley value of 'I' is 1764.0000000000798\n",
            "Processed 5040 permutations\n",
            "The Shapley value of 'love' is 4409.99999999998\n",
            "Processed 5040 permutations\n",
            "The Shapley value of 'playing' is 4283.999999999768\n",
            "Processed 5040 permutations\n",
            "The Shapley value of 'chess' is 3150.000000000016\n",
            "Processed 5040 permutations\n",
            "The Shapley value of 'with' is 1092.000000000074\n",
            "Processed 5040 permutations\n",
            "The Shapley value of 'my' is 2099.999999999982\n",
            "Processed 5040 permutations\n",
            "The Shapley value of 'friends' is 2604.0000000001683\n"
          ]
        }
      ],
      "source": [
        "#SHAP with an Iterator\n",
        "import itertools\n",
        "\n",
        "# Define the base scores of the words\n",
        "words = {'I': 0.2, 'love': 0.6, 'playing': 0.5, 'chess': 0.4, 'with': 0.1, 'my': 0.3, 'friends': 0.4}\n",
        "\n",
        "# Define the bonus scores for certain combinations of words\n",
        "bonus = {('I', 'love'): 0.3, ('love', 'playing'): 0.25, ('playing', 'chess'): 0.45, ('with', 'my', 'friends'): 0.35}\n",
        "\n",
        "# Function to calculate the total score of a coalition\n",
        "def total_score(coalition):\n",
        "    score = sum(words[word] for word in coalition)\n",
        "    for b in bonus.keys():\n",
        "        if all(word in coalition for word in b):\n",
        "            score += bonus[b]\n",
        "    return score\n",
        "\n",
        "# Function to calculate the Shapley value of a word\n",
        "def shapley_value(word):\n",
        "    N = len(words)\n",
        "    permutations = list(itertools.permutations(words))\n",
        "    marginal_contributions = []\n",
        "    counter = 0  # Counter initialization\n",
        "    for permutation in permutations:\n",
        "        index = permutation.index(word)\n",
        "        coalition_without_word = permutation[:index]\n",
        "        coalition_with_word = permutation[:index+1]\n",
        "        marginal_contribution = total_score(coalition_with_word) - total_score(coalition_without_word)\n",
        "        marginal_contributions.append(marginal_contribution)\n",
        "        counter += 1  # Increment counter\n",
        "    print(f\"Processed {counter} permutations\")  # Print counter\n",
        "    return sum(marginal_contributions)\n",
        "\n",
        "# Calculate the Shapley value of each word\n",
        "for word in words:\n",
        "    print(f\"The Shapley value of '{word}' is {shapley_value(word)}\")"
      ]
    },
    {
      "cell_type": "markdown",
      "metadata": {
        "id": "yRXY0RKrhT_x"
      },
      "source": [
        "# Explaining Hugging Face outputs with SHAP"
      ]
    },
    {
      "cell_type": "markdown",
      "metadata": {
        "id": "UJcl8AHeigjI"
      },
      "source": [
        "Install packages"
      ]
    },
    {
      "cell_type": "code",
      "execution_count": null,
      "metadata": {
        "id": "aOt4VZzyhaJm"
      },
      "outputs": [],
      "source": [
        "#Hugging Face Transformers\n",
        "!pip install transformers\n",
        "#Transformer building blocks\n",
        "!pip install xformers\n",
        "#SHAP\n",
        "!pip install shap"
      ]
    },
    {
      "cell_type": "code",
      "execution_count": 19,
      "metadata": {
        "id": "_9xmSzp3iwMQ"
      },
      "outputs": [],
      "source": [
        "#@title Enter your sentence here:\n",
        "sentence = 'SHAP is a useful explainer' #@param {type:\"string\"}"
      ]
    },
    {
      "cell_type": "markdown",
      "metadata": {
        "id": "LhEbE1ATi0M-"
      },
      "source": [
        "Sentiment Analysis"
      ]
    },
    {
      "cell_type": "code",
      "execution_count": 20,
      "metadata": {
        "colab": {
          "base_uri": "https://localhost:8080/"
        },
        "id": "uLoFcWrT5ioj",
        "outputId": "2fdcca69-b516-4470-82ac-ea87e15b4d20"
      },
      "outputs": [
        {
          "name": "stdout",
          "output_type": "stream",
          "text": [
            "{'label': 'POSITIVE', 'score': 0.9869391918182373}\n"
          ]
        }
      ],
      "source": [
        "import transformers\n",
        "\n",
        "# load a transformers pipeline model\n",
        "model = transformers.pipeline('sentiment-analysis', model='distilbert-base-uncased-finetuned-sst-2-english')\n",
        "\n",
        "# analyze the sentiment of the input sentence\n",
        "result = model(sentence)[0]\n",
        "print(result)"
      ]
    },
    {
      "cell_type": "code",
      "execution_count": 21,
      "metadata": {
        "colab": {
          "base_uri": "https://localhost:8080/",
          "height": 118
        },
        "id": "l4LYqWlgi-9i",
        "outputId": "98dec59c-d474-403b-d917-f4549eb0c456"
      },
      "outputs": [
        {
          "data": {
            "text/html": [
              "<svg width=\"100%\" height=\"80px\"><line x1=\"0\" y1=\"33\" x2=\"100%\" y2=\"33\" style=\"stroke:rgb(150,150,150);stroke-width:1\" /><line x1=\"50.36925437297051%\" y1=\"33\" x2=\"50.36925437297051%\" y2=\"37\" style=\"stroke:rgb(150,150,150);stroke-width:1\" /><text x=\"50.36925437297051%\" y=\"27\" font-size=\"12px\" fill=\"rgb(120,120,120)\" dominant-baseline=\"bottom\" text-anchor=\"middle\">0.5</text><line x1=\"33.4060779499808%\" y1=\"33\" x2=\"33.4060779499808%\" y2=\"37\" style=\"stroke:rgb(150,150,150);stroke-width:1\" /><text x=\"33.4060779499808%\" y=\"27\" font-size=\"12px\" fill=\"rgb(120,120,120)\" dominant-baseline=\"bottom\" text-anchor=\"middle\">0.2</text><line x1=\"16.44290152699109%\" y1=\"33\" x2=\"16.44290152699109%\" y2=\"37\" style=\"stroke:rgb(150,150,150);stroke-width:1\" /><text x=\"16.44290152699109%\" y=\"27\" font-size=\"12px\" fill=\"rgb(120,120,120)\" dominant-baseline=\"bottom\" text-anchor=\"middle\">-0.1</text><line x1=\"67.33243079596022%\" y1=\"33\" x2=\"67.33243079596022%\" y2=\"37\" style=\"stroke:rgb(150,150,150);stroke-width:1\" /><text x=\"67.33243079596022%\" y=\"27\" font-size=\"12px\" fill=\"rgb(120,120,120)\" dominant-baseline=\"bottom\" text-anchor=\"middle\">0.8</text><line x1=\"84.29560721894993%\" y1=\"33\" x2=\"84.29560721894993%\" y2=\"37\" style=\"stroke:rgb(150,150,150);stroke-width:1\" /><text x=\"84.29560721894993%\" y=\"27\" font-size=\"12px\" fill=\"rgb(120,120,120)\" dominant-baseline=\"bottom\" text-anchor=\"middle\">1.1</text><line x1=\"22.09729366798766%\" y1=\"33\" x2=\"22.09729366798766%\" y2=\"37\" style=\"stroke:rgb(150,150,150);stroke-width:1\" /><text x=\"22.09729366798766%\" y=\"27\" font-size=\"13px\" style=\"stroke:#ffffff;stroke-width:8px;\" fill=\"rgb(255,255,255)\" dominant-baseline=\"bottom\" text-anchor=\"middle\">0</text><text x=\"22.09729366798766%\" y=\"27\" font-size=\"12px\" fill=\"rgb(120,120,120)\" dominant-baseline=\"bottom\" text-anchor=\"middle\">0</text><text x=\"22.09729366798766%\" y=\"10\" font-size=\"12px\" fill=\"rgb(120,120,120)\" dominant-baseline=\"bottom\" text-anchor=\"middle\">base value</text><line x1=\"77.90270576657313%\" y1=\"33\" x2=\"77.90270576657313%\" y2=\"37\" style=\"stroke:rgb(150,150,150);stroke-width:1\" /><text x=\"77.90270576657313%\" y=\"27\" font-size=\"13px\" style=\"stroke:#ffffff;stroke-width:8px;\" font-weight=\"bold\" fill=\"rgb(255,255,255)\" dominant-baseline=\"bottom\" text-anchor=\"middle\">0.986939</text><text x=\"77.90270576657313%\" y=\"27\" font-size=\"13px\" font-weight=\"bold\" fill=\"rgb(0,0,0)\" dominant-baseline=\"bottom\" text-anchor=\"middle\">0.986939</text><text x=\"77.90270576657313%\" y=\"10\" font-size=\"12px\" fill=\"rgb(120,120,120)\" dominant-baseline=\"bottom\" text-anchor=\"middle\">f<tspan baseline-shift=\"sub\" font-size=\"8px\">POSITIVE</tspan>(inputs)</text><rect x=\"8.3333332862134%\" width=\"69.56937248035973%\" y=\"40\" height=\"18\" style=\"fill:rgb(255.0, 0.0, 81.08083606031792); stroke-width:0; stroke:rgb(0,0,0)\" /><line x1=\"49.484799283890524%\" x2=\"77.90270576657313%\" y1=\"60\" y2=\"60\" id=\"_fb_neikknzkvgjukddvieun_ind_5\" style=\"stroke:rgb(255.0, 0.0, 81.08083606031792);stroke-width:2; opacity: 0\"/><text x=\"63.69375252523183%\" y=\"71\" font-size=\"12px\" id=\"_fs_neikknzkvgjukddvieun_ind_5\" fill=\"rgb(255.0, 0.0, 81.08083606031792)\" style=\"opacity: 0\" dominant-baseline=\"middle\" text-anchor=\"middle\">0.503</text><svg x=\"49.484799283890524%\" y=\"40\" height=\"20\" width=\"28.41790648268261%\">  <svg x=\"0\" y=\"0\" width=\"100%\" height=\"100%\">    <text x=\"50%\" y=\"9\" font-size=\"12px\" fill=\"rgb(255,255,255)\" dominant-baseline=\"middle\" text-anchor=\"middle\">useful</text>  </svg></svg><line x1=\"25.34955691082562%\" x2=\"49.484799283890524%\" y1=\"60\" y2=\"60\" id=\"_fb_neikknzkvgjukddvieun_ind_6\" style=\"stroke:rgb(255.0, 0.0, 81.08083606031792);stroke-width:2; opacity: 0\"/><text x=\"37.417178097358075%\" y=\"71\" font-size=\"12px\" id=\"_fs_neikknzkvgjukddvieun_ind_6\" fill=\"rgb(255.0, 0.0, 81.08083606031792)\" style=\"opacity: 0\" dominant-baseline=\"middle\" text-anchor=\"middle\">0.427</text><svg x=\"25.34955691082562%\" y=\"40\" height=\"20\" width=\"24.135242373064905%\">  <svg x=\"0\" y=\"0\" width=\"100%\" height=\"100%\">    <text x=\"50%\" y=\"9\" font-size=\"12px\" fill=\"rgb(255,255,255)\" dominant-baseline=\"middle\" text-anchor=\"middle\">explain</text>  </svg></svg><line x1=\"16.70613887459918%\" x2=\"25.34955691082562%\" y1=\"60\" y2=\"60\" id=\"_fb_neikknzkvgjukddvieun_ind_4\" style=\"stroke:rgb(255.0, 0.0, 81.08083606031792);stroke-width:2; opacity: 0\"/><text x=\"21.0278478927124%\" y=\"71\" font-size=\"12px\" id=\"_fs_neikknzkvgjukddvieun_ind_4\" fill=\"rgb(255.0, 0.0, 81.08083606031792)\" style=\"opacity: 0\" dominant-baseline=\"middle\" text-anchor=\"middle\">0.153</text><svg x=\"16.70613887459918%\" y=\"40\" height=\"20\" width=\"8.64341803622644%\">  <svg x=\"0\" y=\"0\" width=\"100%\" height=\"100%\">    <text x=\"50%\" y=\"9\" font-size=\"12px\" fill=\"rgb(255,255,255)\" dominant-baseline=\"middle\" text-anchor=\"middle\">a</text>  </svg></svg><line x1=\"8.3333332862134%\" x2=\"16.70613887459918%\" y1=\"60\" y2=\"60\" id=\"_fb_neikknzkvgjukddvieun_ind_3\" style=\"stroke:rgb(255.0, 0.0, 81.08083606031792);stroke-width:2; opacity: 0\"/><text x=\"12.51973608040629%\" y=\"71\" font-size=\"12px\" id=\"_fs_neikknzkvgjukddvieun_ind_3\" fill=\"rgb(255.0, 0.0, 81.08083606031792)\" style=\"opacity: 0\" dominant-baseline=\"middle\" text-anchor=\"middle\">0.148</text><svg x=\"8.3333332862134%\" y=\"40\" height=\"20\" width=\"8.37280558838578%\">  <svg x=\"0\" y=\"0\" width=\"100%\" height=\"100%\">    <text x=\"50%\" y=\"9\" font-size=\"12px\" fill=\"rgb(255,255,255)\" dominant-baseline=\"middle\" text-anchor=\"middle\">is</text>  </svg></svg><g transform=\"translate(0,0)\">  <svg x=\"49.484799283890524%\" y=\"40\" height=\"18\" overflow=\"visible\" width=\"30\">    <path d=\"M 0 -9 l 6 18 L 0 25\" fill=\"none\" style=\"stroke:rgb(255.0, 0.0, 81.08083606031792);stroke-width:2\" />  </svg></g><g transform=\"translate(2,0)\">  <svg x=\"49.484799283890524%\" y=\"40\" height=\"18\" overflow=\"visible\" width=\"30\">    <path d=\"M 0 -9 l 6 18 L 0 25\" fill=\"none\" style=\"stroke:rgb(255.0, 0.0, 81.08083606031792);stroke-width:2\" />  </svg></g><g transform=\"translate(4,0)\">  <svg x=\"49.484799283890524%\" y=\"40\" height=\"18\" overflow=\"visible\" width=\"30\">    <path d=\"M 0 -9 l 6 18 L 0 25\" fill=\"none\" style=\"stroke:rgb(255.0, 0.0, 81.08083606031792);stroke-width:2\" />  </svg></g><g transform=\"translate(6,0)\">  <svg x=\"49.484799283890524%\" y=\"40\" height=\"18\" overflow=\"visible\" width=\"30\">    <path d=\"M 0 -9 l 6 18 L 0 25\" fill=\"none\" style=\"stroke:rgb(255.0, 0.0, 81.08083606031792);stroke-width:2\" />  </svg></g><g transform=\"translate(-8,0)\">  <svg x=\"49.484799283890524%\" y=\"40\" height=\"18\" overflow=\"visible\" width=\"30\">    <path d=\"M 0 -9 l 6 18 L 0 25\" fill=\"none\" style=\"stroke:rgb(255.0, 0.0, 81.08083606031792);stroke-width:2\" />  </svg></g><g transform=\"translate(-6,0)\">  <svg x=\"49.484799283890524%\" y=\"40\" height=\"18\" overflow=\"visible\" width=\"30\">    <path d=\"M 0 -9 l 6 18 L 0 25\" fill=\"none\" style=\"stroke:rgb(255.0, 0.0, 81.08083606031792);stroke-width:2\" />  </svg></g><g transform=\"translate(-4,0)\">  <svg x=\"49.484799283890524%\" y=\"40\" height=\"18\" overflow=\"visible\" width=\"30\">    <path d=\"M 0 -9 l 6 18 L 0 25\" fill=\"none\" style=\"stroke:rgb(255.0, 0.0, 81.08083606031792);stroke-width:2\" />  </svg></g><g transform=\"translate(-2,0)\">  <svg x=\"49.484799283890524%\" y=\"40\" height=\"18\" overflow=\"visible\" width=\"30\">    <path d=\"M 0 -9 l 6 18 L 0 25\" fill=\"none\" style=\"stroke:rgb(255.0, 0.0, 81.08083606031792);stroke-width:2\" />  </svg></g><g transform=\"translate(0,0)\">  <svg x=\"25.34955691082562%\" y=\"40\" height=\"18\" overflow=\"visible\" width=\"30\">    <path d=\"M 0 -9 l 6 18 L 0 25\" fill=\"none\" style=\"stroke:rgb(255.0, 0.0, 81.08083606031792);stroke-width:2\" />  </svg></g><g transform=\"translate(2,0)\">  <svg x=\"25.34955691082562%\" y=\"40\" height=\"18\" overflow=\"visible\" width=\"30\">    <path d=\"M 0 -9 l 6 18 L 0 25\" fill=\"none\" style=\"stroke:rgb(255.0, 0.0, 81.08083606031792);stroke-width:2\" />  </svg></g><g transform=\"translate(4,0)\">  <svg x=\"25.34955691082562%\" y=\"40\" height=\"18\" overflow=\"visible\" width=\"30\">    <path d=\"M 0 -9 l 6 18 L 0 25\" fill=\"none\" style=\"stroke:rgb(255.0, 0.0, 81.08083606031792);stroke-width:2\" />  </svg></g><g transform=\"translate(6,0)\">  <svg x=\"25.34955691082562%\" y=\"40\" height=\"18\" overflow=\"visible\" width=\"30\">    <path d=\"M 0 -9 l 6 18 L 0 25\" fill=\"none\" style=\"stroke:rgb(255.0, 0.0, 81.08083606031792);stroke-width:2\" />  </svg></g><g transform=\"translate(-8,0)\">  <svg x=\"25.34955691082562%\" y=\"40\" height=\"18\" overflow=\"visible\" width=\"30\">    <path d=\"M 0 -9 l 6 18 L 0 25\" fill=\"none\" style=\"stroke:rgb(255.0, 0.0, 81.08083606031792);stroke-width:2\" />  </svg></g><g transform=\"translate(-6,0)\">  <svg x=\"25.34955691082562%\" y=\"40\" height=\"18\" overflow=\"visible\" width=\"30\">    <path d=\"M 0 -9 l 6 18 L 0 25\" fill=\"none\" style=\"stroke:rgb(255.0, 0.0, 81.08083606031792);stroke-width:2\" />  </svg></g><g transform=\"translate(-4,0)\">  <svg x=\"25.34955691082562%\" y=\"40\" height=\"18\" overflow=\"visible\" width=\"30\">    <path d=\"M 0 -9 l 6 18 L 0 25\" fill=\"none\" style=\"stroke:rgb(255.0, 0.0, 81.08083606031792);stroke-width:2\" />  </svg></g><g transform=\"translate(-2,0)\">  <svg x=\"25.34955691082562%\" y=\"40\" height=\"18\" overflow=\"visible\" width=\"30\">    <path d=\"M 0 -9 l 6 18 L 0 25\" fill=\"none\" style=\"stroke:rgb(255.0, 0.0, 81.08083606031792);stroke-width:2\" />  </svg></g><g transform=\"translate(0,0)\">  <svg x=\"16.70613887459918%\" y=\"40\" height=\"18\" overflow=\"visible\" width=\"30\">    <path d=\"M 0 -9 l 6 18 L 0 25\" fill=\"none\" style=\"stroke:rgb(255.0, 0.0, 81.08083606031792);stroke-width:2\" />  </svg></g><g transform=\"translate(2,0)\">  <svg x=\"16.70613887459918%\" y=\"40\" height=\"18\" overflow=\"visible\" width=\"30\">    <path d=\"M 0 -9 l 6 18 L 0 25\" fill=\"none\" style=\"stroke:rgb(255.0, 0.0, 81.08083606031792);stroke-width:2\" />  </svg></g><g transform=\"translate(4,0)\">  <svg x=\"16.70613887459918%\" y=\"40\" height=\"18\" overflow=\"visible\" width=\"30\">    <path d=\"M 0 -9 l 6 18 L 0 25\" fill=\"none\" style=\"stroke:rgb(255.0, 0.0, 81.08083606031792);stroke-width:2\" />  </svg></g><g transform=\"translate(6,0)\">  <svg x=\"16.70613887459918%\" y=\"40\" height=\"18\" overflow=\"visible\" width=\"30\">    <path d=\"M 0 -9 l 6 18 L 0 25\" fill=\"none\" style=\"stroke:rgb(255.0, 0.0, 81.08083606031792);stroke-width:2\" />  </svg></g><g transform=\"translate(-8,0)\">  <svg x=\"16.70613887459918%\" y=\"40\" height=\"18\" overflow=\"visible\" width=\"30\">    <path d=\"M 0 -9 l 6 18 L 0 25\" fill=\"none\" style=\"stroke:rgb(255.0, 0.0, 81.08083606031792);stroke-width:2\" />  </svg></g><g transform=\"translate(-6,0)\">  <svg x=\"16.70613887459918%\" y=\"40\" height=\"18\" overflow=\"visible\" width=\"30\">    <path d=\"M 0 -9 l 6 18 L 0 25\" fill=\"none\" style=\"stroke:rgb(255.0, 0.0, 81.08083606031792);stroke-width:2\" />  </svg></g><g transform=\"translate(-4,0)\">  <svg x=\"16.70613887459918%\" y=\"40\" height=\"18\" overflow=\"visible\" width=\"30\">    <path d=\"M 0 -9 l 6 18 L 0 25\" fill=\"none\" style=\"stroke:rgb(255.0, 0.0, 81.08083606031792);stroke-width:2\" />  </svg></g><g transform=\"translate(-2,0)\">  <svg x=\"16.70613887459918%\" y=\"40\" height=\"18\" overflow=\"visible\" width=\"30\">    <path d=\"M 0 -9 l 6 18 L 0 25\" fill=\"none\" style=\"stroke:rgb(255.0, 0.0, 81.08083606031792);stroke-width:2\" />  </svg></g><rect transform=\"translate(-8,0)\" x=\"77.90270576657313%\" y=\"40\" width=\"8\" height=\"18\" style=\"fill:rgb(255.0, 0.0, 81.08083606031792)\"/><g transform=\"translate(-11.5,0)\">  <svg x=\"8.3333332862134%\" y=\"40\" height=\"18\" overflow=\"visible\" width=\"30\">    <path d=\"M 10 -9 l 6 18 L 10 25 L 0 25 L 0 -9\" fill=\"#ffffff\" style=\"stroke:rgb(255,255,255);stroke-width:2\" />  </svg></g><g transform=\"translate(-1.5,0)\">  <svg x=\"77.90270576657313%\" y=\"40\" height=\"18\" overflow=\"visible\" width=\"30\">    <path d=\"M 0 -9 l 6 18 L 0 25\" fill=\"none\" style=\"stroke:rgb(255, 195, 213);stroke-width:2\" />  </svg></g><rect x=\"49.484799283890524%\" y=\"40\" height=\"20\" width=\"28.41790648268261%\"      onmouseover=\"document.getElementById('_tp_neikknzkvgjukddvieun_ind_5').style.textDecoration = 'underline';document.getElementById('_fs_neikknzkvgjukddvieun_ind_5').style.opacity = 1;document.getElementById('_fb_neikknzkvgjukddvieun_ind_5').style.opacity = 1;\"      onmouseout=\"document.getElementById('_tp_neikknzkvgjukddvieun_ind_5').style.textDecoration = 'none';document.getElementById('_fs_neikknzkvgjukddvieun_ind_5').style.opacity = 0;document.getElementById('_fb_neikknzkvgjukddvieun_ind_5').style.opacity = 0;\" style=\"fill:rgb(0,0,0,0)\" /><g transform=\"translate(-1.5,0)\">  <svg x=\"49.484799283890524%\" y=\"40\" height=\"18\" overflow=\"visible\" width=\"30\">    <path d=\"M 0 -9 l 6 18 L 0 25\" fill=\"none\" style=\"stroke:rgb(255, 195, 213);stroke-width:2\" />  </svg></g><rect x=\"25.34955691082562%\" y=\"40\" height=\"20\" width=\"24.135242373064905%\"      onmouseover=\"document.getElementById('_tp_neikknzkvgjukddvieun_ind_6').style.textDecoration = 'underline';document.getElementById('_fs_neikknzkvgjukddvieun_ind_6').style.opacity = 1;document.getElementById('_fb_neikknzkvgjukddvieun_ind_6').style.opacity = 1;\"      onmouseout=\"document.getElementById('_tp_neikknzkvgjukddvieun_ind_6').style.textDecoration = 'none';document.getElementById('_fs_neikknzkvgjukddvieun_ind_6').style.opacity = 0;document.getElementById('_fb_neikknzkvgjukddvieun_ind_6').style.opacity = 0;\" style=\"fill:rgb(0,0,0,0)\" /><g transform=\"translate(-1.5,0)\">  <svg x=\"25.34955691082562%\" y=\"40\" height=\"18\" overflow=\"visible\" width=\"30\">    <path d=\"M 0 -9 l 6 18 L 0 25\" fill=\"none\" style=\"stroke:rgb(255, 195, 213);stroke-width:2\" />  </svg></g><rect x=\"16.70613887459918%\" y=\"40\" height=\"20\" width=\"8.64341803622644%\"      onmouseover=\"document.getElementById('_tp_neikknzkvgjukddvieun_ind_4').style.textDecoration = 'underline';document.getElementById('_fs_neikknzkvgjukddvieun_ind_4').style.opacity = 1;document.getElementById('_fb_neikknzkvgjukddvieun_ind_4').style.opacity = 1;\"      onmouseout=\"document.getElementById('_tp_neikknzkvgjukddvieun_ind_4').style.textDecoration = 'none';document.getElementById('_fs_neikknzkvgjukddvieun_ind_4').style.opacity = 0;document.getElementById('_fb_neikknzkvgjukddvieun_ind_4').style.opacity = 0;\" style=\"fill:rgb(0,0,0,0)\" /><rect x=\"8.3333332862134%\" y=\"40\" height=\"20\" width=\"8.37280558838578%\"      onmouseover=\"document.getElementById('_tp_neikknzkvgjukddvieun_ind_3').style.textDecoration = 'underline';document.getElementById('_fs_neikknzkvgjukddvieun_ind_3').style.opacity = 1;document.getElementById('_fb_neikknzkvgjukddvieun_ind_3').style.opacity = 1;\"      onmouseout=\"document.getElementById('_tp_neikknzkvgjukddvieun_ind_3').style.textDecoration = 'none';document.getElementById('_fs_neikknzkvgjukddvieun_ind_3').style.opacity = 0;document.getElementById('_fb_neikknzkvgjukddvieun_ind_3').style.opacity = 0;\" style=\"fill:rgb(0,0,0,0)\" /><rect x=\"77.90270576657313%\" width=\"13.763960381774261%\" y=\"40\" height=\"18\" style=\"fill:rgb(0.0, 138.56128015770727, 250.76166088685727); stroke-width:0; stroke:rgb(0,0,0)\" /><line x1=\"77.90270576657313%\" x2=\"85.03127925981764%\" y1=\"60\" y2=\"60\" id=\"_fb_neikknzkvgjukddvieun_ind_2\" style=\"stroke:rgb(0.0, 138.56128015770727, 250.76166088685727);stroke-width:2; opacity: 0\"/><text x=\"81.46699251319538%\" y=\"71\" font-size=\"12px\" fill=\"rgb(0.0, 138.56128015770727, 250.76166088685727)\" id=\"_fs_neikknzkvgjukddvieun_ind_2\" style=\"opacity: 0\" dominant-baseline=\"middle\" text-anchor=\"middle\">-0.126</text><svg x=\"77.90270576657313%\" y=\"40\" height=\"20\" width=\"7.128573493244502%\">  <svg x=\"0\" y=\"0\" width=\"100%\" height=\"100%\">    <text x=\"50%\" y=\"9\" font-size=\"12px\" fill=\"rgb(255,255,255)\" dominant-baseline=\"middle\" text-anchor=\"middle\">P</text>  </svg></svg><line x1=\"85.03127925981764%\" x2=\"88.71444127108461%\" y1=\"60\" y2=\"60\" id=\"_fb_neikknzkvgjukddvieun_ind_1\" style=\"stroke:rgb(0.0, 138.56128015770727, 250.76166088685727);stroke-width:2; opacity: 0\"/><text x=\"86.87286026545112%\" y=\"71\" font-size=\"12px\" fill=\"rgb(0.0, 138.56128015770727, 250.76166088685727)\" id=\"_fs_neikknzkvgjukddvieun_ind_1\" style=\"opacity: 0\" dominant-baseline=\"middle\" text-anchor=\"middle\">-0.065</text><svg x=\"85.03127925981764%\" y=\"40\" height=\"20\" width=\"3.6831620112669725%\">  <svg x=\"0\" y=\"0\" width=\"100%\" height=\"100%\">    <text x=\"50%\" y=\"9\" font-size=\"12px\" fill=\"rgb(255,255,255)\" dominant-baseline=\"middle\" text-anchor=\"middle\">SHA</text>  </svg></svg><line x1=\"88.71444127108461%\" x2=\"91.66666614834739%\" y1=\"60\" y2=\"60\" id=\"_fb_neikknzkvgjukddvieun_ind_7\" style=\"stroke:rgb(0.0, 138.56128015770727, 250.76166088685727);stroke-width:2; opacity: 0\"/><text x=\"90.190553709716%\" y=\"71\" font-size=\"12px\" fill=\"rgb(0.0, 138.56128015770727, 250.76166088685727)\" id=\"_fs_neikknzkvgjukddvieun_ind_7\" style=\"opacity: 0\" dominant-baseline=\"middle\" text-anchor=\"middle\">-0.052</text><svg x=\"88.71444127108461%\" y=\"40\" height=\"20\" width=\"2.952224877262779%\">  <svg x=\"0\" y=\"0\" width=\"100%\" height=\"100%\">    <text x=\"50%\" y=\"9\" font-size=\"12px\" fill=\"rgb(255,255,255)\" dominant-baseline=\"middle\" text-anchor=\"middle\">er</text>  </svg></svg><g transform=\"translate(-8,0)\">  <svg x=\"85.03127925981764%\" y=\"40\" height=\"18\" overflow=\"visible\" width=\"30\">    <path d=\"M 8 -9 l -6 18 L 8 25\" fill=\"none\" style=\"stroke:rgb(0.0, 138.56128015770727, 250.76166088685727);stroke-width:2\" />  </svg></g><g transform=\"translate(-10,0)\">  <svg x=\"85.03127925981764%\" y=\"40\" height=\"18\" overflow=\"visible\" width=\"30\">    <path d=\"M 8 -9 l -6 18 L 8 25\" fill=\"none\" style=\"stroke:rgb(0.0, 138.56128015770727, 250.76166088685727);stroke-width:2\" />  </svg></g><g transform=\"translate(-12,0)\">  <svg x=\"85.03127925981764%\" y=\"40\" height=\"18\" overflow=\"visible\" width=\"30\">    <path d=\"M 8 -9 l -6 18 L 8 25\" fill=\"none\" style=\"stroke:rgb(0.0, 138.56128015770727, 250.76166088685727);stroke-width:2\" />  </svg></g><g transform=\"translate(-14,0)\">  <svg x=\"85.03127925981764%\" y=\"40\" height=\"18\" overflow=\"visible\" width=\"30\">    <path d=\"M 8 -9 l -6 18 L 8 25\" fill=\"none\" style=\"stroke:rgb(0.0, 138.56128015770727, 250.76166088685727);stroke-width:2\" />  </svg></g><g transform=\"translate(2,0)\">  <svg x=\"85.03127925981764%\" y=\"40\" height=\"18\" overflow=\"visible\" width=\"30\">    <path d=\"M 8 -9 l -6 18 L 8 25\" fill=\"none\" style=\"stroke:rgb(0.0, 138.56128015770727, 250.76166088685727);stroke-width:2\" />  </svg></g><g transform=\"translate(0,0)\">  <svg x=\"85.03127925981764%\" y=\"40\" height=\"18\" overflow=\"visible\" width=\"30\">    <path d=\"M 8 -9 l -6 18 L 8 25\" fill=\"none\" style=\"stroke:rgb(0.0, 138.56128015770727, 250.76166088685727);stroke-width:2\" />  </svg></g><g transform=\"translate(-2,0)\">  <svg x=\"85.03127925981764%\" y=\"40\" height=\"18\" overflow=\"visible\" width=\"30\">    <path d=\"M 8 -9 l -6 18 L 8 25\" fill=\"none\" style=\"stroke:rgb(0.0, 138.56128015770727, 250.76166088685727);stroke-width:2\" />  </svg></g><g transform=\"translate(-4,0)\">  <svg x=\"85.03127925981764%\" y=\"40\" height=\"18\" overflow=\"visible\" width=\"30\">    <path d=\"M 8 -9 l -6 18 L 8 25\" fill=\"none\" style=\"stroke:rgb(0.0, 138.56128015770727, 250.76166088685727);stroke-width:2\" />  </svg></g><g transform=\"translate(-8,0)\">  <svg x=\"88.71444127108461%\" y=\"40\" height=\"18\" overflow=\"visible\" width=\"30\">    <path d=\"M 8 -9 l -6 18 L 8 25\" fill=\"none\" style=\"stroke:rgb(0.0, 138.56128015770727, 250.76166088685727);stroke-width:2\" />  </svg></g><g transform=\"translate(-10,0)\">  <svg x=\"88.71444127108461%\" y=\"40\" height=\"18\" overflow=\"visible\" width=\"30\">    <path d=\"M 8 -9 l -6 18 L 8 25\" fill=\"none\" style=\"stroke:rgb(0.0, 138.56128015770727, 250.76166088685727);stroke-width:2\" />  </svg></g><g transform=\"translate(-12,0)\">  <svg x=\"88.71444127108461%\" y=\"40\" height=\"18\" overflow=\"visible\" width=\"30\">    <path d=\"M 8 -9 l -6 18 L 8 25\" fill=\"none\" style=\"stroke:rgb(0.0, 138.56128015770727, 250.76166088685727);stroke-width:2\" />  </svg></g><g transform=\"translate(-14,0)\">  <svg x=\"88.71444127108461%\" y=\"40\" height=\"18\" overflow=\"visible\" width=\"30\">    <path d=\"M 8 -9 l -6 18 L 8 25\" fill=\"none\" style=\"stroke:rgb(0.0, 138.56128015770727, 250.76166088685727);stroke-width:2\" />  </svg></g><g transform=\"translate(2,0)\">  <svg x=\"88.71444127108461%\" y=\"40\" height=\"18\" overflow=\"visible\" width=\"30\">    <path d=\"M 8 -9 l -6 18 L 8 25\" fill=\"none\" style=\"stroke:rgb(0.0, 138.56128015770727, 250.76166088685727);stroke-width:2\" />  </svg></g><g transform=\"translate(0,0)\">  <svg x=\"88.71444127108461%\" y=\"40\" height=\"18\" overflow=\"visible\" width=\"30\">    <path d=\"M 8 -9 l -6 18 L 8 25\" fill=\"none\" style=\"stroke:rgb(0.0, 138.56128015770727, 250.76166088685727);stroke-width:2\" />  </svg></g><g transform=\"translate(-2,0)\">  <svg x=\"88.71444127108461%\" y=\"40\" height=\"18\" overflow=\"visible\" width=\"30\">    <path d=\"M 8 -9 l -6 18 L 8 25\" fill=\"none\" style=\"stroke:rgb(0.0, 138.56128015770727, 250.76166088685727);stroke-width:2\" />  </svg></g><g transform=\"translate(-4,0)\">  <svg x=\"88.71444127108461%\" y=\"40\" height=\"18\" overflow=\"visible\" width=\"30\">    <path d=\"M 8 -9 l -6 18 L 8 25\" fill=\"none\" style=\"stroke:rgb(0.0, 138.56128015770727, 250.76166088685727);stroke-width:2\" />  </svg></g><rect transform=\"translate(0,0)\" x=\"77.90270576657313%\" y=\"40\" width=\"8\" height=\"18\" style=\"fill:rgb(0.0, 138.56128015770727, 250.76166088685727)\"/><g transform=\"translate(-6.0,0)\">  <svg x=\"91.66666614834739%\" y=\"40\" height=\"18\" overflow=\"visible\" width=\"30\">    <path d=\"M 8 -9 l -6 18 L 8 25 L 20 25 L 20 -9\" fill=\"#ffffff\" style=\"stroke:rgb(255,255,255);stroke-width:2\" />  </svg></g><g transform=\"translate(-6.0,0)\">  <svg x=\"85.03127925981764%\" y=\"40\" height=\"18\" overflow=\"visible\" width=\"30\">    <path d=\"M 8 -9 l -6 18 L 8 25\" fill=\"none\" style=\"stroke:rgb(208, 230, 250);stroke-width:2\" />  </svg></g><rect x=\"77.90270576657313%\" y=\"40\" height=\"20\" width=\"7.128573493244502%\"      onmouseover=\"document.getElementById('_tp_neikknzkvgjukddvieun_ind_2').style.textDecoration = 'underline';document.getElementById('_fs_neikknzkvgjukddvieun_ind_2').style.opacity = 1;document.getElementById('_fb_neikknzkvgjukddvieun_ind_2').style.opacity = 1;\"      onmouseout=\"document.getElementById('_tp_neikknzkvgjukddvieun_ind_2').style.textDecoration = 'none';document.getElementById('_fs_neikknzkvgjukddvieun_ind_2').style.opacity = 0;document.getElementById('_fb_neikknzkvgjukddvieun_ind_2').style.opacity = 0;\" style=\"fill:rgb(0,0,0,0)\" /><g transform=\"translate(-6.0,0)\">  <svg x=\"88.71444127108461%\" y=\"40\" height=\"18\" overflow=\"visible\" width=\"30\">    <path d=\"M 8 -9 l -6 18 L 8 25\" fill=\"none\" style=\"stroke:rgb(208, 230, 250);stroke-width:2\" />  </svg></g><rect x=\"85.03127925981764%\" y=\"40\" height=\"20\" width=\"3.6831620112669725%\"      onmouseover=\"document.getElementById('_tp_neikknzkvgjukddvieun_ind_1').style.textDecoration = 'underline';document.getElementById('_fs_neikknzkvgjukddvieun_ind_1').style.opacity = 1;document.getElementById('_fb_neikknzkvgjukddvieun_ind_1').style.opacity = 1;\"      onmouseout=\"document.getElementById('_tp_neikknzkvgjukddvieun_ind_1').style.textDecoration = 'none';document.getElementById('_fs_neikknzkvgjukddvieun_ind_1').style.opacity = 0;document.getElementById('_fb_neikknzkvgjukddvieun_ind_1').style.opacity = 0;\" style=\"fill:rgb(0,0,0,0)\" /><rect x=\"88.71444127108461%\" y=\"40\" height=\"20\" width=\"2.952224877262779%\"      onmouseover=\"document.getElementById('_tp_neikknzkvgjukddvieun_ind_7').style.textDecoration = 'underline';document.getElementById('_fs_neikknzkvgjukddvieun_ind_7').style.opacity = 1;document.getElementById('_fb_neikknzkvgjukddvieun_ind_7').style.opacity = 1;\"      onmouseout=\"document.getElementById('_tp_neikknzkvgjukddvieun_ind_7').style.textDecoration = 'none';document.getElementById('_fs_neikknzkvgjukddvieun_ind_7').style.opacity = 0;document.getElementById('_fb_neikknzkvgjukddvieun_ind_7').style.opacity = 0;\" style=\"fill:rgb(0,0,0,0)\" /></svg><div align='center'><div style=\"color: rgb(120,120,120); font-size: 12px; margin-top: -15px;\">inputs</div><div style='display: inline; text-align: center;'\n",
              "    ><div style='display: none; color: #999; padding-top: 0px; font-size: 12px;'>0.0</div\n",
              "        ><div id='_tp_neikknzkvgjukddvieun_ind_0'\n",
              "            style='display: inline; background: rgba(230.2941176470614, 26.505882352939775, 102.59215686274348, 0.0); border-radius: 3px; padding: 0px'\n",
              "            onclick=\"\n",
              "            if (this.previousSibling.style.display == 'none') {\n",
              "                this.previousSibling.style.display = 'block';\n",
              "                this.parentNode.style.display = 'inline-block';\n",
              "            } else {\n",
              "                this.previousSibling.style.display = 'none';\n",
              "                this.parentNode.style.display = 'inline';\n",
              "            }\"\n",
              "            onmouseover=\"document.getElementById('_fb_neikknzkvgjukddvieun_ind_0').style.opacity = 1; document.getElementById('_fs_neikknzkvgjukddvieun_ind_0').style.opacity = 1;\"\n",
              "            onmouseout=\"document.getElementById('_fb_neikknzkvgjukddvieun_ind_0').style.opacity = 0; document.getElementById('_fs_neikknzkvgjukddvieun_ind_0').style.opacity = 0;\"\n",
              "        ></div></div><div style='display: inline; text-align: center;'\n",
              "    ><div style='display: none; color: #999; padding-top: 0px; font-size: 12px;'>-0.065</div\n",
              "        ><div id='_tp_neikknzkvgjukddvieun_ind_1'\n",
              "            style='display: inline; background: rgba(30.0, 136.0, 229.0, 0.12501485442661905); border-radius: 3px; padding: 0px'\n",
              "            onclick=\"\n",
              "            if (this.previousSibling.style.display == 'none') {\n",
              "                this.previousSibling.style.display = 'block';\n",
              "                this.parentNode.style.display = 'inline-block';\n",
              "            } else {\n",
              "                this.previousSibling.style.display = 'none';\n",
              "                this.parentNode.style.display = 'inline';\n",
              "            }\"\n",
              "            onmouseover=\"document.getElementById('_fb_neikknzkvgjukddvieun_ind_1').style.opacity = 1; document.getElementById('_fs_neikknzkvgjukddvieun_ind_1').style.opacity = 1;\"\n",
              "            onmouseout=\"document.getElementById('_fb_neikknzkvgjukddvieun_ind_1').style.opacity = 0; document.getElementById('_fs_neikknzkvgjukddvieun_ind_1').style.opacity = 0;\"\n",
              "        >SHA</div></div><div style='display: inline; text-align: center;'\n",
              "    ><div style='display: none; color: #999; padding-top: 0px; font-size: 12px;'>-0.126</div\n",
              "        ><div id='_tp_neikknzkvgjukddvieun_ind_2'\n",
              "            style='display: inline; background: rgba(30.0, 136.0, 229.0, 0.25113883937413345); border-radius: 3px; padding: 0px'\n",
              "            onclick=\"\n",
              "            if (this.previousSibling.style.display == 'none') {\n",
              "                this.previousSibling.style.display = 'block';\n",
              "                this.parentNode.style.display = 'inline-block';\n",
              "            } else {\n",
              "                this.previousSibling.style.display = 'none';\n",
              "                this.parentNode.style.display = 'inline';\n",
              "            }\"\n",
              "            onmouseover=\"document.getElementById('_fb_neikknzkvgjukddvieun_ind_2').style.opacity = 1; document.getElementById('_fs_neikknzkvgjukddvieun_ind_2').style.opacity = 1;\"\n",
              "            onmouseout=\"document.getElementById('_fb_neikknzkvgjukddvieun_ind_2').style.opacity = 0; document.getElementById('_fs_neikknzkvgjukddvieun_ind_2').style.opacity = 0;\"\n",
              "        >P </div></div><div style='display: inline; text-align: center;'\n",
              "    ><div style='display: none; color: #999; padding-top: 0px; font-size: 12px;'>0.148</div\n",
              "        ><div id='_tp_neikknzkvgjukddvieun_ind_3'\n",
              "            style='display: inline; background: rgba(255.0, 13.0, 87.0, 0.29055258467023165); border-radius: 3px; padding: 0px'\n",
              "            onclick=\"\n",
              "            if (this.previousSibling.style.display == 'none') {\n",
              "                this.previousSibling.style.display = 'block';\n",
              "                this.parentNode.style.display = 'inline-block';\n",
              "            } else {\n",
              "                this.previousSibling.style.display = 'none';\n",
              "                this.parentNode.style.display = 'inline';\n",
              "            }\"\n",
              "            onmouseover=\"document.getElementById('_fb_neikknzkvgjukddvieun_ind_3').style.opacity = 1; document.getElementById('_fs_neikknzkvgjukddvieun_ind_3').style.opacity = 1;\"\n",
              "            onmouseout=\"document.getElementById('_fb_neikknzkvgjukddvieun_ind_3').style.opacity = 0; document.getElementById('_fs_neikknzkvgjukddvieun_ind_3').style.opacity = 0;\"\n",
              "        >is </div></div><div style='display: inline; text-align: center;'\n",
              "    ><div style='display: none; color: #999; padding-top: 0px; font-size: 12px;'>0.153</div\n",
              "        ><div id='_tp_neikknzkvgjukddvieun_ind_4'\n",
              "            style='display: inline; background: rgba(255.0, 13.0, 87.0, 0.29843533372945136); border-radius: 3px; padding: 0px'\n",
              "            onclick=\"\n",
              "            if (this.previousSibling.style.display == 'none') {\n",
              "                this.previousSibling.style.display = 'block';\n",
              "                this.parentNode.style.display = 'inline-block';\n",
              "            } else {\n",
              "                this.previousSibling.style.display = 'none';\n",
              "                this.parentNode.style.display = 'inline';\n",
              "            }\"\n",
              "            onmouseover=\"document.getElementById('_fb_neikknzkvgjukddvieun_ind_4').style.opacity = 1; document.getElementById('_fs_neikknzkvgjukddvieun_ind_4').style.opacity = 1;\"\n",
              "            onmouseout=\"document.getElementById('_fb_neikknzkvgjukddvieun_ind_4').style.opacity = 0; document.getElementById('_fs_neikknzkvgjukddvieun_ind_4').style.opacity = 0;\"\n",
              "        >a </div></div><div style='display: inline; text-align: center;'\n",
              "    ><div style='display: none; color: #999; padding-top: 0px; font-size: 12px;'>0.503</div\n",
              "        ><div id='_tp_neikknzkvgjukddvieun_ind_5'\n",
              "            style='display: inline; background: rgba(255.0, 13.0, 87.0, 1.0); border-radius: 3px; padding: 0px'\n",
              "            onclick=\"\n",
              "            if (this.previousSibling.style.display == 'none') {\n",
              "                this.previousSibling.style.display = 'block';\n",
              "                this.parentNode.style.display = 'inline-block';\n",
              "            } else {\n",
              "                this.previousSibling.style.display = 'none';\n",
              "                this.parentNode.style.display = 'inline';\n",
              "            }\"\n",
              "            onmouseover=\"document.getElementById('_fb_neikknzkvgjukddvieun_ind_5').style.opacity = 1; document.getElementById('_fs_neikknzkvgjukddvieun_ind_5').style.opacity = 1;\"\n",
              "            onmouseout=\"document.getElementById('_fb_neikknzkvgjukddvieun_ind_5').style.opacity = 0; document.getElementById('_fs_neikknzkvgjukddvieun_ind_5').style.opacity = 0;\"\n",
              "        >useful </div></div><div style='display: inline; text-align: center;'\n",
              "    ><div style='display: none; color: #999; padding-top: 0px; font-size: 12px;'>0.427</div\n",
              "        ><div id='_tp_neikknzkvgjukddvieun_ind_6'\n",
              "            style='display: inline; background: rgba(255.0, 13.0, 87.0, 0.8502277678748268); border-radius: 3px; padding: 0px'\n",
              "            onclick=\"\n",
              "            if (this.previousSibling.style.display == 'none') {\n",
              "                this.previousSibling.style.display = 'block';\n",
              "                this.parentNode.style.display = 'inline-block';\n",
              "            } else {\n",
              "                this.previousSibling.style.display = 'none';\n",
              "                this.parentNode.style.display = 'inline';\n",
              "            }\"\n",
              "            onmouseover=\"document.getElementById('_fb_neikknzkvgjukddvieun_ind_6').style.opacity = 1; document.getElementById('_fs_neikknzkvgjukddvieun_ind_6').style.opacity = 1;\"\n",
              "            onmouseout=\"document.getElementById('_fb_neikknzkvgjukddvieun_ind_6').style.opacity = 0; document.getElementById('_fs_neikknzkvgjukddvieun_ind_6').style.opacity = 0;\"\n",
              "        >explain</div></div><div style='display: inline; text-align: center;'\n",
              "    ><div style='display: none; color: #999; padding-top: 0px; font-size: 12px;'>-0.052</div\n",
              "        ><div id='_tp_neikknzkvgjukddvieun_ind_7'\n",
              "            style='display: inline; background: rgba(30.0, 136.0, 229.0, 0.10136660724896014); border-radius: 3px; padding: 0px'\n",
              "            onclick=\"\n",
              "            if (this.previousSibling.style.display == 'none') {\n",
              "                this.previousSibling.style.display = 'block';\n",
              "                this.parentNode.style.display = 'inline-block';\n",
              "            } else {\n",
              "                this.previousSibling.style.display = 'none';\n",
              "                this.parentNode.style.display = 'inline';\n",
              "            }\"\n",
              "            onmouseover=\"document.getElementById('_fb_neikknzkvgjukddvieun_ind_7').style.opacity = 1; document.getElementById('_fs_neikknzkvgjukddvieun_ind_7').style.opacity = 1;\"\n",
              "            onmouseout=\"document.getElementById('_fb_neikknzkvgjukddvieun_ind_7').style.opacity = 0; document.getElementById('_fs_neikknzkvgjukddvieun_ind_7').style.opacity = 0;\"\n",
              "        >er</div></div><div style='display: inline; text-align: center;'\n",
              "    ><div style='display: none; color: #999; padding-top: 0px; font-size: 12px;'>0.0</div\n",
              "        ><div id='_tp_neikknzkvgjukddvieun_ind_8'\n",
              "            style='display: inline; background: rgba(230.2941176470614, 26.505882352939775, 102.59215686274348, 0.0); border-radius: 3px; padding: 0px'\n",
              "            onclick=\"\n",
              "            if (this.previousSibling.style.display == 'none') {\n",
              "                this.previousSibling.style.display = 'block';\n",
              "                this.parentNode.style.display = 'inline-block';\n",
              "            } else {\n",
              "                this.previousSibling.style.display = 'none';\n",
              "                this.parentNode.style.display = 'inline';\n",
              "            }\"\n",
              "            onmouseover=\"document.getElementById('_fb_neikknzkvgjukddvieun_ind_8').style.opacity = 1; document.getElementById('_fs_neikknzkvgjukddvieun_ind_8').style.opacity = 1;\"\n",
              "            onmouseout=\"document.getElementById('_fb_neikknzkvgjukddvieun_ind_8').style.opacity = 0; document.getElementById('_fs_neikknzkvgjukddvieun_ind_8').style.opacity = 0;\"\n",
              "        ></div></div></div>"
            ],
            "text/plain": [
              "<IPython.core.display.HTML object>"
            ]
          },
          "metadata": {},
          "output_type": "display_data"
        }
      ],
      "source": [
        "import shap\n",
        "# explain the model on the input sentence\n",
        "explainer = shap.Explainer(model) \n",
        "shap_values = explainer([sentence])\n",
        "\n",
        "# visualize the first prediction's explanation for the predicted class\n",
        "predicted_class = result['label']\n",
        "shap.plots.text(shap_values[0, :, predicted_class])"
      ]
    },
    {
      "cell_type": "code",
      "execution_count": 22,
      "metadata": {
        "colab": {
          "base_uri": "https://localhost:8080/"
        },
        "id": "NXg2s3P9prbZ",
        "outputId": "8c4792e6-488a-436c-af4a-5e0d936c410f"
      },
      "outputs": [
        {
          "name": "stdout",
          "output_type": "stream",
          "text": [
            "Word: SHAP, SHAP value: 0.0\n",
            "Word: is, SHAP value: 0.12446051090955734\n",
            "Word: a, SHAP value: 0.17050934582948685\n",
            "Word: useful, SHAP value: -0.11854982748627663\n",
            "Word: explainer, SHAP value: -0.09484541043639183\n"
          ]
        }
      ],
      "source": [
        "# get the sentiment score \n",
        "sentiment_score = model(sentence)[0]['score']\n",
        "\n",
        "# print the SHAP values for each word\n",
        "words = sentence.split(' ')\n",
        "for word, shap_value in zip(words, shap_values.values[0, :, 0]):\n",
        "    print(f\"Word: {word}, SHAP value: {shap_value}\")"
      ]
    }
  ],
  "metadata": {
    "colab": {
      "authorship_tag": "ABX9TyOXZqKpaNrNpAgpxlf1SKZx",
      "provenance": [],
      "toc_visible": true
    },
    "kernelspec": {
      "display_name": "Python 3",
      "name": "python3"
    },
    "language_info": {
      "name": "python"
    }
  },
  "nbformat": 4,
  "nbformat_minor": 0
}
