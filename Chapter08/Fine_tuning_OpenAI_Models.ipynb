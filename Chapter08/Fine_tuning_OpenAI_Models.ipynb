{
  "cells": [
    {
      "cell_type": "markdown",
      "metadata": {
        "id": "3eKj0dub1XC5"
      },
      "source": [
        "#Fine-Tuning OpenAI models\n",
        "\n",
        "Copyright 2024 Denis Rothman\n",
        "\n",
        "**September 2,2024 Update**\n",
        "\n",
        "Starting October 28, 2024, please use **`Chapter08/Fine_tuning_GPT_4o_mini_SQuAd.ipynb`** that you can access through the README file or directly in the GitHub directory.This notebook will no longer be supported after October 28,2024.\n",
        "\n",
        "OpenAI will retire `babbage-002` and `davinci-002` in October 2024:      \n",
        "\"New fine-tuning training runs on babbage-002 and davinci-002 will no longer be supported starting October 28, 2024.\"\n",
        "\n",
        "For more, please consult [OpenAI fine-tuning documentation](https://beta.openai.com/docs/guides/fine-tuning/)\n",
        "\n",
        "Check the cost of fine-tuning your dataset on OpenAI before running the notebook.\n",
        "\n",
        "Run this notebook cell by cell to:\n",
        "\n",
        "1.Preparing the dataset     \n",
        "2.Fine-tunng a model  \n",
        "3.Running the fine-tuned model\n",
        "4.Managing fine-tuned jobs and models     \n",
        "5.Before leaving\n",
        "\n",
        "**April 26, 2024** Step 1.2 has been automated.\n"
      ]
    },
    {
      "cell_type": "markdown",
      "metadata": {
        "id": "s9VPzFA02q9Z"
      },
      "source": [
        "## Installing OpenAI\n",
        "Restart the runtime if necessary after installing openai and run the cell again to make sur that \"import openai\" is executed."
      ]
    },
    {
      "cell_type": "code",
      "execution_count": null,
      "metadata": {
        "colab": {
          "base_uri": "https://localhost:8080/"
        },
        "id": "maEF3GMf1We6",
        "outputId": "7d0a8aec-342e-4fc6-ba5d-4ee6736f734a"
      },
      "outputs": [
        {
          "output_type": "stream",
          "name": "stdout",
          "text": [
            "Collecting openai\n",
            "  Downloading openai-1.23.6-py3-none-any.whl (311 kB)\n",
            "\u001b[2K     \u001b[90m━━━━━━━━━━━━━━━━━━━━━━━━━━━━━━━━━━━━━━━━\u001b[0m \u001b[32m311.6/311.6 kB\u001b[0m \u001b[31m4.4 MB/s\u001b[0m eta \u001b[36m0:00:00\u001b[0m\n",
            "\u001b[?25hRequirement already satisfied: anyio<5,>=3.5.0 in /usr/local/lib/python3.10/dist-packages (from openai) (3.7.1)\n",
            "Requirement already satisfied: distro<2,>=1.7.0 in /usr/lib/python3/dist-packages (from openai) (1.7.0)\n",
            "Collecting httpx<1,>=0.23.0 (from openai)\n",
            "  Downloading httpx-0.27.0-py3-none-any.whl (75 kB)\n",
            "\u001b[2K     \u001b[90m━━━━━━━━━━━━━━━━━━━━━━━━━━━━━━━━━━━━━━━━\u001b[0m \u001b[32m75.6/75.6 kB\u001b[0m \u001b[31m5.8 MB/s\u001b[0m eta \u001b[36m0:00:00\u001b[0m\n",
            "\u001b[?25hRequirement already satisfied: pydantic<3,>=1.9.0 in /usr/local/lib/python3.10/dist-packages (from openai) (2.7.0)\n",
            "Requirement already satisfied: sniffio in /usr/local/lib/python3.10/dist-packages (from openai) (1.3.1)\n",
            "Requirement already satisfied: tqdm>4 in /usr/local/lib/python3.10/dist-packages (from openai) (4.66.2)\n",
            "Requirement already satisfied: typing-extensions<5,>=4.7 in /usr/local/lib/python3.10/dist-packages (from openai) (4.11.0)\n",
            "Requirement already satisfied: idna>=2.8 in /usr/local/lib/python3.10/dist-packages (from anyio<5,>=3.5.0->openai) (3.7)\n",
            "Requirement already satisfied: exceptiongroup in /usr/local/lib/python3.10/dist-packages (from anyio<5,>=3.5.0->openai) (1.2.1)\n",
            "Requirement already satisfied: certifi in /usr/local/lib/python3.10/dist-packages (from httpx<1,>=0.23.0->openai) (2024.2.2)\n",
            "Collecting httpcore==1.* (from httpx<1,>=0.23.0->openai)\n",
            "  Downloading httpcore-1.0.5-py3-none-any.whl (77 kB)\n",
            "\u001b[2K     \u001b[90m━━━━━━━━━━━━━━━━━━━━━━━━━━━━━━━━━━━━━━━━\u001b[0m \u001b[32m77.9/77.9 kB\u001b[0m \u001b[31m5.8 MB/s\u001b[0m eta \u001b[36m0:00:00\u001b[0m\n",
            "\u001b[?25hCollecting h11<0.15,>=0.13 (from httpcore==1.*->httpx<1,>=0.23.0->openai)\n",
            "  Downloading h11-0.14.0-py3-none-any.whl (58 kB)\n",
            "\u001b[2K     \u001b[90m━━━━━━━━━━━━━━━━━━━━━━━━━━━━━━━━━━━━━━━━\u001b[0m \u001b[32m58.3/58.3 kB\u001b[0m \u001b[31m3.1 MB/s\u001b[0m eta \u001b[36m0:00:00\u001b[0m\n",
            "\u001b[?25hRequirement already satisfied: annotated-types>=0.4.0 in /usr/local/lib/python3.10/dist-packages (from pydantic<3,>=1.9.0->openai) (0.6.0)\n",
            "Requirement already satisfied: pydantic-core==2.18.1 in /usr/local/lib/python3.10/dist-packages (from pydantic<3,>=1.9.0->openai) (2.18.1)\n",
            "Installing collected packages: h11, httpcore, httpx, openai\n",
            "Successfully installed h11-0.14.0 httpcore-1.0.5 httpx-0.27.0 openai-1.23.6\n"
          ]
        }
      ],
      "source": [
        "try:\n",
        "  import openai\n",
        "except:\n",
        "  !pip install openai\n",
        "  import openai"
      ]
    },
    {
      "cell_type": "markdown",
      "metadata": {
        "id": "-bfKMG4M29U4"
      },
      "source": [
        "## Your API Key"
      ]
    },
    {
      "cell_type": "code",
      "execution_count": null,
      "metadata": {
        "id": "Eb6gFplQqU5v",
        "outputId": "ab16ffa2-1888-48ee-a89c-8b887c7a7516",
        "colab": {
          "base_uri": "https://localhost:8080/"
        }
      },
      "outputs": [
        {
          "output_type": "stream",
          "name": "stdout",
          "text": [
            "Mounted at /content/drive\n"
          ]
        }
      ],
      "source": [
        "#You can retrieve your API key from a file(1)\n",
        "# or enter it manually(2)\n",
        "\n",
        "#Comment this cell if you want to enter your key manually.\n",
        "#(1)Retrieve the API Key from a file\n",
        "#Store you key in a file and read it(you can type it directly in the notebook but it will be visible for somebody next to you)\n",
        "from google.colab import drive\n",
        "drive.mount('/content/drive')\n",
        "f = open(\"drive/MyDrive/files/api_key.txt\", \"r\")\n",
        "API_KEY=f.readline()\n",
        "f.close()"
      ]
    },
    {
      "cell_type": "code",
      "execution_count": null,
      "metadata": {
        "id": "LwacvzYC5ZxQ"
      },
      "outputs": [],
      "source": [
        "#(2) Enter your manually by\n",
        "# replacing API_KEY by your key.\n",
        "#The OpenAI Key\n",
        "import os\n",
        "os.environ['OPENAI_API_KEY'] =API_KEY\n",
        "openai.api_key = os.getenv(\"OPENAI_API_KEY\")"
      ]
    },
    {
      "cell_type": "markdown",
      "metadata": {
        "id": "k-MAI-1E2RJp"
      },
      "source": [
        "# 1.Preparing the dataset"
      ]
    },
    {
      "cell_type": "markdown",
      "metadata": {
        "id": "ll-77RgaeLUa"
      },
      "source": [
        "## 1.1. Preparing the data in JSON"
      ]
    },
    {
      "cell_type": "code",
      "execution_count": null,
      "metadata": {
        "colab": {
          "base_uri": "https://localhost:8080/"
        },
        "id": "5Yn8Xe1ciRIV",
        "outputId": "e2319aee-d1d1-4662-8858-196623dece35"
      },
      "outputs": [
        {
          "output_type": "stream",
          "name": "stderr",
          "text": [
            "[nltk_data] Downloading package punkt to /root/nltk_data...\n",
            "[nltk_data]   Unzipping tokenizers/punkt.zip.\n"
          ]
        },
        {
          "output_type": "stream",
          "name": "stdout",
          "text": [
            "  % Total    % Received % Xferd  Average Speed   Time    Time     Time  Current\n",
            "                                 Dload  Upload   Total   Spent    Left  Speed\n",
            "100 1295k  100 1295k    0     0  2880k      0 --:--:-- --:--:-- --:--:-- 2878k\n"
          ]
        }
      ],
      "source": [
        "#From Gutenberg to JSON\n",
        "import nltk\n",
        "nltk.download('punkt')\n",
        "from nltk.tokenize import sent_tokenize\n",
        "import requests\n",
        "from bs4 import BeautifulSoup\n",
        "import json\n",
        "import re\n",
        "\n",
        "# First, fetch the text of the book\n",
        "# Option 1: from Project Gutenberg\n",
        "#url = 'http://www.gutenberg.org/cache/epub/4280/pg4280.html'\n",
        "#response = requests.get(url)\n",
        "#soup = BeautifulSoup(response.content, 'html.parser')\n",
        "\n",
        "# Option 2: from the GitHub repository:\n",
        "!curl -L https://raw.githubusercontent.com/Denis2054/Transformers-for-NLP-and-Computer-Vision-3rd-Edition/master/Chapter08/gutenberg.org_cache_epub_4280_pg4280.html --output \"gutenberg.org_cache_epub_4280_pg4280.html\"\n",
        "\n",
        "# Open and read the downloaded HTML file\n",
        "with open(\"gutenberg.org_cache_epub_4280_pg4280.html\", 'r', encoding='utf-8') as file:\n",
        "    file_contents = file.read()\n",
        "\n",
        "# Parse the file contents using BeautifulSoup\n",
        "soup = BeautifulSoup(file_contents, 'html.parser')\n",
        "\n",
        "# Get the text of the book and clean it up a bit\n",
        "text = soup.get_text()\n",
        "text = re.sub('\\s+', ' ', text).strip()\n",
        "\n",
        "# Split the text into sentences\n",
        "sentences = sent_tokenize(text)\n",
        "\n",
        "# Define the separator and ending\n",
        "prompt_separator = \" ->\"\n",
        "completion_ending = \"\\n\"\n",
        "\n",
        "# Now create the prompts and completions\n",
        "data = []\n",
        "for i in range(len(sentences) - 1):\n",
        "    data.append({\n",
        "        \"prompt\": sentences[i] + prompt_separator,\n",
        "        \"completion\": \" \" + sentences[i + 1] + completion_ending\n",
        "    })\n",
        "\n",
        "# Write the prompts and completions to a file\n",
        "with open('kant_prompts_and_completions.json', 'w') as f:\n",
        "    for line in data:\n",
        "        f.write(json.dumps(line) + '\\n')"
      ]
    },
    {
      "cell_type": "code",
      "execution_count": null,
      "metadata": {
        "colab": {
          "base_uri": "https://localhost:8080/",
          "height": 423
        },
        "id": "ut59UvQ5e0ZX",
        "outputId": "572dfec6-367d-4b19-dde9-7fd8cd70a8c7"
      },
      "outputs": [
        {
          "output_type": "execute_result",
          "data": {
            "text/plain": [
              "                                                 prompt  \\\n",
              "0     The Project Gutenberg Etext of The Critique of...   \n",
              "1     Be sure to check the copyright laws for your c...   \n",
              "2     We encourage you to keep this file, exactly as...   \n",
              "3                         Please do not remove this. ->   \n",
              "4     This header should be the first thing seen whe...   \n",
              "...                                                 ...   \n",
              "6122  78-79. is their motto, under which they may le...   \n",
              "6123  As regards those who wish to pursue a scientif...   \n",
              "6124  When I mention, in relation to the former, the...   \n",
              "6125          The critical path alone is still open. ->   \n",
              "6126  If my reader has been kind and patient enough ...   \n",
              "\n",
              "                                             completion  \n",
              "0      Be sure to check the copyright laws for your ...  \n",
              "1      We encourage you to keep this file, exactly a...  \n",
              "2                          Please do not remove this.\\n  \n",
              "3      This header should be the first thing seen wh...  \n",
              "4      Do not change or edit it without written perm...  \n",
              "...                                                 ...  \n",
              "6122   As regards those who wish to pursue a scienti...  \n",
              "6123   When I mention, in relation to the former, th...  \n",
              "6124           The critical path alone is still open.\\n  \n",
              "6125   If my reader has been kind and patient enough...  \n",
              "6126   End of Project Gutenberg's The Critique of Pu...  \n",
              "\n",
              "[6127 rows x 2 columns]"
            ],
            "text/html": [
              "\n",
              "  <div id=\"df-ee9146e5-6a71-4e5d-ad1b-e4a11c344184\" class=\"colab-df-container\">\n",
              "    <div>\n",
              "<style scoped>\n",
              "    .dataframe tbody tr th:only-of-type {\n",
              "        vertical-align: middle;\n",
              "    }\n",
              "\n",
              "    .dataframe tbody tr th {\n",
              "        vertical-align: top;\n",
              "    }\n",
              "\n",
              "    .dataframe thead th {\n",
              "        text-align: right;\n",
              "    }\n",
              "</style>\n",
              "<table border=\"1\" class=\"dataframe\">\n",
              "  <thead>\n",
              "    <tr style=\"text-align: right;\">\n",
              "      <th></th>\n",
              "      <th>prompt</th>\n",
              "      <th>completion</th>\n",
              "    </tr>\n",
              "  </thead>\n",
              "  <tbody>\n",
              "    <tr>\n",
              "      <th>0</th>\n",
              "      <td>The Project Gutenberg Etext of The Critique of...</td>\n",
              "      <td>Be sure to check the copyright laws for your ...</td>\n",
              "    </tr>\n",
              "    <tr>\n",
              "      <th>1</th>\n",
              "      <td>Be sure to check the copyright laws for your c...</td>\n",
              "      <td>We encourage you to keep this file, exactly a...</td>\n",
              "    </tr>\n",
              "    <tr>\n",
              "      <th>2</th>\n",
              "      <td>We encourage you to keep this file, exactly as...</td>\n",
              "      <td>Please do not remove this.\\n</td>\n",
              "    </tr>\n",
              "    <tr>\n",
              "      <th>3</th>\n",
              "      <td>Please do not remove this. -&gt;</td>\n",
              "      <td>This header should be the first thing seen wh...</td>\n",
              "    </tr>\n",
              "    <tr>\n",
              "      <th>4</th>\n",
              "      <td>This header should be the first thing seen whe...</td>\n",
              "      <td>Do not change or edit it without written perm...</td>\n",
              "    </tr>\n",
              "    <tr>\n",
              "      <th>...</th>\n",
              "      <td>...</td>\n",
              "      <td>...</td>\n",
              "    </tr>\n",
              "    <tr>\n",
              "      <th>6122</th>\n",
              "      <td>78-79. is their motto, under which they may le...</td>\n",
              "      <td>As regards those who wish to pursue a scienti...</td>\n",
              "    </tr>\n",
              "    <tr>\n",
              "      <th>6123</th>\n",
              "      <td>As regards those who wish to pursue a scientif...</td>\n",
              "      <td>When I mention, in relation to the former, th...</td>\n",
              "    </tr>\n",
              "    <tr>\n",
              "      <th>6124</th>\n",
              "      <td>When I mention, in relation to the former, the...</td>\n",
              "      <td>The critical path alone is still open.\\n</td>\n",
              "    </tr>\n",
              "    <tr>\n",
              "      <th>6125</th>\n",
              "      <td>The critical path alone is still open. -&gt;</td>\n",
              "      <td>If my reader has been kind and patient enough...</td>\n",
              "    </tr>\n",
              "    <tr>\n",
              "      <th>6126</th>\n",
              "      <td>If my reader has been kind and patient enough ...</td>\n",
              "      <td>End of Project Gutenberg's The Critique of Pu...</td>\n",
              "    </tr>\n",
              "  </tbody>\n",
              "</table>\n",
              "<p>6127 rows × 2 columns</p>\n",
              "</div>\n",
              "    <div class=\"colab-df-buttons\">\n",
              "\n",
              "  <div class=\"colab-df-container\">\n",
              "    <button class=\"colab-df-convert\" onclick=\"convertToInteractive('df-ee9146e5-6a71-4e5d-ad1b-e4a11c344184')\"\n",
              "            title=\"Convert this dataframe to an interactive table.\"\n",
              "            style=\"display:none;\">\n",
              "\n",
              "  <svg xmlns=\"http://www.w3.org/2000/svg\" height=\"24px\" viewBox=\"0 -960 960 960\">\n",
              "    <path d=\"M120-120v-720h720v720H120Zm60-500h600v-160H180v160Zm220 220h160v-160H400v160Zm0 220h160v-160H400v160ZM180-400h160v-160H180v160Zm440 0h160v-160H620v160ZM180-180h160v-160H180v160Zm440 0h160v-160H620v160Z\"/>\n",
              "  </svg>\n",
              "    </button>\n",
              "\n",
              "  <style>\n",
              "    .colab-df-container {\n",
              "      display:flex;\n",
              "      gap: 12px;\n",
              "    }\n",
              "\n",
              "    .colab-df-convert {\n",
              "      background-color: #E8F0FE;\n",
              "      border: none;\n",
              "      border-radius: 50%;\n",
              "      cursor: pointer;\n",
              "      display: none;\n",
              "      fill: #1967D2;\n",
              "      height: 32px;\n",
              "      padding: 0 0 0 0;\n",
              "      width: 32px;\n",
              "    }\n",
              "\n",
              "    .colab-df-convert:hover {\n",
              "      background-color: #E2EBFA;\n",
              "      box-shadow: 0px 1px 2px rgba(60, 64, 67, 0.3), 0px 1px 3px 1px rgba(60, 64, 67, 0.15);\n",
              "      fill: #174EA6;\n",
              "    }\n",
              "\n",
              "    .colab-df-buttons div {\n",
              "      margin-bottom: 4px;\n",
              "    }\n",
              "\n",
              "    [theme=dark] .colab-df-convert {\n",
              "      background-color: #3B4455;\n",
              "      fill: #D2E3FC;\n",
              "    }\n",
              "\n",
              "    [theme=dark] .colab-df-convert:hover {\n",
              "      background-color: #434B5C;\n",
              "      box-shadow: 0px 1px 3px 1px rgba(0, 0, 0, 0.15);\n",
              "      filter: drop-shadow(0px 1px 2px rgba(0, 0, 0, 0.3));\n",
              "      fill: #FFFFFF;\n",
              "    }\n",
              "  </style>\n",
              "\n",
              "    <script>\n",
              "      const buttonEl =\n",
              "        document.querySelector('#df-ee9146e5-6a71-4e5d-ad1b-e4a11c344184 button.colab-df-convert');\n",
              "      buttonEl.style.display =\n",
              "        google.colab.kernel.accessAllowed ? 'block' : 'none';\n",
              "\n",
              "      async function convertToInteractive(key) {\n",
              "        const element = document.querySelector('#df-ee9146e5-6a71-4e5d-ad1b-e4a11c344184');\n",
              "        const dataTable =\n",
              "          await google.colab.kernel.invokeFunction('convertToInteractive',\n",
              "                                                    [key], {});\n",
              "        if (!dataTable) return;\n",
              "\n",
              "        const docLinkHtml = 'Like what you see? Visit the ' +\n",
              "          '<a target=\"_blank\" href=https://colab.research.google.com/notebooks/data_table.ipynb>data table notebook</a>'\n",
              "          + ' to learn more about interactive tables.';\n",
              "        element.innerHTML = '';\n",
              "        dataTable['output_type'] = 'display_data';\n",
              "        await google.colab.output.renderOutput(dataTable, element);\n",
              "        const docLink = document.createElement('div');\n",
              "        docLink.innerHTML = docLinkHtml;\n",
              "        element.appendChild(docLink);\n",
              "      }\n",
              "    </script>\n",
              "  </div>\n",
              "\n",
              "\n",
              "<div id=\"df-880101ed-11bc-437d-9a02-852ef0ef841d\">\n",
              "  <button class=\"colab-df-quickchart\" onclick=\"quickchart('df-880101ed-11bc-437d-9a02-852ef0ef841d')\"\n",
              "            title=\"Suggest charts\"\n",
              "            style=\"display:none;\">\n",
              "\n",
              "<svg xmlns=\"http://www.w3.org/2000/svg\" height=\"24px\"viewBox=\"0 0 24 24\"\n",
              "     width=\"24px\">\n",
              "    <g>\n",
              "        <path d=\"M19 3H5c-1.1 0-2 .9-2 2v14c0 1.1.9 2 2 2h14c1.1 0 2-.9 2-2V5c0-1.1-.9-2-2-2zM9 17H7v-7h2v7zm4 0h-2V7h2v10zm4 0h-2v-4h2v4z\"/>\n",
              "    </g>\n",
              "</svg>\n",
              "  </button>\n",
              "\n",
              "<style>\n",
              "  .colab-df-quickchart {\n",
              "      --bg-color: #E8F0FE;\n",
              "      --fill-color: #1967D2;\n",
              "      --hover-bg-color: #E2EBFA;\n",
              "      --hover-fill-color: #174EA6;\n",
              "      --disabled-fill-color: #AAA;\n",
              "      --disabled-bg-color: #DDD;\n",
              "  }\n",
              "\n",
              "  [theme=dark] .colab-df-quickchart {\n",
              "      --bg-color: #3B4455;\n",
              "      --fill-color: #D2E3FC;\n",
              "      --hover-bg-color: #434B5C;\n",
              "      --hover-fill-color: #FFFFFF;\n",
              "      --disabled-bg-color: #3B4455;\n",
              "      --disabled-fill-color: #666;\n",
              "  }\n",
              "\n",
              "  .colab-df-quickchart {\n",
              "    background-color: var(--bg-color);\n",
              "    border: none;\n",
              "    border-radius: 50%;\n",
              "    cursor: pointer;\n",
              "    display: none;\n",
              "    fill: var(--fill-color);\n",
              "    height: 32px;\n",
              "    padding: 0;\n",
              "    width: 32px;\n",
              "  }\n",
              "\n",
              "  .colab-df-quickchart:hover {\n",
              "    background-color: var(--hover-bg-color);\n",
              "    box-shadow: 0 1px 2px rgba(60, 64, 67, 0.3), 0 1px 3px 1px rgba(60, 64, 67, 0.15);\n",
              "    fill: var(--button-hover-fill-color);\n",
              "  }\n",
              "\n",
              "  .colab-df-quickchart-complete:disabled,\n",
              "  .colab-df-quickchart-complete:disabled:hover {\n",
              "    background-color: var(--disabled-bg-color);\n",
              "    fill: var(--disabled-fill-color);\n",
              "    box-shadow: none;\n",
              "  }\n",
              "\n",
              "  .colab-df-spinner {\n",
              "    border: 2px solid var(--fill-color);\n",
              "    border-color: transparent;\n",
              "    border-bottom-color: var(--fill-color);\n",
              "    animation:\n",
              "      spin 1s steps(1) infinite;\n",
              "  }\n",
              "\n",
              "  @keyframes spin {\n",
              "    0% {\n",
              "      border-color: transparent;\n",
              "      border-bottom-color: var(--fill-color);\n",
              "      border-left-color: var(--fill-color);\n",
              "    }\n",
              "    20% {\n",
              "      border-color: transparent;\n",
              "      border-left-color: var(--fill-color);\n",
              "      border-top-color: var(--fill-color);\n",
              "    }\n",
              "    30% {\n",
              "      border-color: transparent;\n",
              "      border-left-color: var(--fill-color);\n",
              "      border-top-color: var(--fill-color);\n",
              "      border-right-color: var(--fill-color);\n",
              "    }\n",
              "    40% {\n",
              "      border-color: transparent;\n",
              "      border-right-color: var(--fill-color);\n",
              "      border-top-color: var(--fill-color);\n",
              "    }\n",
              "    60% {\n",
              "      border-color: transparent;\n",
              "      border-right-color: var(--fill-color);\n",
              "    }\n",
              "    80% {\n",
              "      border-color: transparent;\n",
              "      border-right-color: var(--fill-color);\n",
              "      border-bottom-color: var(--fill-color);\n",
              "    }\n",
              "    90% {\n",
              "      border-color: transparent;\n",
              "      border-bottom-color: var(--fill-color);\n",
              "    }\n",
              "  }\n",
              "</style>\n",
              "\n",
              "  <script>\n",
              "    async function quickchart(key) {\n",
              "      const quickchartButtonEl =\n",
              "        document.querySelector('#' + key + ' button');\n",
              "      quickchartButtonEl.disabled = true;  // To prevent multiple clicks.\n",
              "      quickchartButtonEl.classList.add('colab-df-spinner');\n",
              "      try {\n",
              "        const charts = await google.colab.kernel.invokeFunction(\n",
              "            'suggestCharts', [key], {});\n",
              "      } catch (error) {\n",
              "        console.error('Error during call to suggestCharts:', error);\n",
              "      }\n",
              "      quickchartButtonEl.classList.remove('colab-df-spinner');\n",
              "      quickchartButtonEl.classList.add('colab-df-quickchart-complete');\n",
              "    }\n",
              "    (() => {\n",
              "      let quickchartButtonEl =\n",
              "        document.querySelector('#df-880101ed-11bc-437d-9a02-852ef0ef841d button');\n",
              "      quickchartButtonEl.style.display =\n",
              "        google.colab.kernel.accessAllowed ? 'block' : 'none';\n",
              "    })();\n",
              "  </script>\n",
              "</div>\n",
              "    </div>\n",
              "  </div>\n"
            ],
            "application/vnd.google.colaboratory.intrinsic+json": {
              "type": "dataframe",
              "variable_name": "df",
              "summary": "{\n  \"name\": \"df\",\n  \"rows\": 6127,\n  \"fields\": [\n    {\n      \"column\": \"prompt\",\n      \"properties\": {\n        \"dtype\": \"string\",\n        \"num_unique_values\": 5983,\n        \"samples\": [\n          \"Thus, our numeration (and this is more observable in large numbers) is a synthesis according to conceptions, because it takes place according to a common basis of unity (for example, the decade). ->\",\n          \"To maintain a simply negative position in relation to propositions which rest on an insecure foundation, well befits the moderation of a true philosopher; but to uphold the objections urged against an opponent as proofs of the opposite statement is a proceeding just as unwarrantable and arrogant as it is to attack the position of a philosopher who advances affirmative propositions regarding such a subject. ->\",\n          \"So much the wider field, it may appear, lies open to hypothesis; as, where we cannot know with certainty, we are at liberty to make guesses and to form suppositions. ->\"\n        ],\n        \"semantic_type\": \"\",\n        \"description\": \"\"\n      }\n    },\n    {\n      \"column\": \"completion\",\n      \"properties\": {\n        \"dtype\": \"string\",\n        \"num_unique_values\": 5983,\n        \"samples\": [\n          \" By means of this conception, therefore, the unity in the synthesis of the manifold becomes necessary.\\n\",\n          \" It is evident, therefore, that hypotheses, in the speculative sphere, are valid, not as independent propositions, but only relatively to opposite transcendent assumptions.\\n\",\n          \" Imagination may be allowed, under the strict surveillance of reason, to invent suppositions; but, these must be based on something that is perfectly certain\\u2014and that is the possibility of the object.\\n\"\n        ],\n        \"semantic_type\": \"\",\n        \"description\": \"\"\n      }\n    }\n  ]\n}"
            }
          },
          "metadata": {},
          "execution_count": 5
        }
      ],
      "source": [
        "import pandas as pd\n",
        "\n",
        "# Load the data\n",
        "df = pd.read_json('kant_prompts_and_completions.json', lines=True)\n",
        "df"
      ]
    },
    {
      "cell_type": "markdown",
      "metadata": {
        "id": "rC5FIgJ37uKB"
      },
      "source": [
        "##  1.2. Converting the data to JSONL\n",
        "\n",
        "Answer the questions as necessary for your project.\n",
        "\n",
        "**April 26, 2024** This [Y/n] has been automated.\n",
        "Your data will be written to a new JSONL file. Proceed [Y/n]: Y\n",
        "\n",
        "The following information is provided in interactive mode:\n",
        "\n",
        "\n",
        "```\n",
        "Wrote modified file to `kant_prompts_and_completions_prepared.jsonl`\n",
        "Feel free to take a look!\n",
        "\n",
        "Now use that file when fine-tuning:\n",
        "> openai api fine_tunes.create -t \"kant_prompts_and_completions_prepared.jsonl\"\n",
        "\n",
        "After you’ve fine-tuned a model, remember that your prompt has to end with the indicator string ` ->` for the model to start generating completions, rather than continuing with the prompt. Make sure to include `stop=[\"\\n\"]` so that the generated texts ends at the expected place.\n",
        "Once your model starts training, it'll approximately take 1.44 hours to train a `curie` model, and less for `ada` and `babbage`. Queue will approximately take half an hour per job ahead of you.\n",
        "\n",
        "```\n",
        "\n"
      ]
    },
    {
      "cell_type": "code",
      "execution_count": null,
      "metadata": {
        "colab": {
          "base_uri": "https://localhost:8080/"
        },
        "id": "A8ZoW1Dn5u7x",
        "outputId": "39405268-f196-4b8c-e822-9589adf7ba28"
      },
      "outputs": [
        {
          "output_type": "stream",
          "name": "stdout",
          "text": [
            "Analyzing...\n",
            "\n",
            "- Your JSON file appears to be in a JSONL format. Your file will be converted to JSONL format\n",
            "- Your file contains 6127 prompt-completion pairs\n",
            "- All prompts end with suffix ` ->`\n",
            "- All completions end with suffix `\\n`\n",
            "\n",
            "Based on the analysis we will perform the following actions:\n",
            "- [Necessary] Your format `JSON` will be converted to `JSONL`\n",
            "\n",
            "\n",
            "Your data will be written to a new JSONL file. Proceed [Y/n]: \n",
            "Wrote modified file to `kant_prompts_and_completions_prepared.jsonl`\n",
            "Feel free to take a look!\n",
            "\n",
            "Now use that file when fine-tuning:\n",
            "> openai api fine_tunes.create -t \"kant_prompts_and_completions_prepared.jsonl\"\n",
            "\n",
            "After you’ve fine-tuned a model, remember that your prompt has to end with the indicator string ` ->` for the model to start generating completions, rather than continuing with the prompt. Make sure to include `stop=[\"\\n\"]` so that the generated texts ends at the expected place.\n",
            "Once your model starts training, it'll approximately take 1.44 hours to train a `curie` model, and less for `ada` and `babbage`. Queue will approximately take half an hour per job ahead of you.\n"
          ]
        }
      ],
      "source": [
        "! yes | openai tools fine_tunes.prepare_data -f \"kant_prompts_and_completions.json\"\n",
        "#uncomment to run in interactive mode\n",
        "#!openai tools fine_tunes.prepare_data -f \"kant_prompts_and_completions.json\""
      ]
    },
    {
      "cell_type": "code",
      "execution_count": null,
      "metadata": {
        "colab": {
          "base_uri": "https://localhost:8080/"
        },
        "id": "nf30vW4Wizop",
        "outputId": "c4f07b9d-2e1f-4a29-ac95-caf4821451ed"
      },
      "outputs": [
        {
          "output_type": "stream",
          "name": "stdout",
          "text": [
            "{\n",
            "    \"prompt\": \"For he found that it was not sufficient to meditate on the figure, as it lay before his eyes, or the conception of it, as it existed in his mind, and thus endeavour to get at the knowledge of its properties, but that it was necessary to produce these properties, as it were, by a positive a priori construction; and that, in order to arrive with certainty at a priori cognition, he must not attribute to the object any other properties than those which necessarily followed from that which he had himself, in accordance with his conception, placed in the object. ->\",\n",
            "    \"completion\": \" A much longer period elapsed before physics entered on the highway of science.\\n\"\n",
            "}\n",
            "{\n",
            "    \"prompt\": \"A much longer period elapsed before physics entered on the highway of science. ->\",\n",
            "    \"completion\": \" For it is only about a century and a half since the wise Bacon gave a new direction to physical studies, or rather\\u2014as others were already on the right track\\u2014imparted fresh vigour to the pursuit of this new direction.\\n\"\n",
            "}\n",
            "{\n",
            "    \"prompt\": \"For it is only about a century and a half since the wise Bacon gave a new direction to physical studies, or rather\\u2014as others were already on the right track\\u2014imparted fresh vigour to the pursuit of this new direction. ->\",\n",
            "    \"completion\": \" Here, too, as in the case of mathematics, we find evidence of a rapid intellectual revolution.\\n\"\n",
            "}\n",
            "{\n",
            "    \"prompt\": \"Here, too, as in the case of mathematics, we find evidence of a rapid intellectual revolution. ->\",\n",
            "    \"completion\": \" In the remarks which follow I shall confine myself to the empirical side of natural science.\\n\"\n",
            "}\n",
            "{\n",
            "    \"prompt\": \"In the remarks which follow I shall confine myself to the empirical side of natural science. ->\",\n",
            "    \"completion\": \" When Galilei experimented with balls of a definite weight on the inclined plane, when Torricelli caused the air to sustain a weight which he had calculated beforehand to be equal to that of a definite column of water, or when Stahl, at a later period, converted metals into lime, and reconverted lime into metal, by the addition and subtraction of certain elements; [Footnote: I do not here follow with exactness the history of the experimental method, of which, indeed, the first steps are involved in some obscurity.]\\n\"\n",
            "}\n",
            "{\n",
            "    \"prompt\": \"When Galilei experimented with balls of a definite weight on the inclined plane, when Torricelli caused the air to sustain a weight which he had calculated beforehand to be equal to that of a definite column of water, or when Stahl, at a later period, converted metals into lime, and reconverted lime into metal, by the addition and subtraction of certain elements; [Footnote: I do not here follow with exactness the history of the experimental method, of which, indeed, the first steps are involved in some obscurity.] ->\",\n",
            "    \"completion\": \" a light broke upon all natural philosophers.\\n\"\n",
            "}\n",
            "{\n",
            "    \"prompt\": \"a light broke upon all natural philosophers. ->\",\n",
            "    \"completion\": \" They learned that reason only perceives that which it produces after its own design; that it must not be content to follow, as it were, in the leading-strings of nature, but must proceed in advance with principles of judgement according to unvarying laws, and compel nature to reply its questions.\\n\"\n",
            "}\n",
            "{\n",
            "    \"prompt\": \"They learned that reason only perceives that which it produces after its own design; that it must not be content to follow, as it were, in the leading-strings of nature, but must proceed in advance with principles of judgement according to unvarying laws, and compel nature to reply its questions. ->\",\n",
            "    \"completion\": \" For accidental observations, made according to no preconceived plan, cannot be united under a necessary law.\\n\"\n",
            "}\n",
            "{\n",
            "    \"prompt\": \"For accidental observations, made according to no preconceived plan, cannot be united under a necessary law. ->\",\n",
            "    \"completion\": \" But it is this that reason seeks for and requires.\\n\"\n",
            "}\n",
            "{\n",
            "    \"prompt\": \"But it is this that reason seeks for and requires. ->\",\n",
            "    \"completion\": \" It is only the principles of reason which can give to concordant phenomena the validity of laws, and it is only when experiment is directed by these rational principles that it can have any real utility.\\n\"\n",
            "}\n",
            "{\n",
            "    \"prompt\": \"It is only the principles of reason which can give to concordant phenomena the validity of laws, and it is only when experiment is directed by these rational principles that it can have any real utility. ->\",\n",
            "    \"completion\": \" Reason must approach nature with the view, indeed, of receiving information from it, not, however, in the character of a pupil, who listens to all that his master chooses to tell him, but in that of a judge, who compels the witnesses to reply to those questions which he himself thinks fit to propose.\\n\"\n",
            "}\n",
            "{\n",
            "    \"prompt\": \"Reason must approach nature with the view, indeed, of receiving information from it, not, however, in the character of a pupil, who listens to all that his master chooses to tell him, but in that of a judge, who compels the witnesses to reply to those questions which he himself thinks fit to propose. ->\",\n",
            "    \"completion\": \" To this single idea must the revolution be ascribed, by which, after groping in the dark for so many centuries, natural science was at length conducted into the path of certain progress.\\n\"\n",
            "}\n",
            "{\n",
            "    \"prompt\": \"To this single idea must the revolution be ascribed, by which, after groping in the dark for so many centuries, natural science was at length conducted into the path of certain progress. ->\",\n",
            "    \"completion\": \" We come now to metaphysics, a purely speculative science, which occupies a completely isolated position and is entirely independent of the teachings of experience.\\n\"\n",
            "}\n",
            "{\n",
            "    \"prompt\": \"We come now to metaphysics, a purely speculative science, which occupies a completely isolated position and is entirely independent of the teachings of experience. ->\",\n",
            "    \"completion\": \" It deals with mere conceptions\\u2014not, like mathematics, with conceptions applied to intuition\\u2014and in it, reason is the pupil of itself alone.\\n\"\n",
            "}\n",
            "{\n",
            "    \"prompt\": \"It deals with mere conceptions\\u2014not, like mathematics, with conceptions applied to intuition\\u2014and in it, reason is the pupil of itself alone. ->\",\n",
            "    \"completion\": \" It is the oldest of the sciences, and would still survive, even if all the rest were swallowed up in the abyss of an all-destroying barbarism.\\n\"\n",
            "}\n",
            "{\n",
            "    \"prompt\": \"It is the oldest of the sciences, and would still survive, even if all the rest were swallowed up in the abyss of an all-destroying barbarism. ->\",\n",
            "    \"completion\": \" But it has not yet had the good fortune to attain to the sure scientific method.\\n\"\n",
            "}\n",
            "{\n",
            "    \"prompt\": \"But it has not yet had the good fortune to attain to the sure scientific method. ->\",\n",
            "    \"completion\": \" This will be apparent; if we apply the tests which we proposed at the outset.\\n\"\n",
            "}\n",
            "{\n",
            "    \"prompt\": \"This will be apparent; if we apply the tests which we proposed at the outset. ->\",\n",
            "    \"completion\": \" We find that reason perpetually comes to a stand, when it attempts to gain a priori the perception even of those laws which the most common experience confirms.\\n\"\n",
            "}\n",
            "{\n",
            "    \"prompt\": \"We find that reason perpetually comes to a stand, when it attempts to gain a priori the perception even of those laws which the most common experience confirms. ->\",\n",
            "    \"completion\": \" We find it compelled to retrace its steps in innumerable instances, and to abandon the path on which it had entered, because this does not lead to the desired result.\\n\"\n",
            "}\n",
            "{\n",
            "    \"prompt\": \"We find it compelled to retrace its steps in innumerable instances, and to abandon the path on which it had entered, because this does not lead to the desired result. ->\",\n",
            "    \"completion\": \" We find, too, that those who are engaged in metaphysical pursuits are far from being able to agree among themselves, but that, on the contrary, this science appears to furnish an arena specially adapted for the display of skill or the exercise of strength in mock-contests\\u2014 a field in which no combatant ever yet succeeded in gaining an inch of ground, in which, at least, no victory was ever yet crowned with permanent possession.\\n\"\n",
            "}\n",
            "{\n",
            "    \"prompt\": \"We find, too, that those who are engaged in metaphysical pursuits are far from being able to agree among themselves, but that, on the contrary, this science appears to furnish an arena specially adapted for the display of skill or the exercise of strength in mock-contests\\u2014 a field in which no combatant ever yet succeeded in gaining an inch of ground, in which, at least, no victory was ever yet crowned with permanent possession. ->\",\n",
            "    \"completion\": \" This leads us to inquire why it is that, in metaphysics, the sure path of science has not hitherto been found.\\n\"\n",
            "}\n",
            "{\n",
            "    \"prompt\": \"This leads us to inquire why it is that, in metaphysics, the sure path of science has not hitherto been found. ->\",\n",
            "    \"completion\": \" Shall we suppose that it is impossible to discover it?\\n\"\n",
            "}\n",
            "{\n",
            "    \"prompt\": \"Shall we suppose that it is impossible to discover it? ->\",\n",
            "    \"completion\": \" Why then should nature have visited our reason with restless aspirations after it, as if it were one of our weightiest concerns?\\n\"\n",
            "}\n",
            "{\n",
            "    \"prompt\": \"Why then should nature have visited our reason with restless aspirations after it, as if it were one of our weightiest concerns? ->\",\n",
            "    \"completion\": \" Nay, more, how little cause should we have to place confidence in our reason, if it abandons us in a matter about which, most of all, we desire to know the truth\\u2014and not only so, but even allures us to the pursuit of vain phantoms, only to betray us in the end?\\n\"\n",
            "}\n",
            "{\n",
            "    \"prompt\": \"Nay, more, how little cause should we have to place confidence in our reason, if it abandons us in a matter about which, most of all, we desire to know the truth\\u2014and not only so, but even allures us to the pursuit of vain phantoms, only to betray us in the end? ->\",\n",
            "    \"completion\": \" Or, if the path has only hitherto been missed, what indications do we possess to guide us in a renewed investigation, and to enable us to hope for greater success than has fallen to the lot of our predecessors?\\n\"\n",
            "}\n",
            "{\n",
            "    \"prompt\": \"Or, if the path has only hitherto been missed, what indications do we possess to guide us in a renewed investigation, and to enable us to hope for greater success than has fallen to the lot of our predecessors? ->\",\n",
            "    \"completion\": \" It appears to me that the examples of mathematics and natural philosophy, which, as we have seen, were brought into their present condition by a sudden revolution, are sufficiently remarkable to fix our attention on the essential circumstances of the change which has proved so advantageous to them, and to induce us to make the experiment of imitating them, so far as the analogy which, as rational sciences, they bear to metaphysics may permit.\\n\"\n",
            "}\n",
            "{\n",
            "    \"prompt\": \"It appears to me that the examples of mathematics and natural philosophy, which, as we have seen, were brought into their present condition by a sudden revolution, are sufficiently remarkable to fix our attention on the essential circumstances of the change which has proved so advantageous to them, and to induce us to make the experiment of imitating them, so far as the analogy which, as rational sciences, they bear to metaphysics may permit. ->\",\n",
            "    \"completion\": \" It has hitherto been assumed that our cognition must conform to the objects; but all attempts to ascertain anything about these objects a priori, by means of conceptions, and thus to extend the range of our knowledge, have been rendered abortive by this assumption.\\n\"\n",
            "}\n",
            "{\n",
            "    \"prompt\": \"It has hitherto been assumed that our cognition must conform to the objects; but all attempts to ascertain anything about these objects a priori, by means of conceptions, and thus to extend the range of our knowledge, have been rendered abortive by this assumption. ->\",\n",
            "    \"completion\": \" Let us then make the experiment whether we may not be more successful in metaphysics, if we assume that the objects must conform to our cognition.\\n\"\n",
            "}\n",
            "{\n",
            "    \"prompt\": \"Let us then make the experiment whether we may not be more successful in metaphysics, if we assume that the objects must conform to our cognition. ->\",\n",
            "    \"completion\": \" This appears, at all events, to accord better with the possibility of our gaining the end we have in view, that is to say, of arriving at the cognition of objects a priori, of determining something with respect to these objects, before they are given to us.\\n\"\n",
            "}\n",
            "{\n",
            "    \"prompt\": \"This appears, at all events, to accord better with the possibility of our gaining the end we have in view, that is to say, of arriving at the cognition of objects a priori, of determining something with respect to these objects, before they are given to us. ->\",\n",
            "    \"completion\": \" We here propose to do just what Copernicus did in attempting to explain the celestial movements.\\n\"\n",
            "}\n",
            "{\n",
            "    \"prompt\": \"We here propose to do just what Copernicus did in attempting to explain the celestial movements. ->\",\n",
            "    \"completion\": \" When he found that he could make no progress by assuming that all the heavenly bodies revolved round the spectator, he reversed the process, and tried the experiment of assuming that the spectator revolved, while the stars remained at rest.\\n\"\n",
            "}\n",
            "{\n",
            "    \"prompt\": \"When he found that he could make no progress by assuming that all the heavenly bodies revolved round the spectator, he reversed the process, and tried the experiment of assuming that the spectator revolved, while the stars remained at rest. ->\",\n",
            "    \"completion\": \" We may make the same experiment with regard to the intuition of objects.\\n\"\n",
            "}\n",
            "{\n",
            "    \"prompt\": \"We may make the same experiment with regard to the intuition of objects. ->\",\n",
            "    \"completion\": \" If the intuition must conform to the nature of the objects, I do not see how we can know anything of them a priori.\\n\"\n",
            "}\n",
            "{\n",
            "    \"prompt\": \"If the intuition must conform to the nature of the objects, I do not see how we can know anything of them a priori. ->\",\n",
            "    \"completion\": \" If, on the other hand, the object conforms to the nature of our faculty of intuition, I can then easily conceive the possibility of such an a priori knowledge.\\n\"\n",
            "}\n",
            "{\n",
            "    \"prompt\": \"If, on the other hand, the object conforms to the nature of our faculty of intuition, I can then easily conceive the possibility of such an a priori knowledge. ->\",\n",
            "    \"completion\": \" Now as I cannot rest in the mere intuitions, but\\u2014if they are to become cognitions\\u2014must refer them, as representations, to something, as object, and must determine the latter by means of the former, here again there are two courses open to me.\\n\"\n",
            "}\n",
            "{\n",
            "    \"prompt\": \"Now as I cannot rest in the mere intuitions, but\\u2014if they are to become cognitions\\u2014must refer them, as representations, to something, as object, and must determine the latter by means of the former, here again there are two courses open to me. ->\",\n",
            "    \"completion\": \" Either, first, I may assume that the conceptions, by which I effect this determination, conform to the object\\u2014and in this case I am reduced to the same perplexity as before; or secondly, I may assume that the objects, or, which is the same thing, that experience, in which alone as given objects they are cognized, conform to my conceptions\\u2014and then I am at no loss how to proceed.\\n\"\n",
            "}\n",
            "{\n",
            "    \"prompt\": \"Either, first, I may assume that the conceptions, by which I effect this determination, conform to the object\\u2014and in this case I am reduced to the same perplexity as before; or secondly, I may assume that the objects, or, which is the same thing, that experience, in which alone as given objects they are cognized, conform to my conceptions\\u2014and then I am at no loss how to proceed. ->\",\n",
            "    \"completion\": \" For experience itself is a mode of cognition which requires understanding.\\n\"\n",
            "}\n",
            "{\n",
            "    \"prompt\": \"For experience itself is a mode of cognition which requires understanding. ->\",\n",
            "    \"completion\": \" Before objects, are given to me, that is, a priori, I must presuppose in myself laws of the understanding which are expressed in conceptions a priori.\\n\"\n",
            "}\n",
            "{\n",
            "    \"prompt\": \"Before objects, are given to me, that is, a priori, I must presuppose in myself laws of the understanding which are expressed in conceptions a priori. ->\",\n",
            "    \"completion\": \" To these conceptions, then, all the objects of experience must necessarily conform.\\n\"\n",
            "}\n",
            "{\n",
            "    \"prompt\": \"To these conceptions, then, all the objects of experience must necessarily conform. ->\",\n",
            "    \"completion\": \" Now there are objects which reason thinks, and that necessarily, but which cannot be given in experience, or, at least, cannot be given so as reason thinks them.\\n\"\n",
            "}\n",
            "{\n",
            "    \"prompt\": \"Now there are objects which reason thinks, and that necessarily, but which cannot be given in experience, or, at least, cannot be given so as reason thinks them. ->\",\n",
            "    \"completion\": \" The attempt to think these objects will hereafter furnish an excellent test of the new method of thought which we have adopted, and which is based on the principle that we only cognize in things a priori that which we ourselves place in them.\\n\"\n",
            "}\n",
            "{\n",
            "    \"prompt\": \"The attempt to think these objects will hereafter furnish an excellent test of the new method of thought which we have adopted, and which is based on the principle that we only cognize in things a priori that which we ourselves place in them. ->\",\n",
            "    \"completion\": \" * [*Footnote: This method, accordingly, which we have borrowed from the natural philosopher, consists in seeking for the elements of pure reason in that which admits of confirmation or refutation by experiment.\\n\"\n",
            "}\n",
            "{\n",
            "    \"prompt\": \"* [*Footnote: This method, accordingly, which we have borrowed from the natural philosopher, consists in seeking for the elements of pure reason in that which admits of confirmation or refutation by experiment. ->\",\n",
            "    \"completion\": \" Now the propositions of pure reason, especially when they transcend the limits of possible experience, do not admit of our making any experiment with their objects, as in natural science.\\n\"\n",
            "}\n",
            "{\n",
            "    \"prompt\": \"Now the propositions of pure reason, especially when they transcend the limits of possible experience, do not admit of our making any experiment with their objects, as in natural science. ->\",\n",
            "    \"completion\": \" Hence, with regard to those conceptions and principles which we assume a priori, our only course ill be to view them from two different sides.\\n\"\n",
            "}\n",
            "{\n",
            "    \"prompt\": \"Hence, with regard to those conceptions and principles which we assume a priori, our only course ill be to view them from two different sides. ->\",\n",
            "    \"completion\": \" We must regard one and the same conception, on the one hand, in relation to experience as an object of the senses and of the understanding, on the other hand, in relation to reason, isolated and transcending the limits of experience, as an object of mere thought.\\n\"\n",
            "}\n",
            "{\n",
            "    \"prompt\": \"We must regard one and the same conception, on the one hand, in relation to experience as an object of the senses and of the understanding, on the other hand, in relation to reason, isolated and transcending the limits of experience, as an object of mere thought. ->\",\n",
            "    \"completion\": \" Now if we find that, when we regard things from this double point of view, the result is in harmony with the principle of pure reason, but that, when we regard them from a single point of view, reason is involved in self-contradiction, then the experiment will establish the correctness of this distinction.]\\n\"\n",
            "}\n",
            "{\n",
            "    \"prompt\": \"Now if we find that, when we regard things from this double point of view, the result is in harmony with the principle of pure reason, but that, when we regard them from a single point of view, reason is involved in self-contradiction, then the experiment will establish the correctness of this distinction.] ->\",\n",
            "    \"completion\": \" This attempt succeeds as well as we could desire, and promises to metaphysics, in its first part\\u2014that is, where it is occupied with conceptions a priori, of which the corresponding objects may be given in experience\\u2014the certain course of science.\\n\"\n",
            "}\n",
            "{\n",
            "    \"prompt\": \"This attempt succeeds as well as we could desire, and promises to metaphysics, in its first part\\u2014that is, where it is occupied with conceptions a priori, of which the corresponding objects may be given in experience\\u2014the certain course of science. ->\",\n",
            "    \"completion\": \" For by this new method we are enabled perfectly to explain the possibility of a priori cognition, and, what is more, to demonstrate satisfactorily the laws which lie a priori at the foundation of nature, as the sum of the objects of experience\\u2014neither of which was possible according to the procedure hitherto followed.\\n\"\n",
            "}\n",
            "{\n",
            "    \"prompt\": \"For by this new method we are enabled perfectly to explain the possibility of a priori cognition, and, what is more, to demonstrate satisfactorily the laws which lie a priori at the foundation of nature, as the sum of the objects of experience\\u2014neither of which was possible according to the procedure hitherto followed. ->\",\n",
            "    \"completion\": \" But from this deduction of the faculty of a priori cognition in the first part of metaphysics, we derive a surprising result, and one which, to all appearance, militates against the great end of metaphysics, as treated in the second part.\\n\"\n",
            "}\n",
            "{\n",
            "    \"prompt\": \"But from this deduction of the faculty of a priori cognition in the first part of metaphysics, we derive a surprising result, and one which, to all appearance, militates against the great end of metaphysics, as treated in the second part. ->\",\n",
            "    \"completion\": \" For we come to the conclusion that our faculty of cognition is unable to transcend the limits of possible experience; and yet this is precisely the most essential object of this science.\\n\"\n",
            "}\n",
            "{\n",
            "    \"prompt\": \"For we come to the conclusion that our faculty of cognition is unable to transcend the limits of possible experience; and yet this is precisely the most essential object of this science. ->\",\n",
            "    \"completion\": \" The estimate of our rational cognition a priori at which we arrive is that it has only to do with phenomena, and that things in themselves, while possessing a real existence, lie beyond its sphere.\\n\"\n",
            "}\n",
            "{\n",
            "    \"prompt\": \"The estimate of our rational cognition a priori at which we arrive is that it has only to do with phenomena, and that things in themselves, while possessing a real existence, lie beyond its sphere. ->\",\n",
            "    \"completion\": \" Here we are enabled to put the justice of this estimate to the test.\\n\"\n",
            "}\n",
            "{\n",
            "    \"prompt\": \"Here we are enabled to put the justice of this estimate to the test. ->\",\n",
            "    \"completion\": \" For that which of necessity impels us to transcend the limits of experience and of all phenomena is the unconditioned, which reason absolutely requires in things as they are in themselves, in order to complete the series of conditions.\\n\"\n",
            "}\n",
            "{\n",
            "    \"prompt\": \"For that which of necessity impels us to transcend the limits of experience and of all phenomena is the unconditioned, which reason absolutely requires in things as they are in themselves, in order to complete the series of conditions. ->\",\n",
            "    \"completion\": \" Now, if it appears that when, on the one hand, we assume that our cognition conforms to its objects as things in themselves, the unconditioned cannot be thought without contradiction, and that when, on the other hand, we assume that our representation of things as they are given to us, does not conform to these things as they are in themselves, but that these objects, as phenomena, conform to our mode of representation, the contradiction disappears: we shall then be convinced of the truth of that which we began by assuming for the sake of experiment; we may look upon it as established that the unconditioned does not lie in things as we know them, or as they are given to us, but in things as they are in themselves, beyond the range of our cognition.\\n\"\n",
            "}\n",
            "{\n",
            "    \"prompt\": \"Now, if it appears that when, on the one hand, we assume that our cognition conforms to its objects as things in themselves, the unconditioned cannot be thought without contradiction, and that when, on the other hand, we assume that our representation of things as they are given to us, does not conform to these things as they are in themselves, but that these objects, as phenomena, conform to our mode of representation, the contradiction disappears: we shall then be convinced of the truth of that which we began by assuming for the sake of experiment; we may look upon it as established that the unconditioned does not lie in things as we know them, or as they are given to us, but in things as they are in themselves, beyond the range of our cognition. ->\",\n",
            "    \"completion\": \" * [*Footnote: This experiment of pure reason has a great similarity to that of the chemists, which they term the experiment of reduction, or, more usually, the synthetic process.\\n\"\n",
            "}\n",
            "{\n",
            "    \"prompt\": \"* [*Footnote: This experiment of pure reason has a great similarity to that of the chemists, which they term the experiment of reduction, or, more usually, the synthetic process. ->\",\n",
            "    \"completion\": \" The analysis of the metaphysician separates pure cognition a priori into two heterogeneous elements, viz., the cognition of things as phenomena, and of things in themselves.\\n\"\n",
            "}\n",
            "{\n",
            "    \"prompt\": \"The analysis of the metaphysician separates pure cognition a priori into two heterogeneous elements, viz., the cognition of things as phenomena, and of things in themselves. ->\",\n",
            "    \"completion\": \" Dialectic combines these again into harmony with the necessary rational idea of the unconditioned, and finds that this harmony never results except through the above distinction, which is, therefore, concluded to be just.]\\n\"\n",
            "}\n",
            "{\n",
            "    \"prompt\": \"Dialectic combines these again into harmony with the necessary rational idea of the unconditioned, and finds that this harmony never results except through the above distinction, which is, therefore, concluded to be just.] ->\",\n",
            "    \"completion\": \" But, after we have thus denied the power of speculative reason to make any progress in the sphere of the supersensible, it still remains for our consideration whether data do not exist in practical cognition which may enable us to determine the transcendent conception of the unconditioned, to rise beyond the limits of all possible experience from a practical point of view, and thus to satisfy the great ends of metaphysics.\\n\"\n",
            "}\n",
            "{\n",
            "    \"prompt\": \"But, after we have thus denied the power of speculative reason to make any progress in the sphere of the supersensible, it still remains for our consideration whether data do not exist in practical cognition which may enable us to determine the transcendent conception of the unconditioned, to rise beyond the limits of all possible experience from a practical point of view, and thus to satisfy the great ends of metaphysics. ->\",\n",
            "    \"completion\": \" Speculative reason has thus, at least, made room for such an extension of our knowledge: and, if it must leave this space vacant, still it does not rob us of the liberty to fill it up, if we can, by means of practical data\\u2014nay, it even challenges us to make the attempt.\\n\"\n",
            "}\n",
            "{\n",
            "    \"prompt\": \"Speculative reason has thus, at least, made room for such an extension of our knowledge: and, if it must leave this space vacant, still it does not rob us of the liberty to fill it up, if we can, by means of practical data\\u2014nay, it even challenges us to make the attempt. ->\",\n",
            "    \"completion\": \" * [*Footnote: So the central laws of the movements of the heavenly bodies established the truth of that which Copernicus, first, assumed only as a hypothesis, and, at the same time, brought to light that invisible force (Newtonian attraction) which holds the universe together.\\n\"\n",
            "}\n",
            "{\n",
            "    \"prompt\": \"* [*Footnote: So the central laws of the movements of the heavenly bodies established the truth of that which Copernicus, first, assumed only as a hypothesis, and, at the same time, brought to light that invisible force (Newtonian attraction) which holds the universe together. ->\",\n",
            "    \"completion\": \" The latter would have remained forever undiscovered, if Copernicus had not ventured on the experiment\\u2014contrary to the senses but still just\\u2014 of looking for the observed movements not in the heavenly bodies, but in the spectator.\\n\"\n",
            "}\n",
            "{\n",
            "    \"prompt\": \"The latter would have remained forever undiscovered, if Copernicus had not ventured on the experiment\\u2014contrary to the senses but still just\\u2014 of looking for the observed movements not in the heavenly bodies, but in the spectator. ->\",\n",
            "    \"completion\": \" In this Preface I treat the new metaphysical method as a hypothesis with the view of rendering apparent the first attempts at such a change of method, which are always hypothetical.\\n\"\n",
            "}\n",
            "{\n",
            "    \"prompt\": \"In this Preface I treat the new metaphysical method as a hypothesis with the view of rendering apparent the first attempts at such a change of method, which are always hypothetical. ->\",\n",
            "    \"completion\": \" But in the Critique itself it will be demonstrated, not hypothetically, but apodeictically, from the nature of our representations of space and time, and from the elementary conceptions of the understanding.]\\n\"\n",
            "}\n",
            "{\n",
            "    \"prompt\": \"But in the Critique itself it will be demonstrated, not hypothetically, but apodeictically, from the nature of our representations of space and time, and from the elementary conceptions of the understanding.] ->\",\n",
            "    \"completion\": \" This attempt to introduce a complete revolution in the procedure of metaphysics, after the example of the geometricians and natural philosophers, constitutes the aim of the Critique of Pure Speculative Reason.\\n\"\n",
            "}\n",
            "{\n",
            "    \"prompt\": \"This attempt to introduce a complete revolution in the procedure of metaphysics, after the example of the geometricians and natural philosophers, constitutes the aim of the Critique of Pure Speculative Reason. ->\",\n",
            "    \"completion\": \" It is a treatise on the method to be followed, not a system of the science itself.\\n\"\n",
            "}\n",
            "{\n",
            "    \"prompt\": \"It is a treatise on the method to be followed, not a system of the science itself. ->\",\n",
            "    \"completion\": \" But, at the same time, it marks out and defines both the external boundaries and the internal structure of this science.\\n\"\n",
            "}\n",
            "{\n",
            "    \"prompt\": \"But, at the same time, it marks out and defines both the external boundaries and the internal structure of this science. ->\",\n",
            "    \"completion\": \" For pure speculative reason has this peculiarity, that, in choosing the various objects of thought, it is able to define the limits of its own faculties, and even to give a complete enumeration of the possible modes of proposing problems to itself, and thus to sketch out the entire system of metaphysics.\\n\"\n",
            "}\n",
            "{\n",
            "    \"prompt\": \"For pure speculative reason has this peculiarity, that, in choosing the various objects of thought, it is able to define the limits of its own faculties, and even to give a complete enumeration of the possible modes of proposing problems to itself, and thus to sketch out the entire system of metaphysics. ->\",\n",
            "    \"completion\": \" For, on the one hand, in cognition a priori, nothing must be attributed to the objects but what the thinking subject derives from itself; and, on the other hand, reason is, in regard to the principles of cognition, a perfectly distinct, independent unity, in which, as in an organized body, every member exists for the sake of the others, and all for the sake of each, so that no principle can be viewed, with safety, in one relationship, unless it is, at the same time, viewed in relation to the total use of pure reason.\\n\"\n",
            "}\n",
            "{\n",
            "    \"prompt\": \"For, on the one hand, in cognition a priori, nothing must be attributed to the objects but what the thinking subject derives from itself; and, on the other hand, reason is, in regard to the principles of cognition, a perfectly distinct, independent unity, in which, as in an organized body, every member exists for the sake of the others, and all for the sake of each, so that no principle can be viewed, with safety, in one relationship, unless it is, at the same time, viewed in relation to the total use of pure reason. ->\",\n",
            "    \"completion\": \" Hence, too, metaphysics has this singular advantage\\u2014an advantage which falls to the lot of no other science which has to do with objects\\u2014that, if once it is conducted into the sure path of science, by means of this criticism, it can then take in the whole sphere of its cognitions, and can thus complete its work, and leave it for the use of posterity, as a capital which can never receive fresh accessions.\\n\"\n",
            "}\n",
            "{\n",
            "    \"prompt\": \"Hence, too, metaphysics has this singular advantage\\u2014an advantage which falls to the lot of no other science which has to do with objects\\u2014that, if once it is conducted into the sure path of science, by means of this criticism, it can then take in the whole sphere of its cognitions, and can thus complete its work, and leave it for the use of posterity, as a capital which can never receive fresh accessions. ->\",\n",
            "    \"completion\": \" For metaphysics has to deal only with principles and with the limitations of its own employment as determined by these principles.\\n\"\n",
            "}\n",
            "{\n",
            "    \"prompt\": \"For metaphysics has to deal only with principles and with the limitations of its own employment as determined by these principles. ->\",\n",
            "    \"completion\": \" To this perfection it is, therefore, bound, as the fundamental science, to attain, and to it the maxim may justly be applied: Nil actum reputans, si quid superesset agendum.\\n\"\n",
            "}\n",
            "{\n",
            "    \"prompt\": \"To this perfection it is, therefore, bound, as the fundamental science, to attain, and to it the maxim may justly be applied: Nil actum reputans, si quid superesset agendum. ->\",\n",
            "    \"completion\": \" But, it will be asked, what kind of a treasure is this that we propose to bequeath to posterity?\\n\"\n",
            "}\n",
            "{\n",
            "    \"prompt\": \"But, it will be asked, what kind of a treasure is this that we propose to bequeath to posterity? ->\",\n",
            "    \"completion\": \" What is the real value of this system of metaphysics, purified by criticism, and thereby reduced to a permanent condition?\\n\"\n",
            "}\n",
            "{\n",
            "    \"prompt\": \"What is the real value of this system of metaphysics, purified by criticism, and thereby reduced to a permanent condition? ->\",\n",
            "    \"completion\": \" A cursory view of the present work will lead to the supposition that its use is merely negative, that it only serves to warn us against venturing, with speculative reason, beyond the limits of experience.\\n\"\n",
            "}\n",
            "{\n",
            "    \"prompt\": \"A cursory view of the present work will lead to the supposition that its use is merely negative, that it only serves to warn us against venturing, with speculative reason, beyond the limits of experience. ->\",\n",
            "    \"completion\": \" This is, in fact, its primary use.\\n\"\n",
            "}\n",
            "{\n",
            "    \"prompt\": \"This is, in fact, its primary use. ->\",\n",
            "    \"completion\": \" But this, at once, assumes a positive value, when we observe that the principles with which speculative reason endeavours to transcend its limits lead inevitably, not to the extension, but to the contraction of the use of reason, inasmuch as they threaten to extend the limits of sensibility, which is their proper sphere, over the entire realm of thought and, thus, to supplant the pure (practical) use of reason.\\n\"\n",
            "}\n",
            "{\n",
            "    \"prompt\": \"But this, at once, assumes a positive value, when we observe that the principles with which speculative reason endeavours to transcend its limits lead inevitably, not to the extension, but to the contraction of the use of reason, inasmuch as they threaten to extend the limits of sensibility, which is their proper sphere, over the entire realm of thought and, thus, to supplant the pure (practical) use of reason. ->\",\n",
            "    \"completion\": \" So far, then, as this criticism is occupied in confining speculative reason within its proper bounds, it is only negative; but, inasmuch as it thereby, at the same time, removes an obstacle which impedes and even threatens to destroy the use of practical reason, it possesses a positive and very important value.\\n\"\n",
            "}\n",
            "{\n",
            "    \"prompt\": \"So far, then, as this criticism is occupied in confining speculative reason within its proper bounds, it is only negative; but, inasmuch as it thereby, at the same time, removes an obstacle which impedes and even threatens to destroy the use of practical reason, it possesses a positive and very important value. ->\",\n",
            "    \"completion\": \" In order to admit this, we have only to be convinced that there is an absolutely necessary use of pure reason\\u2014the moral use\\u2014in which it inevitably transcends the limits of sensibility, without the aid of speculation, requiring only to be insured against the effects of a speculation which would involve it in contradiction with itself.\\n\"\n",
            "}\n",
            "{\n",
            "    \"prompt\": \"In order to admit this, we have only to be convinced that there is an absolutely necessary use of pure reason\\u2014the moral use\\u2014in which it inevitably transcends the limits of sensibility, without the aid of speculation, requiring only to be insured against the effects of a speculation which would involve it in contradiction with itself. ->\",\n",
            "    \"completion\": \" To deny the positive advantage of the service which this criticism renders us would be as absurd as to maintain that the system of police is productive of no positive benefit, since its main business is to prevent the violence which citizen has to apprehend from citizen, that so each may pursue his vocation in peace and security.\\n\"\n",
            "}\n",
            "{\n",
            "    \"prompt\": \"To deny the positive advantage of the service which this criticism renders us would be as absurd as to maintain that the system of police is productive of no positive benefit, since its main business is to prevent the violence which citizen has to apprehend from citizen, that so each may pursue his vocation in peace and security. ->\",\n",
            "    \"completion\": \" That space and time are only forms of sensible intuition, and hence are only conditions of the existence of things as phenomena; that, moreover, we have no conceptions of the understanding, and, consequently, no elements for the cognition of things, except in so far as a corresponding intuition can be given to these conceptions; that, accordingly, we can have no cognition of an object, as a thing in itself, but only as an object of sensible intuition, that is, as phenomenon\\u2014all this is proved in the analytical part of the Critique; and from this the limitation of all possible speculative cognition to the mere objects of experience, follows as a necessary result.\\n\"\n",
            "}\n",
            "{\n",
            "    \"prompt\": \"That space and time are only forms of sensible intuition, and hence are only conditions of the existence of things as phenomena; that, moreover, we have no conceptions of the understanding, and, consequently, no elements for the cognition of things, except in so far as a corresponding intuition can be given to these conceptions; that, accordingly, we can have no cognition of an object, as a thing in itself, but only as an object of sensible intuition, that is, as phenomenon\\u2014all this is proved in the analytical part of the Critique; and from this the limitation of all possible speculative cognition to the mere objects of experience, follows as a necessary result. ->\",\n",
            "    \"completion\": \" At the same time, it must be carefully borne in mind that, while we surrender the power of cognizing, we still reserve the power of thinking objects, as things in themselves.\\n\"\n",
            "}\n",
            "{\n",
            "    \"prompt\": \"At the same time, it must be carefully borne in mind that, while we surrender the power of cognizing, we still reserve the power of thinking objects, as things in themselves. ->\",\n",
            "    \"completion\": \" * For, otherwise, we should require to affirm the existence of an appearance, without something that appears\\u2014which would be absurd.\\n\"\n",
            "}\n",
            "{\n",
            "    \"prompt\": \"* For, otherwise, we should require to affirm the existence of an appearance, without something that appears\\u2014which would be absurd. ->\",\n",
            "    \"completion\": \" Now let us suppose, for a moment, that we had not undertaken this criticism and, accordingly, had not drawn the necessary distinction between things as objects of experience and things as they are in themselves.\\n\"\n",
            "}\n",
            "{\n",
            "    \"prompt\": \"Now let us suppose, for a moment, that we had not undertaken this criticism and, accordingly, had not drawn the necessary distinction between things as objects of experience and things as they are in themselves. ->\",\n",
            "    \"completion\": \" The principle of causality, and, by consequence, the mechanism of nature as determined by causality, would then have absolute validity in relation to all things as efficient causes.\\n\"\n",
            "}\n",
            "{\n",
            "    \"prompt\": \"The principle of causality, and, by consequence, the mechanism of nature as determined by causality, would then have absolute validity in relation to all things as efficient causes. ->\",\n",
            "    \"completion\": \" I should then be unable to assert, with regard to one and the same being, e.g., the human soul, that its will is free, and yet, at the same time, subject to natural necessity, that is, not free, without falling into a palpable contradiction, for in both propositions I should take the soul in the same signification, as a thing in general, as a thing in itself\\u2014as, without previous criticism, I could not but take it.\\n\"\n",
            "}\n",
            "{\n",
            "    \"prompt\": \"I should then be unable to assert, with regard to one and the same being, e.g., the human soul, that its will is free, and yet, at the same time, subject to natural necessity, that is, not free, without falling into a palpable contradiction, for in both propositions I should take the soul in the same signification, as a thing in general, as a thing in itself\\u2014as, without previous criticism, I could not but take it. ->\",\n",
            "    \"completion\": \" Suppose now, on the other hand, that we have undertaken this criticism, and have learnt that an object may be taken in two senses, first, as a phenomenon, secondly, as a thing in itself; and that, according to the deduction of the conceptions of the understanding, the principle of causality has reference only to things in the first sense.\\n\"\n",
            "}\n",
            "{\n",
            "    \"prompt\": \"Suppose now, on the other hand, that we have undertaken this criticism, and have learnt that an object may be taken in two senses, first, as a phenomenon, secondly, as a thing in itself; and that, according to the deduction of the conceptions of the understanding, the principle of causality has reference only to things in the first sense. ->\",\n",
            "    \"completion\": \" We then see how it does not involve any contradiction to assert, on the one hand, that the will, in the phenomenal sphere\\u2014in visible action\\u2014is necessarily obedient to the law of nature, and, in so far, not free; and, on the other hand, that, as belonging to a thing in itself, it is not subject to that law, and, accordingly, is free.\\n\"\n",
            "}\n",
            "{\n",
            "    \"prompt\": \"We then see how it does not involve any contradiction to assert, on the one hand, that the will, in the phenomenal sphere\\u2014in visible action\\u2014is necessarily obedient to the law of nature, and, in so far, not free; and, on the other hand, that, as belonging to a thing in itself, it is not subject to that law, and, accordingly, is free. ->\",\n",
            "    \"completion\": \" Now, it is true that I cannot, by means of speculative reason, and still less by empirical observation, cognize my soul as a thing in itself and consequently, cannot cognize liberty as the property of a being to which I ascribe effects in the world of sense.\\n\"\n",
            "}\n",
            "{\n",
            "    \"prompt\": \"Now, it is true that I cannot, by means of speculative reason, and still less by empirical observation, cognize my soul as a thing in itself and consequently, cannot cognize liberty as the property of a being to which I ascribe effects in the world of sense. ->\",\n",
            "    \"completion\": \" For, to do so, I must cognize this being as existing, and yet not in time, which\\u2014since I cannot support my conception by any intuition\\u2014is impossible.\\n\"\n",
            "}\n",
            "{\n",
            "    \"prompt\": \"For, to do so, I must cognize this being as existing, and yet not in time, which\\u2014since I cannot support my conception by any intuition\\u2014is impossible. ->\",\n",
            "    \"completion\": \" At the same time, while I cannot cognize, I can quite well think freedom, that is to say, my representation of it involves at least no contradiction, if we bear in mind the critical distinction of the two modes of representation (the sensible and the intellectual) and the consequent limitation of the conceptions of the pure understanding and of the principles which flow from them.\\n\"\n",
            "}\n",
            "{\n",
            "    \"prompt\": \"At the same time, while I cannot cognize, I can quite well think freedom, that is to say, my representation of it involves at least no contradiction, if we bear in mind the critical distinction of the two modes of representation (the sensible and the intellectual) and the consequent limitation of the conceptions of the pure understanding and of the principles which flow from them. ->\",\n",
            "    \"completion\": \" Suppose now that morality necessarily presupposed liberty, in the strictest sense, as a property of our will; suppose that reason contained certain practical, original principles a priori, which were absolutely impossible without this presupposition; and suppose, at the same time, that speculative reason had proved that liberty was incapable of being thought at all.\\n\"\n",
            "}\n",
            "{\n",
            "    \"prompt\": \"Suppose now that morality necessarily presupposed liberty, in the strictest sense, as a property of our will; suppose that reason contained certain practical, original principles a priori, which were absolutely impossible without this presupposition; and suppose, at the same time, that speculative reason had proved that liberty was incapable of being thought at all. ->\",\n",
            "    \"completion\": \" It would then follow that the moral presupposition must give way to the speculative affirmation, the opposite of which involves an obvious contradiction, and that liberty and, with it, morality must yield to the mechanism of nature; for the negation of morality involves no contradiction, except on the presupposition of liberty.\\n\"\n",
            "}\n",
            "{\n",
            "    \"prompt\": \"It would then follow that the moral presupposition must give way to the speculative affirmation, the opposite of which involves an obvious contradiction, and that liberty and, with it, morality must yield to the mechanism of nature; for the negation of morality involves no contradiction, except on the presupposition of liberty. ->\",\n",
            "    \"completion\": \" Now morality does not require the speculative cognition of liberty; it is enough that I can think it, that its conception involves no contradiction, that it does not interfere with the mechanism of nature.\\n\"\n",
            "}\n",
            "{\n",
            "    \"prompt\": \"Now morality does not require the speculative cognition of liberty; it is enough that I can think it, that its conception involves no contradiction, that it does not interfere with the mechanism of nature. ->\",\n",
            "    \"completion\": \" But even this requirement we could not satisfy, if we had not learnt the twofold sense in which things may be taken; and it is only in this way that the doctrine of morality and the doctrine of nature are confined within their proper limits.\\n\"\n",
            "}\n",
            "{\n",
            "    \"prompt\": \"But even this requirement we could not satisfy, if we had not learnt the twofold sense in which things may be taken; and it is only in this way that the doctrine of morality and the doctrine of nature are confined within their proper limits. ->\",\n",
            "    \"completion\": \" For this result, then, we are indebted to a criticism which warns us of our unavoidable ignorance with regard to things in themselves, and establishes the necessary limitation of our theoretical cognition to mere phenomena.\\n\"\n",
            "}\n",
            "{\n",
            "    \"prompt\": \"For this result, then, we are indebted to a criticism which warns us of our unavoidable ignorance with regard to things in themselves, and establishes the necessary limitation of our theoretical cognition to mere phenomena. ->\",\n",
            "    \"completion\": \" [*Footnote: In order to cognize an object, I must be able to prove its possibility, either from its reality as attested by experience, or a priori, by means of reason.\\n\"\n",
            "}\n",
            "{\n",
            "    \"prompt\": \"[*Footnote: In order to cognize an object, I must be able to prove its possibility, either from its reality as attested by experience, or a priori, by means of reason. ->\",\n",
            "    \"completion\": \" But I can think what I please, provided only I do not contradict myself; that is, provided my conception is a possible thought, though I may be unable to answer for the existence of a corresponding object in the sum of possibilities.\\n\"\n",
            "}\n",
            "{\n",
            "    \"prompt\": \"But I can think what I please, provided only I do not contradict myself; that is, provided my conception is a possible thought, though I may be unable to answer for the existence of a corresponding object in the sum of possibilities. ->\",\n",
            "    \"completion\": \" But something more is required before I can attribute to such a conception objective validity, that is real possibility\\u2014the other possibility being merely logical.\\n\"\n",
            "}\n",
            "{\n",
            "    \"prompt\": \"But something more is required before I can attribute to such a conception objective validity, that is real possibility\\u2014the other possibility being merely logical. ->\",\n",
            "    \"completion\": \" We are not, however, confined to theoretical sources of cognition for the means of satisfying this additional requirement, but may derive them from practical sources.]\\n\"\n",
            "}\n",
            "{\n",
            "    \"prompt\": \"We are not, however, confined to theoretical sources of cognition for the means of satisfying this additional requirement, but may derive them from practical sources.] ->\",\n",
            "    \"completion\": \" The positive value of the critical principles of pure reason in relation to the conception of God and of the simple nature of the soul, admits of a similar exemplification; but on this point I shall not dwell.\\n\"\n",
            "}\n",
            "{\n",
            "    \"prompt\": \"The positive value of the critical principles of pure reason in relation to the conception of God and of the simple nature of the soul, admits of a similar exemplification; but on this point I shall not dwell. ->\",\n",
            "    \"completion\": \" I cannot even make the assumption\\u2014as the practical interests of morality require\\u2014of God, freedom, and immortality, if I do not deprive speculative reason of its pretensions to transcendent insight.\\n\"\n",
            "}\n"
          ]
        }
      ],
      "source": [
        "import json\n",
        "\n",
        "# Open the file and read the lines\n",
        "with open('kant_prompts_and_completions_prepared.jsonl', 'r') as f:\n",
        "    lines = f.readlines()\n",
        "\n",
        "# Parse and print a few lines\n",
        "for line in lines[199:300]:\n",
        "    data = json.loads(line)\n",
        "    print(json.dumps(data, indent=4))"
      ]
    },
    {
      "cell_type": "markdown",
      "metadata": {
        "id": "vh-Nt1HNDReo"
      },
      "source": [
        "creating the file on openai"
      ]
    },
    {
      "cell_type": "code",
      "execution_count": null,
      "metadata": {
        "id": "c3fQVPVrKozd"
      },
      "outputs": [],
      "source": [
        "from openai import OpenAI\n",
        "client = OpenAI()\n",
        "\n",
        "file_response=client.files.create(\n",
        "  file=open(\"/content/kant_prompts_and_completions_prepared.jsonl\", \"rb\"),\n",
        "  purpose='fine-tune'\n",
        ")\n",
        "\n",
        "# Print option for maintenance\n",
        "#print(file_response)"
      ]
    },
    {
      "cell_type": "code",
      "execution_count": null,
      "metadata": {
        "colab": {
          "base_uri": "https://localhost:8080/"
        },
        "id": "9bdieoJv581u",
        "outputId": "da696b09-4c6b-4648-9a34-758c417b9431"
      },
      "outputs": [
        {
          "output_type": "stream",
          "name": "stdout",
          "text": [
            "file-hRZOuC9rnxPIzotrx36dz1B5\n"
          ]
        }
      ],
      "source": [
        "# Extract the training file ID\n",
        "file_id = file_response.id\n",
        "print(file_id)"
      ]
    },
    {
      "cell_type": "markdown",
      "metadata": {
        "id": "ERWDRtNu69-4"
      },
      "source": [
        "# 2.Fine-tuning a model"
      ]
    },
    {
      "cell_type": "code",
      "execution_count": null,
      "metadata": {
        "id": "u8DZg1_3LQfQ"
      },
      "outputs": [],
      "source": [
        "from openai import OpenAI\n",
        "client = OpenAI()\n",
        "\n",
        "job_response=client.fine_tuning.jobs.create(\n",
        "  training_file=file_id,\n",
        "  model=\"babbage-002\"\n",
        ")"
      ]
    },
    {
      "cell_type": "code",
      "execution_count": null,
      "metadata": {
        "colab": {
          "base_uri": "https://localhost:8080/"
        },
        "id": "ssCWbAXnA500",
        "outputId": "971c1930-5d33-48ed-fb8b-73a604f81f90"
      },
      "outputs": [
        {
          "output_type": "stream",
          "name": "stdout",
          "text": [
            "ftjob-jL3f6K9lcIA2QePrw5lJKG7d\n"
          ]
        }
      ],
      "source": [
        "job_id = job_response.id\n",
        "print(job_id)"
      ]
    },
    {
      "cell_type": "markdown",
      "metadata": {
        "id": "u3okatXf7BoO"
      },
      "source": [
        "# 3. Checking the status of the fine-tuning job"
      ]
    },
    {
      "cell_type": "code",
      "execution_count": null,
      "metadata": {
        "colab": {
          "base_uri": "https://localhost:8080/"
        },
        "id": "2_uofnVb7KUx",
        "outputId": "5be17794-15bd-40d6-f8d6-bae289a4cff6"
      },
      "outputs": [
        {
          "output_type": "stream",
          "name": "stdout",
          "text": [
            "FineTuningJob(id='ftjob-jL3f6K9lcIA2QePrw5lJKG7d', created_at=1714393916, error=Error(code=None, message=None, param=None), fine_tuned_model=None, finished_at=None, hyperparameters=Hyperparameters(n_epochs='auto', batch_size='auto', learning_rate_multiplier='auto'), model='babbage-002', object='fine_tuning.job', organization_id='org-h2Kjmcir4wyGtqq1mJALLGIb', result_files=[], seed=399930729, status='validating_files', trained_tokens=None, training_file='file-hRZOuC9rnxPIzotrx36dz1B5', validation_file=None, integrations=[], user_provided_suffix=None, estimated_finish=None)\n"
          ]
        }
      ],
      "source": [
        "# Check the status of the fine-tuning job\n",
        "job_details = client.fine_tuning.jobs.retrieve(job_id)\n",
        "print(job_details)"
      ]
    },
    {
      "cell_type": "code",
      "execution_count": null,
      "metadata": {
        "colab": {
          "base_uri": "https://localhost:8080/"
        },
        "id": "DwqidMUMCDXq",
        "outputId": "1aa766af-96aa-4ad2-b898-63711a8fef7d"
      },
      "outputs": [
        {
          "output_type": "stream",
          "name": "stdout",
          "text": [
            "Job status: validating_files\n"
          ]
        }
      ],
      "source": [
        "# There may be a time lapse:\n",
        "# 1.between the moment you run the fine-tuning job and its completion\n",
        "# 2.between its completion and the server updates\n",
        "# Check your email if you have activated OpenAI notifications\n",
        "status = job_details.status\n",
        "print(f\"Job status: {status}\")"
      ]
    },
    {
      "cell_type": "markdown",
      "metadata": {
        "id": "pHqCfp1sEUjn"
      },
      "source": [
        "Checking the list of the fine-tuning jobs and their status"
      ]
    },
    {
      "cell_type": "code",
      "execution_count": null,
      "metadata": {
        "id": "Xrf68bD2Nxug"
      },
      "outputs": [],
      "source": [
        "# List 10 fine-tuning jobs\n",
        "job_list=client.fine_tuning.jobs.list(limit=10)"
      ]
    },
    {
      "cell_type": "code",
      "execution_count": null,
      "metadata": {
        "id": "5e_4Jp7zCoYi",
        "outputId": "9117bf24-ac3b-410f-f7ec-02576c6f9251",
        "colab": {
          "base_uri": "https://localhost:8080/"
        }
      },
      "outputs": [
        {
          "output_type": "stream",
          "name": "stdout",
          "text": [
            "[{'created_at': 1714393916,\n",
            "  'id': 'ftjob-jL3f6K9lcIA2QePrw5lJKG7d',\n",
            "  'model': 'babbage-002',\n",
            "  'model_name': None,\n",
            "  'status': 'validating_files',\n",
            "  'training_file': 'file-hRZOuC9rnxPIzotrx36dz1B5'},\n",
            " {'created_at': 1714393314,\n",
            "  'id': 'ftjob-rBGEoO6UiDxO7nE16cpcWcvs',\n",
            "  'model': 'babbage-002',\n",
            "  'model_name': 'ft:babbage-002:personal::9JKPPXEh',\n",
            "  'status': 'succeeded',\n",
            "  'training_file': 'file-iucyWCAIDt3jLI7JThcxpBnu'},\n",
            " {'created_at': 1711625435,\n",
            "  'id': 'ftjob-yGupxxOGqj2IOZuOtK5PSBUn',\n",
            "  'model': 'babbage-002',\n",
            "  'model_name': 'ft:babbage-002:personal::97iytOol',\n",
            "  'status': 'succeeded',\n",
            "  'training_file': 'file-LZeMWZWpiFLTgXV23CEeZi8Q'},\n",
            " {'created_at': 1709495269,\n",
            "  'id': 'ftjob-4Is8DvKhkx5aTU9Dk8GoWJQQ',\n",
            "  'model': 'babbage-002',\n",
            "  'model_name': 'ft:babbage-002:personal::8ymVM2Po',\n",
            "  'status': 'succeeded',\n",
            "  'training_file': 'file-9EnBvLQAOllNuwvDNIwOLQuc'},\n",
            " {'created_at': 1708420404,\n",
            "  'id': 'ftjob-X8DzSV2O4upEoG1T3jJd1hhm',\n",
            "  'model': 'babbage-002',\n",
            "  'model_name': 'ft:babbage-002:personal::8uHPavKn',\n",
            "  'status': 'succeeded',\n",
            "  'training_file': 'file-gHO1ehTYUAyfRIdBwRmq9jVM'},\n",
            " {'created_at': 1708419552,\n",
            "  'id': 'ftjob-WUwgqYlXS2ViLJCgTgQJdHJo',\n",
            "  'model': 'babbage-002',\n",
            "  'model_name': 'ft:babbage-002:personal::8uH57nNm',\n",
            "  'status': 'succeeded',\n",
            "  'training_file': 'file-arjE8KC9jLQgRF7d4KR0AM7t'},\n",
            " {'created_at': 1707209767,\n",
            "  'id': 'ftjob-yEQ5OWk5owBfRtzf5Xkx4E5h',\n",
            "  'model': 'babbage-002',\n",
            "  'model_name': 'ft:babbage-002:personal::8pBo1c6y',\n",
            "  'status': 'succeeded',\n",
            "  'training_file': 'file-z7zDv53vTnltGOm36mWpDP9Z'},\n",
            " {'created_at': 1705946191,\n",
            "  'id': 'ftjob-aRNbeB5R0k91ahGSWBA3BefY',\n",
            "  'model': 'babbage-002',\n",
            "  'model_name': 'ft:babbage-002:personal::8jszv4ux',\n",
            "  'status': 'succeeded',\n",
            "  'training_file': 'file-RxafBc08Ry9YINwk1URFZY2L'},\n",
            " {'created_at': 1705092204,\n",
            "  'id': 'ftjob-hJQsxpHEsBl1Ee0BZNrFbmu6',\n",
            "  'model': 'babbage-002',\n",
            "  'model_name': 'ft:babbage-002:personal::8gIo1yr5',\n",
            "  'status': 'succeeded',\n",
            "  'training_file': 'file-upQEwHX7YbwxxaZ1JKiFaVaq'},\n",
            " {'created_at': 1705083620,\n",
            "  'id': 'ftjob-NUQ57DYN3TxKeWvXO3N8IhCu',\n",
            "  'model': 'babbage-002',\n",
            "  'model_name': 'ft:babbage-002:personal::8gGaF9FQ',\n",
            "  'status': 'succeeded',\n",
            "  'training_file': 'file-vMtRO7to3c26hVc4TRrzAmrC'}]\n"
          ]
        }
      ],
      "source": [
        "import json\n",
        "from pprint import pprint\n",
        "\n",
        "# Get the raw JSON string from the SyncCursorPage object\n",
        "json_string = job_list.json()\n",
        "\n",
        "# Convert the JSON string into a Python object\n",
        "data = json.loads(json_string)\n",
        "\n",
        "# Extract the data array\n",
        "jobs = data.get('data', [])\n",
        "\n",
        "# Format the data into a list of dictionaries\n",
        "formatted_data = [\n",
        "    {\n",
        "        'id': job.get('id'),\n",
        "        'created_at': job.get('created_at'),\n",
        "        'status': job.get('status'),\n",
        "        'training_file': job.get('training_file'),\n",
        "        'model': job.get('model'),\n",
        "        'model_name':job.get('fine_tuned_model')\n",
        "    }\n",
        "    for job in jobs\n",
        "]\n",
        "\n",
        "# Print the formatted data\n",
        "pprint(formatted_data)"
      ]
    },
    {
      "cell_type": "markdown",
      "metadata": {
        "id": "ES134wf-GzqO"
      },
      "source": [
        "# 3.Running the fine-tuned model\n",
        "\n",
        "We will now run the model for a completion task\n",
        "\n",
        "Note: If your fine-tuned model does not appear immediately after the end of the fine-tuning process, you might have to wait until it is processed by OpenAI.\n",
        "\n",
        "You can check the status regulary with the functions we just implemented above.\n",
        "\n",
        "Check your email regularly for a confirmation also if you have activated OpenAI notifications."
      ]
    },
    {
      "cell_type": "code",
      "execution_count": null,
      "metadata": {
        "id": "nGzZnXWkuvJA"
      },
      "outputs": [],
      "source": [
        "# text to complete\n",
        "text_content = \"Space and time are key factors in human reasoning. Human minds cannot think without space and time perceptions.\"\n",
        "#print(text_content)"
      ]
    },
    {
      "cell_type": "code",
      "execution_count": null,
      "metadata": {
        "id": "duZI1eHuu1t_"
      },
      "outputs": [],
      "source": [
        "prompt = \"Continue the following text as if you were a scientist and philosopher\" + text_content\n",
        "#print(prompt)"
      ]
    },
    {
      "cell_type": "code",
      "execution_count": null,
      "metadata": {
        "id": "WEZUyJWbvEEr"
      },
      "outputs": [],
      "source": [
        "response = client.completions.create(\n",
        "    model=\"ft:babbage-002:personal::8g9QuR5t\",\n",
        "    prompt=prompt,\n",
        "    max_tokens=1000,\n",
        "    temperature=0.8\n",
        ")\n",
        "#print(response)"
      ]
    },
    {
      "cell_type": "code",
      "execution_count": null,
      "metadata": {
        "colab": {
          "base_uri": "https://localhost:8080/"
        },
        "id": "Gk2v8LfVlL8X",
        "outputId": "b0137762-9b6a-44e1-fc1b-d1c64d44f2fa"
      },
      "outputs": [
        {
          "output_type": "stream",
          "name": "stdout",
          "text": [
            "Model's Completion:  These two factors, space and time, the condition of the manifold (constitutive reality of the manifold of the perceptions of phenomena), determine the form of the intuition of objects, the content of the intuition of the mind, and the ground on which we can ground the possibility of objects for the mind and of phenomena in it.\n",
            "But science has found in these factors the conditions of the possibility of an objective reality for objective cognition, and consequently of the possibility of objects for things themselves, and consequently of an object for the empirical intuition of reality 4 of the empirical manifold of experience.\n",
            "If, therefore, I should attempt to put these terms into the language of science, I should say that they have objective significance; that they do not determine phenomena for themselves, but only the conditions of the possibility of their own empirical existence; and that, consequently, while the conditions of the possibility of the empirical manifold of experience are not purely subjective, they are nevertheless, and always have been, merely objective, and consequently necessary.\n",
            "The permanent character of things, and the possibility of the preservation of such a character, are the conditions for the possibility of experience, and therefore of objects, in general.\n",
            "I therefore conclude: that although the permanent nature of things cannot in any way be determined by the empirical conditions of the manifold of their possible experience, yet the empirical conditions of the manifold of the possible experience of things, and consequently also that of the empirical, cannot, and ought not to be determined, to the permanent relation of things to one another in a determinate order of nature.\n",
            "Now I have shown that the permanent character of things cannot be determined either by the empirical or by the conditions of the empirical that are given in itself; but must be sought for in the nature of things and the understanding.\n",
            "I ought, therefore, pending the solution of this problem, to leave the conception of a world in which things have a permanent character, undetermined, as it were, wholly to rest upon itself, and to consider only the empirical condition under which the world exists.\n",
            "In the next place, we shall consider only the empirical condition of the possibility of objects; that is to say, of the phenomena of them, and of their relation to one another in a determinate order, in condition that any empirical possibility may be given (as, indeed, it has not been).\n",
            "We cannot, in other words, determine empirically the condition of the possibility that an object may belong to phenomena in general.\n",
            "For if an object could exist at the same time in all experience, it would be a condition of experience, nay, a necessary condition of experience, which it is not, and that we, therefore, may not determine empirically at all.\n",
            "But as things do not exist in themselves, but only as members of the empirical universe, the possible existence of objects in general is, on the other hand, determined by the empirical laws of things in general.\n",
            "For, if phenomena, on the other hand, were always possible in themselves, the possibility of objects in general, which is dependent upon them, and upon which everything tends to a state in which all things must cohere, would also be necessary.\n",
            "The next point in this problem which is connected with knowledge is, that I must be able to cognize an object by means of its possible experience.\n",
            "This I can do only by means of the categories—of which the empirical condition of the possibility of phenomena is that they relate to one another in a manifold.\n",
            "Now an object must be determinable in space and time, and consequently must be something that is cogitated in time as present and in space as the condition of its manifold.\n",
            "But in the antinomy which the above-mentioned transcendental discussion occasioned, the possible existence of a thing in time was not admitted; and the question arose, whether the cognition of the relation of things in time, as the conditions of this possible existence, can be possible only from the point of view of pure reason, and if this be the case, is it therefore really possible to cogitate objects as they are, in time, as objects?\n",
            "We may now proceed to bear in mind the criteria by which, with the aid of pure reason, we shall be able to distinguish between valid and invalid reason, that is, between reason which is according to the rules of the empirical, and reason which is according to the rules of the transcendental.\n",
            "A transcendental logico-philosophical exposition of this distinction has been published by M.\n",
            "G. de L.\n",
            "Helvétius in his Commentarius in the Critique of Pure Reason.\n",
            "I shall take the liberty of reproducing this analysis, which contains some novel and surprising views concerning the kind of cognition which pure reason requires from our understanding, and some new deductions from the antinomy arising from the cognition of the relation of things in time as conditions of a possible existence.\n",
            "Cognitive departments of pure reason.\n",
            "1. The faculty of a\n"
          ]
        }
      ],
      "source": [
        "# Check if there are any choices in the response\n",
        "if response.choices:\n",
        "    # Get the first choice (index 0)\n",
        "    first_choice = response.choices[0]\n",
        "\n",
        "    # Print the text of the first choice\n",
        "    print(\"Model's Completion:\", first_choice.text)\n",
        "else:\n",
        "    print(\"No choices returned in the response\")"
      ]
    },
    {
      "cell_type": "code",
      "execution_count": null,
      "metadata": {
        "colab": {
          "base_uri": "https://localhost:8080/"
        },
        "id": "qnuTaHWie5iB",
        "outputId": "d7e3435e-8e7b-48e9-86cd-f0a3968551ef"
      },
      "outputs": [
        {
          "output_type": "stream",
          "name": "stdout",
          "text": [
            "Completion ID: cmpl-9JKSjnAteU587uNZIID9HhNLm1E8r\n",
            "Created: 1714393917\n",
            "Model: ft:babbage-002:personal::8g9QuR5t\n",
            "Object Type: text_completion\n",
            "Choice 0:\n",
            "  Finish Reason: length\n",
            "  Index: 0\n",
            "  Logprobs: None\n",
            "  Text:  These two factors, space and time, the condition of the manifold (constitutive reality of the manifold of the perceptions of phenomena), determine the form of the intuition of objects, the content of the intuition of the mind, and the ground on which we can ground the possibility of objects for the mind and of phenomena in it.\n",
            "But science has found in these factors the conditions of the possibility of an objective reality for objective cognition, and consequently of the possibility of objects for things themselves, and consequently of an object for the empirical intuition of reality 4 of the empirical manifold of experience.\n",
            "If, therefore, I should attempt to put these terms into the language of science, I should say that they have objective significance; that they do not determine phenomena for themselves, but only the conditions of the possibility of their own empirical existence; and that, consequently, while the conditions of the possibility of the empirical manifold of experience are not purely subjective, they are nevertheless, and always have been, merely objective, and consequently necessary.\n",
            "The permanent character of things, and the possibility of the preservation of such a character, are the conditions for the possibility of experience, and therefore of objects, in general.\n",
            "I therefore conclude: that although the permanent nature of things cannot in any way be determined by the empirical conditions of the manifold of their possible experience, yet the empirical conditions of the manifold of the possible experience of things, and consequently also that of the empirical, cannot, and ought not to be determined, to the permanent relation of things to one another in a determinate order of nature.\n",
            "Now I have shown that the permanent character of things cannot be determined either by the empirical or by the conditions of the empirical that are given in itself; but must be sought for in the nature of things and the understanding.\n",
            "I ought, therefore, pending the solution of this problem, to leave the conception of a world in which things have a permanent character, undetermined, as it were, wholly to rest upon itself, and to consider only the empirical condition under which the world exists.\n",
            "In the next place, we shall consider only the empirical condition of the possibility of objects; that is to say, of the phenomena of them, and of their relation to one another in a determinate order, in condition that any empirical possibility may be given (as, indeed, it has not been).\n",
            "We cannot, in other words, determine empirically the condition of the possibility that an object may belong to phenomena in general.\n",
            "For if an object could exist at the same time in all experience, it would be a condition of experience, nay, a necessary condition of experience, which it is not, and that we, therefore, may not determine empirically at all.\n",
            "But as things do not exist in themselves, but only as members of the empirical universe, the possible existence of objects in general is, on the other hand, determined by the empirical laws of things in general.\n",
            "For, if phenomena, on the other hand, were always possible in themselves, the possibility of objects in general, which is dependent upon them, and upon which everything tends to a state in which all things must cohere, would also be necessary.\n",
            "The next point in this problem which is connected with knowledge is, that I must be able to cognize an object by means of its possible experience.\n",
            "This I can do only by means of the categories—of which the empirical condition of the possibility of phenomena is that they relate to one another in a manifold.\n",
            "Now an object must be determinable in space and time, and consequently must be something that is cogitated in time as present and in space as the condition of its manifold.\n",
            "But in the antinomy which the above-mentioned transcendental discussion occasioned, the possible existence of a thing in time was not admitted; and the question arose, whether the cognition of the relation of things in time, as the conditions of this possible existence, can be possible only from the point of view of pure reason, and if this be the case, is it therefore really possible to cogitate objects as they are, in time, as objects?\n",
            "We may now proceed to bear in mind the criteria by which, with the aid of pure reason, we shall be able to distinguish between valid and invalid reason, that is, between reason which is according to the rules of the empirical, and reason which is according to the rules of the transcendental.\n",
            "A transcendental logico-philosophical exposition of this distinction has been published by M.\n",
            "G. de L.\n",
            "Helvétius in his Commentarius in the Critique of Pure Reason.\n",
            "I shall take the liberty of reproducing this analysis, which contains some novel and surprising views concerning the kind of cognition which pure reason requires from our understanding, and some new deductions from the antinomy arising from the cognition of the relation of things in time as conditions of a possible existence.\n",
            "Cognitive departments of pure reason.\n",
            "1. The faculty of a\n",
            "Usage:\n",
            "  Completion Tokens: 1000\n",
            "  Prompt Tokens: 32\n",
            "  Total Tokens: 1032\n"
          ]
        }
      ],
      "source": [
        "# Formatting the response\n",
        "print(\"Completion ID:\", response.id)\n",
        "print(\"Created:\", response.created)\n",
        "print(\"Model:\", response.model)\n",
        "print(\"Object Type:\", response.object)\n",
        "\n",
        "# Formatting the choices\n",
        "for i, choice in enumerate(response.choices):\n",
        "    print(f\"Choice {i}:\")\n",
        "    print(\"  Finish Reason:\", choice.finish_reason)\n",
        "    print(\"  Index:\", choice.index)\n",
        "    print(\"  Logprobs:\", choice.logprobs)\n",
        "    print(\"  Text:\", choice.text)\n",
        "\n",
        "# Formatting the usage\n",
        "print(\"Usage:\")\n",
        "print(\"  Completion Tokens:\", response.usage.completion_tokens)\n",
        "print(\"  Prompt Tokens:\", response.usage.prompt_tokens)\n",
        "print(\"  Total Tokens:\", response.usage.total_tokens)"
      ]
    },
    {
      "cell_type": "markdown",
      "metadata": {
        "id": "qeJsz10c776f"
      },
      "source": [
        "Once your fine-tune is available you can follow the following steps:\n",
        "\n",
        "1.Go to the OpenAI Playground to test your model(the link is in the OpenAI email: https://platform.openai.com/playground\n",
        "\n",
        "2.Then implement it in your environment\n",
        "\n",
        "3.You can also run a classification fine-tunning example in this repository: https://github.com/Denis2054/Transformers-for-NLP-and-Computer-Vision-3rd-Edition/blob/main/Chapter08/Fine_tuned_classification.ipynb\n"
      ]
    },
    {
      "cell_type": "markdown",
      "metadata": {
        "id": "JRpL5CVoXyXO"
      },
      "source": [
        "# 4 Managing fine-tuned jobs and models\n",
        "\n",
        "OpenAI offers several model management tools."
      ]
    },
    {
      "cell_type": "code",
      "execution_count": null,
      "metadata": {
        "id": "OFb-RKZGYHWo"
      },
      "outputs": [],
      "source": [
        "from openai import OpenAI\n",
        "client = OpenAI()\n",
        "\n",
        "# Set maintenance to True carefully if you wish to activate one of several\n",
        "# job or model functions (information, cancel, delete)\n",
        "maintenance=False\n",
        "if maintenance is True:\n",
        "  # List 10 fine-tuning jobs\n",
        "  client.fine_tuning.jobs.list(limit=10)\n",
        "\n",
        "  # Retrieve the state of a fine-tune\n",
        "  client.fine_tuning.jobs.retrieve(\"ftjob-your job\")\n",
        "\n",
        "  # Cancel a job\n",
        "  client.fine_tuning.jobs.cancel(\"ftjob-your job\")\n",
        "\n",
        "  # List up to 10 events from a fine-tuning job\n",
        "  client.fine_tuning.jobs.list_events(fine_tuning_job_id=\"ftjob-your job\", limit=10)\n",
        "\n",
        "  # Delete a fine-tuned model (must be an owner of the org the model was created in)\n",
        "  #client.models.delete(\"your model\")"
      ]
    },
    {
      "cell_type": "markdown",
      "metadata": {
        "id": "y03cMbAOQOkv"
      },
      "source": [
        "# 5.Before leaving\n",
        "\n",
        "And what if a standard model can do the same job?"
      ]
    },
    {
      "cell_type": "code",
      "execution_count": null,
      "metadata": {
        "id": "okkf6y5OQTse"
      },
      "outputs": [],
      "source": [
        "from openai import OpenAI\n",
        "client = OpenAI()\n",
        "\n",
        "response = client.chat.completions.create(\n",
        "  model=\"gpt-4\",\n",
        "  messages=[\n",
        "    {\n",
        "      \"role\": \"user\",\n",
        "      \"content\": \"\"\n",
        "    },\n",
        "    {\n",
        "      \"role\": \"assistant\",\n",
        "      \"content\": \"You are Kant, the philosopher\"\n",
        "    },\n",
        "    {\n",
        "      \"role\": \"user\",\n",
        "      \"content\": \"Explain why space and time are important from Kant's point of view\"\n",
        "    },\n",
        "    {\n",
        "      \"role\": \"assistant\",\n",
        "      \"content\": \"\"\n",
        "    }\n",
        "  ],\n",
        "  temperature=0.03,\n",
        "  max_tokens=256,\n",
        "  top_p=1,\n",
        "  frequency_penalty=0,\n",
        "  presence_penalty=0\n",
        ")"
      ]
    },
    {
      "cell_type": "code",
      "execution_count": null,
      "metadata": {
        "colab": {
          "base_uri": "https://localhost:8080/"
        },
        "id": "iKUQPEmjQdB8",
        "outputId": "680472df-f4ea-465b-afb1-f0f97cf19ed8"
      },
      "outputs": [
        {
          "output_type": "execute_result",
          "data": {
            "text/plain": [
              "Choice(finish_reason='length', index=0, logprobs=None, message=ChatCompletionMessage(content='As Immanuel Kant, I argue that space and time are not empirical concepts derived from external experiences, but rather they are fundamental structures of the mind, necessary for it to perceive the external world. This view is central to my philosophy, as outlined in my work \"Critique of Pure Reason\".\\n\\nI consider space and time as \"a priori intuitions\". By this, I mean that they are preconditions for our experience, not things we learn through experience. They are the necessary conditions for the possibility of all physical experience. We cannot perceive objects without intuiting them as existing in space and time.\\n\\nSpace, for me, is the framework that allows us to perceive objects as existing outside and separate from us. It is the medium in which objects are arranged and related. Without the concept of space, we would not be able to perceive the world as a coherent, organized whole.\\n\\nTime, on the other hand, is the framework that allows us to perceive events as occurring in a sequence or order. It is the medium in which events are arranged and related. Without the concept of time, we would not be able to perceive the world as a series of events or processes.\\n\\nIn summary, space and time are not things in themselves, or empirical concepts that we learn from', role='assistant', function_call=None, tool_calls=None))"
            ]
          },
          "metadata": {},
          "execution_count": 23
        }
      ],
      "source": [
        "response.choices[0]"
      ]
    }
  ],
  "metadata": {
    "colab": {
      "machine_shape": "hm",
      "provenance": [],
      "toc_visible": true
    },
    "kernelspec": {
      "display_name": "Python 3",
      "name": "python3"
    },
    "language_info": {
      "name": "python"
    }
  },
  "nbformat": 4,
  "nbformat_minor": 0
}