{
  "nbformat": 4,
  "nbformat_minor": 0,
  "metadata": {
    "colab": {
      "provenance": [],
      "authorship_tag": "ABX9TyM+nV2uIZcRc57BA2jNJTdP"
    },
    "kernelspec": {
      "name": "python3",
      "display_name": "Python 3"
    },
    "language_info": {
      "name": "python"
    }
  },
  "cells": [
    {
      "cell_type": "markdown",
      "source": [
        "# DeepSeek, Hugging Face, and Together\n",
        "copyright 2025, Denis Rothman\n",
        "\n",
        "This notebook shows how to run a reasoning, self-reflecting process with DeepSeek with the Hugging Face and Together platforms.\n",
        "\n",
        "[You will need a Hugging Face API Key](https://api.together.xyz/)\n",
        "\n",
        "[You will also need a Together API Key](https://huggingface.co/welcome)\n",
        "\n",
        "This notebook uses Google Secrets to store API keys but you can use any other method you wish.\n",
        "\n",
        "Check the policy of each platform and possible costs before running the code.\n",
        "\n",
        "You might also have to restart the session in Google Colab when installing the packages.\n",
        "\n",
        "You might experience timeouts if your maximum tokens parameter is too large possibly forcing the model to think beyond the timeout limit.\n",
        "\n",
        "[Contact me on LinkedIn](https://www.linkedin.com/in/denis-rothman-0b034043/)\n"
      ],
      "metadata": {
        "id": "z0udLtKbj1qU"
      }
    },
    {
      "cell_type": "code",
      "source": [
        "!pip install transformers"
      ],
      "metadata": {
        "id": "-Q92U2rYejnJ"
      },
      "execution_count": null,
      "outputs": []
    },
    {
      "cell_type": "code",
      "source": [
        "!pip install together"
      ],
      "metadata": {
        "id": "9WQrP63dfB59"
      },
      "execution_count": null,
      "outputs": []
    },
    {
      "cell_type": "code",
      "source": [
        "!pip install --upgrade huggingface_hub"
      ],
      "metadata": {
        "id": "h1R1TfiCgXmW"
      },
      "execution_count": null,
      "outputs": []
    },
    {
      "cell_type": "code",
      "source": [
        "from google.colab import userdata\n",
        "import os\n",
        "from huggingface_hub import InferenceClient\n",
        "\n",
        "# Retrieve the API key from Colab Secrets\n",
        "HF_TOKEN = userdata.get('HF_TOKEN')\n",
        "\n",
        "# Set the API key as an environment variable (optional, if needed by other libraries)\n",
        "os.environ[\"HUGGINGFACE_API_KEY\"] = HF_TOKEN"
      ],
      "metadata": {
        "id": "W8Upvr8Kg4Wi"
      },
      "execution_count": null,
      "outputs": []
    },
    {
      "cell_type": "code",
      "source": [
        "from google.colab import userdata\n",
        "import os\n",
        "from huggingface_hub import InferenceClient\n",
        "\n",
        "# Retrieve the API key from Colab Secrets\n",
        "TOGETHER_API_KEY = userdata.get('TOGETHER_API_KEY')\n",
        "\n",
        "# Set the API key as an environment variable (optional, if needed by other libraries)\n",
        "os.environ[\"TOGETHER_API_KEY\"] = TOGETHER_API_KEY"
      ],
      "metadata": {
        "id": "nJakWcfNhPNl"
      },
      "execution_count": null,
      "outputs": []
    },
    {
      "cell_type": "code",
      "source": [
        "from huggingface_hub import InferenceClient\n",
        "\n",
        "client = InferenceClient(\n",
        "\tprovider=\"together\",\n",
        "\tapi_key=HF_TOKEN\n",
        ")\n",
        "\n",
        "messages = [\n",
        "\t{\n",
        "\t\t\"role\": \"user\",\n",
        "\t\t\"content\": \"Prove that syllogism All organic organisms are mortal. Humans are organic organisms. Thus humans are mortal. Provide as many self-resasoning thoughts you can as you provide a response. \"\n",
        "\t}\n",
        "]\n",
        "\n",
        "completion = client.chat.completions.create(\n",
        "    model=\"deepseek-ai/DeepSeek-R1\",\n",
        "\tmessages=messages,\n",
        "\tmax_tokens=500\n",
        ")\n",
        "\n",
        "print(completion.choices[0].message)"
      ],
      "metadata": {
        "colab": {
          "base_uri": "https://localhost:8080/"
        },
        "id": "8QjdWKRKhuWp",
        "outputId": "1804d4b5-8968-4aba-c2e7-9a891a8c9d42"
      },
      "execution_count": null,
      "outputs": [
        {
          "output_type": "stream",
          "name": "stdout",
          "text": [
            "ChatCompletionOutputMessage(role='assistant', content='<think>\\nOkay, I need to prove the syllogism: All organic organisms are mortal. Humans are organic organisms. Therefore, humans are mortal. Let me start by recalling what a syllogism is. A syllogism is a form of deductive reasoning where a conclusion is drawn from two given premises. The classic structure is major premise, minor premise, conclusion.\\n\\nFirst, let\\'s parse the premises. The major premise states that all organic organisms are mortal. That means anything classified as an organic organism must die at some point. The minor premise says humans are organic organisms. So if humans fit into the category of organic organisms, then according to the major premise, they should inherit the property of mortality.\\n\\nWait, but I should check if the terms are distributed properly. In syllogistic logic, the middle term (here, \"organic organisms\") must be distributed in at least one premise. The middle term connects the major and minor terms. The major term is \"mortal,\" and the minor term is \"humans.\" In the major premise, \"organic organisms\" is the subject of a universal affirmative (All A are B), so it\\'s distributed. The minor premise is also a universal affirmative (All humans are organic organisms). Wait, actually, the minor premise as stated is \"Humans are organic organisms,\" which is an A proposition (All S are P). So the middle term \"organic organisms\" is the predicate in the minor premise. Hmm, in the minor premise, the predicate of an A proposition is not distributed. However, in the major premise, the middle term is distributed as the subject of an A proposition. So the middle term is distributed in the major premise, which satisfies the rule that the middle term must be distributed at least once. That\\'s okay.\\n\\nNext, check if any term distributed in the conclusion is distributed in the premises. The conclusion is \"humans are mortal,\" which is an A proposition. The predicate \"mortal\" is not distributed in the conclusion because in an A proposition, only the subject is distributed. But in the major premise, \"mortal\" is the predicate of an A proposition, so it\\'s not distributed there either. Wait, but the major premise is \"All organic organisms are mortal,\" so \"mortal\" is the predicate and not distributed. The conclusion\\'s predicate is \"mortal,\" which isn\\'t distributed in the premise. But that\\'s okay because in a valid syllogism, the', tool_calls=[])\n"
          ]
        }
      ]
    },
    {
      "cell_type": "code",
      "source": [
        "import textwrap\n",
        "\n",
        "# Assuming completion.choices[0].message contains the text to format\n",
        "message = completion.choices[0].message['content']\n",
        "\n",
        "# Set the desired width for each line\n",
        "line_width = 70\n",
        "\n",
        "# Wrap the text to the specified width\n",
        "wrapped_message = textwrap.fill(message, width=line_width)\n",
        "\n",
        "print(wrapped_message)\n"
      ],
      "metadata": {
        "colab": {
          "base_uri": "https://localhost:8080/"
        },
        "id": "thUWmp3tjZ2a",
        "outputId": "11f026ef-af09-4edd-e783-bac59c063225"
      },
      "execution_count": null,
      "outputs": [
        {
          "output_type": "stream",
          "name": "stdout",
          "text": [
            "<think> Okay, so I need to prove that the syllogism \"All organic\n",
            "organisms are mortal. Humans are organic organisms. Thus humans are\n",
            "mortal.\" is valid. Let me start by recalling what a syllogism is. From\n",
            "what I remember, a syllogism is a form of deductive reasoning where a\n",
            "conclusion is drawn from two premises. The structure is usually two\n",
            "premises followed by a conclusion. The classic example is like \"All\n",
            "men are mortal. Socrates is a man. Therefore, Socrates is mortal.\" So\n",
            "this problem is similar, just replacing men with organic organisms and\n",
            "Socrates with humans.  First, I should check if the syllogism follows\n",
            "the correct structure. Syllogisms have three parts: major premise,\n",
            "minor premise, and conclusion. Here, the major premise is \"All organic\n",
            "organisms are mortal.\" The minor premise is \"Humans are organic\n",
            "organisms.\" And the conclusion is \"Humans are mortal.\" So the\n",
            "structure seems correct. The major premise makes a general statement,\n",
            "the minor premise links a specific case to the general statement, and\n",
            "the conclusion applies the general statement to the specific case.\n",
            "Now, thinking about validity. A syllogism is valid if the conclusion\n",
            "logically follows from the premises, regardless of whether the\n",
            "premises are true. So even if the premises were false, the structure\n",
            "could still be valid. But in this case, the premises are factually\n",
            "true, which makes the argument sound as well as valid. But the\n",
            "question is about validity, so maybe I should focus on the logical\n",
            "structure rather than the truth of the premises.  Let me recall the\n",
            "different figures and moods of syllogisms. Aristotle classified them\n",
            "based on the position of the middle term. The mood here is AAA-1,\n",
            "meaning all premises and conclusion are universal affirmatives, and\n",
            "the middle term is the subject of the major premise and the predicate\n",
            "of the minor premise. Wait, in this case, the major premise is \"All\n",
            "organic organisms are mortal,\" so the middle term is \"organic\n",
            "organisms.\" The minor premise is \"Humans are organic organisms,\" so\n",
            "the middle term is the predicate here. That fits the first figure,\n",
            "where the middle term is subject of major and predicate of minor. So\n",
            "AAA-1 is a valid form, also known as Barbara, if I remember correctly.\n",
            "Barbara is the mnemonic name for AAA-1 syllogisms. So that would make\n",
            "this syllogism valid.  But maybe I should break it down more. Let's\n",
            "use set theory\n"
          ]
        }
      ]
    }
  ]
}