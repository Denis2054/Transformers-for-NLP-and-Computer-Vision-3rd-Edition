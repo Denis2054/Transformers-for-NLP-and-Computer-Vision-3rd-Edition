{
  "cells": [
    {
      "cell_type": "markdown",
      "metadata": {
        "id": "MgkjinWHIXxt"
      },
      "source": [
        "GPT-4V\n",
        "\n",
        "copyright 2024 Denis Rothman\n",
        "\n",
        "[OpenAI Vision](https://platform.openai.com/docs/guides/vision)\n",
        "\n",
        "Example 1: A standard image and text\n",
        "\n",
        "Example 2:  Divergent Semantic Association, moderate divergence\n",
        "\n",
        "Example 3:  Divergent Semantic Association, high divergence"
      ]
    },
    {
      "cell_type": "markdown",
      "source": [
        "**June 26,2024 update**  \n",
        "\n",
        "gpt-4-vision-preview upgraded to gpt-4o"
      ],
      "metadata": {
        "id": "CkxtlJVS8rqL"
      }
    },
    {
      "cell_type": "code",
      "source": [
        "#model=\"gpt-4-vision-preview\"\n",
        "vmodel=\"gpt-4o\""
      ],
      "metadata": {
        "id": "ZX_uEJ0A3sD7"
      },
      "execution_count": 3,
      "outputs": []
    },
    {
      "cell_type": "code",
      "execution_count": 4,
      "metadata": {
        "id": "rTjI3889GsDL",
        "colab": {
          "base_uri": "https://localhost:8080/"
        },
        "outputId": "86c39428-1c84-4b31-be96-f9a3c6c52d73"
      },
      "outputs": [
        {
          "output_type": "stream",
          "name": "stdout",
          "text": [
            "Drive already mounted at /content/drive; to attempt to forcibly remount, call drive.mount(\"/content/drive\", force_remount=True).\n"
          ]
        }
      ],
      "source": [
        "#API Key\n",
        "#Store you key in a file and read it(you can type it directly in the notebook but it will be visible for somebody next to you)\n",
        "from google.colab import drive\n",
        "drive.mount('/content/drive')\n",
        "f = open(\"drive/MyDrive/files/api_key.txt\", \"r\")\n",
        "API_KEY=f.readline()\n",
        "f.close()"
      ]
    },
    {
      "cell_type": "code",
      "execution_count": 5,
      "metadata": {
        "id": "c5PeVH1NGsPI",
        "colab": {
          "base_uri": "https://localhost:8080/"
        },
        "outputId": "f5724139-04ef-4131-f29f-2b161221fbee"
      },
      "outputs": [
        {
          "output_type": "stream",
          "name": "stdout",
          "text": [
            "Collecting openai\n",
            "  Downloading openai-1.35.4-py3-none-any.whl (327 kB)\n",
            "\u001b[2K     \u001b[90m━━━━━━━━━━━━━━━━━━━━━━━━━━━━━━━━━━━━━━━━\u001b[0m \u001b[32m327.4/327.4 kB\u001b[0m \u001b[31m2.4 MB/s\u001b[0m eta \u001b[36m0:00:00\u001b[0m\n",
            "\u001b[?25hRequirement already satisfied: anyio<5,>=3.5.0 in /usr/local/lib/python3.10/dist-packages (from openai) (3.7.1)\n",
            "Requirement already satisfied: distro<2,>=1.7.0 in /usr/lib/python3/dist-packages (from openai) (1.7.0)\n",
            "Collecting httpx<1,>=0.23.0 (from openai)\n",
            "  Downloading httpx-0.27.0-py3-none-any.whl (75 kB)\n",
            "\u001b[2K     \u001b[90m━━━━━━━━━━━━━━━━━━━━━━━━━━━━━━━━━━━━━━━━\u001b[0m \u001b[32m75.6/75.6 kB\u001b[0m \u001b[31m8.3 MB/s\u001b[0m eta \u001b[36m0:00:00\u001b[0m\n",
            "\u001b[?25hRequirement already satisfied: pydantic<3,>=1.9.0 in /usr/local/lib/python3.10/dist-packages (from openai) (2.7.4)\n",
            "Requirement already satisfied: sniffio in /usr/local/lib/python3.10/dist-packages (from openai) (1.3.1)\n",
            "Requirement already satisfied: tqdm>4 in /usr/local/lib/python3.10/dist-packages (from openai) (4.66.4)\n",
            "Requirement already satisfied: typing-extensions<5,>=4.7 in /usr/local/lib/python3.10/dist-packages (from openai) (4.12.2)\n",
            "Requirement already satisfied: idna>=2.8 in /usr/local/lib/python3.10/dist-packages (from anyio<5,>=3.5.0->openai) (3.7)\n",
            "Requirement already satisfied: exceptiongroup in /usr/local/lib/python3.10/dist-packages (from anyio<5,>=3.5.0->openai) (1.2.1)\n",
            "Requirement already satisfied: certifi in /usr/local/lib/python3.10/dist-packages (from httpx<1,>=0.23.0->openai) (2024.6.2)\n",
            "Collecting httpcore==1.* (from httpx<1,>=0.23.0->openai)\n",
            "  Downloading httpcore-1.0.5-py3-none-any.whl (77 kB)\n",
            "\u001b[2K     \u001b[90m━━━━━━━━━━━━━━━━━━━━━━━━━━━━━━━━━━━━━━━━\u001b[0m \u001b[32m77.9/77.9 kB\u001b[0m \u001b[31m9.1 MB/s\u001b[0m eta \u001b[36m0:00:00\u001b[0m\n",
            "\u001b[?25hCollecting h11<0.15,>=0.13 (from httpcore==1.*->httpx<1,>=0.23.0->openai)\n",
            "  Downloading h11-0.14.0-py3-none-any.whl (58 kB)\n",
            "\u001b[2K     \u001b[90m━━━━━━━━━━━━━━━━━━━━━━━━━━━━━━━━━━━━━━━━\u001b[0m \u001b[32m58.3/58.3 kB\u001b[0m \u001b[31m7.5 MB/s\u001b[0m eta \u001b[36m0:00:00\u001b[0m\n",
            "\u001b[?25hRequirement already satisfied: annotated-types>=0.4.0 in /usr/local/lib/python3.10/dist-packages (from pydantic<3,>=1.9.0->openai) (0.7.0)\n",
            "Requirement already satisfied: pydantic-core==2.18.4 in /usr/local/lib/python3.10/dist-packages (from pydantic<3,>=1.9.0->openai) (2.18.4)\n",
            "Installing collected packages: h11, httpcore, httpx, openai\n",
            "Successfully installed h11-0.14.0 httpcore-1.0.5 httpx-0.27.0 openai-1.35.4\n"
          ]
        }
      ],
      "source": [
        "#Importing openai\n",
        "try:\n",
        "  import openai\n",
        "except:\n",
        "  !pip install openai\n",
        "  import openai"
      ]
    },
    {
      "cell_type": "code",
      "source": [
        "#The OpenAI Key\n",
        "import os\n",
        "os.environ['OPENAI_API_KEY'] =API_KEY\n",
        "openai.api_key = os.getenv(\"OPENAI_API_KEY\")"
      ],
      "metadata": {
        "id": "98_o7ghZ4z_L"
      },
      "execution_count": 6,
      "outputs": []
    },
    {
      "cell_type": "markdown",
      "metadata": {
        "id": "PPnXun6cOcUt"
      },
      "source": [
        "# Example 1 :  A standard image and text\n"
      ]
    },
    {
      "cell_type": "code",
      "execution_count": 7,
      "metadata": {
        "id": "BiHeF0hnGkLV"
      },
      "outputs": [],
      "source": [
        "from openai import OpenAI\n",
        "\n",
        "client = OpenAI()\n",
        "\n",
        "response = client.chat.completions.create(\n",
        "  model=vmodel,\n",
        "  messages=[\n",
        "    {\n",
        "      \"role\": \"user\",\n",
        "      \"content\": [\n",
        "        {\"type\": \"text\", \"text\": \"What’s in this image?\"},\n",
        "        {\n",
        "          \"type\": \"image_url\",\n",
        "          \"image_url\": {\n",
        "            \"url\": \"https://upload.wikimedia.org/wikipedia/commons/thumb/d/dd/Gfp-wisconsin-madison-the-nature-boardwalk.jpg/2560px-Gfp-wisconsin-madison-the-nature-boardwalk.jpg\",\n",
        "          },\n",
        "        },\n",
        "      ],\n",
        "    }\n",
        "  ],\n",
        "  max_tokens=300,\n",
        ")"
      ]
    },
    {
      "cell_type": "code",
      "execution_count": 8,
      "metadata": {
        "colab": {
          "base_uri": "https://localhost:8080/"
        },
        "id": "9FigIi2GPgBM",
        "outputId": "21972c80-02ed-44fa-8f16-b091305fd967"
      },
      "outputs": [
        {
          "output_type": "stream",
          "name": "stdout",
          "text": [
            "This image depicts a scenic landscape with a wooden boardwalk path running\n",
            "through a grassy field. The sky above is blue with scattered clouds, and there\n",
            "are trees and shrubs in the background. The setting appears to be a natural or\n",
            "park area, offering a peaceful and serene view.\n"
          ]
        }
      ],
      "source": [
        "import textwrap\n",
        "\n",
        "choice = response.choices[0]\n",
        "response_content = choice.message.content  # Access the content attribute\n",
        "\n",
        "# Use textwrap to format the text into a paragraph\n",
        "formatted_response = textwrap.fill(response_content, width=80)\n",
        "\n",
        "# Printing the formatted response\n",
        "print(formatted_response)"
      ]
    },
    {
      "cell_type": "code",
      "execution_count": 9,
      "metadata": {
        "colab": {
          "base_uri": "https://localhost:8080/",
          "height": 1000
        },
        "id": "XwAh1xRkPSkM",
        "outputId": "cc384073-c714-46b2-fa61-68a75bd5a3ed"
      },
      "outputs": [
        {
          "output_type": "display_data",
          "data": {
            "text/html": [
              "<img src=\"https://upload.wikimedia.org/wikipedia/commons/thumb/d/dd/Gfp-wisconsin-madison-the-nature-boardwalk.jpg/2560px-Gfp-wisconsin-madison-the-nature-boardwalk.jpg\"/>"
            ],
            "text/plain": [
              "<IPython.core.display.Image object>"
            ]
          },
          "metadata": {}
        }
      ],
      "source": [
        "from IPython.display import Image, display\n",
        "\n",
        "# URL of the image\n",
        "image_url =  \"https://upload.wikimedia.org/wikipedia/commons/thumb/d/dd/Gfp-wisconsin-madison-the-nature-boardwalk.jpg/2560px-Gfp-wisconsin-madison-the-nature-boardwalk.jpg\"\n",
        "\n",
        "# Display the image\n",
        "display(Image(url=image_url))"
      ]
    },
    {
      "cell_type": "markdown",
      "metadata": {
        "id": "JqFMb11yOffo"
      },
      "source": [
        "# Example 2: Divergent Semantic Association, moderate divergence\n",
        "\n",
        "Note: Change the path to the 3rd edition repository when the repository goes public"
      ]
    },
    {
      "cell_type": "code",
      "execution_count": 10,
      "metadata": {
        "id": "B_fO6iDPNlD-"
      },
      "outputs": [],
      "source": [
        "from openai import OpenAI\n",
        "\n",
        "client = OpenAI()\n",
        "\n",
        "response = client.chat.completions.create(\n",
        "  model=vmodel,\n",
        "  messages=[\n",
        "    {\n",
        "      \"role\": \"user\",\n",
        "      \"content\": [\n",
        "        {\"type\": \"text\", \"text\": \"What’s in this image?\"},\n",
        "        {\n",
        "          \"type\": \"image_url\",\n",
        "          \"image_url\": {\n",
        "            \"url\": \"https://raw.githubusercontent.com/Denis2054/Transformers_3rd_Edition/master/Chapter16/dog.png\",\n",
        "          },\n",
        "        },\n",
        "      ],\n",
        "    }\n",
        "  ],\n",
        "  max_tokens=300,\n",
        ")"
      ]
    },
    {
      "cell_type": "code",
      "execution_count": 11,
      "metadata": {
        "colab": {
          "base_uri": "https://localhost:8080/"
        },
        "id": "ndaA8SGcOR13",
        "outputId": "c6a384e7-2232-4f16-ee64-1c283ee051b7"
      },
      "outputs": [
        {
          "output_type": "stream",
          "name": "stdout",
          "text": [
            "The image shows a highly stylized and abstract depiction of an animal, likely a\n",
            "fox or a dog. The artwork is composed of swirling, vibrant colors and intricate\n",
            "patterns, creating a dynamic and expressive visual effect. The background is\n",
            "dark, which helps to highlight the colorful and flowing elements of the animal's\n",
            "form, making it stand out. The use of spirals and fluid lines gives the image a\n",
            "sense of movement and energy.\n"
          ]
        }
      ],
      "source": [
        "import textwrap\n",
        "\n",
        "choice = response.choices[0]\n",
        "response_content = choice.message.content  # Access the content attribute\n",
        "\n",
        "# Use textwrap to format the text into a paragraph\n",
        "formatted_response = textwrap.fill(response_content, width=80)\n",
        "\n",
        "# Printing the formatted response\n",
        "print(formatted_response)"
      ]
    },
    {
      "cell_type": "code",
      "execution_count": 12,
      "metadata": {
        "colab": {
          "base_uri": "https://localhost:8080/",
          "height": 1000
        },
        "id": "rprs-ysnPOOo",
        "outputId": "970641c9-4cb3-4ac3-8faf-ca1cbf3d372b"
      },
      "outputs": [
        {
          "output_type": "display_data",
          "data": {
            "text/html": [
              "<img src=\"https://raw.githubusercontent.com/Denis2054/Transformers_3rd_Edition/master/Chapter16/dog.png\"/>"
            ],
            "text/plain": [
              "<IPython.core.display.Image object>"
            ]
          },
          "metadata": {}
        }
      ],
      "source": [
        "from IPython.display import Image, display\n",
        "\n",
        "# URL of the image\n",
        "image_url = \"https://raw.githubusercontent.com/Denis2054/Transformers_3rd_Edition/master/Chapter16/dog.png\"\n",
        "\n",
        "# Display the image\n",
        "display(Image(url=image_url))"
      ]
    },
    {
      "cell_type": "markdown",
      "metadata": {
        "id": "RYwQ0RwtVKeB"
      },
      "source": [
        "# Example 3: Divergent Semantic Association, high divergence\n",
        "\n",
        "Note: Change the path to the 3rd edition repository when the repository goes public"
      ]
    },
    {
      "cell_type": "code",
      "execution_count": 13,
      "metadata": {
        "id": "7gqacfk_V1CT"
      },
      "outputs": [],
      "source": [
        "from openai import OpenAI\n",
        "\n",
        "client = OpenAI()\n",
        "\n",
        "response = client.chat.completions.create(\n",
        "  model=vmodel,\n",
        "  messages=[\n",
        "    {\n",
        "      \"role\": \"user\",\n",
        "      \"content\": [\n",
        "        {\"type\": \"text\", \"text\": \"What’s in this image?\"},\n",
        "        {\n",
        "          \"type\": \"image_url\",\n",
        "          \"image_url\": {\n",
        "            \"url\": \"https://raw.githubusercontent.com/Denis2054/Transformers_3rd_Edition/master/Chapter16/D4.png\",\n",
        "          },\n",
        "        },\n",
        "      ],\n",
        "    }\n",
        "  ],\n",
        "  max_tokens=300,\n",
        ")"
      ]
    },
    {
      "cell_type": "code",
      "execution_count": 14,
      "metadata": {
        "colab": {
          "base_uri": "https://localhost:8080/"
        },
        "id": "9uULchHMVplv",
        "outputId": "23071bd4-6777-4770-88d4-ff860e3857d0"
      },
      "outputs": [
        {
          "output_type": "stream",
          "name": "stdout",
          "text": [
            "The image features an abstract and colorful depiction of a dog's head. The\n",
            "composition is created using swirling patterns and vibrant colors that flow\n",
            "together to form the recognizable shape of the dog's face and features. The\n",
            "design elements include a mix of spirals, curves, and loops that give it an\n",
            "artistic and dynamic feel.\n"
          ]
        }
      ],
      "source": [
        "import textwrap\n",
        "\n",
        "choice = response.choices[0]\n",
        "response_content = choice.message.content  # Access the content attribute\n",
        "\n",
        "# Use textwrap to format the text into a paragraph\n",
        "formatted_response = textwrap.fill(response_content, width=80)\n",
        "\n",
        "# Printing the formatted response\n",
        "print(formatted_response)"
      ]
    },
    {
      "cell_type": "code",
      "execution_count": 15,
      "metadata": {
        "colab": {
          "base_uri": "https://localhost:8080/",
          "height": 1000
        },
        "id": "vrfyk6-8V5Yp",
        "outputId": "1ac4855b-4115-4efd-fbf1-488dd31934c4"
      },
      "outputs": [
        {
          "output_type": "display_data",
          "data": {
            "text/html": [
              "<img src=\"https://raw.githubusercontent.com/Denis2054/Transformers_3rd_Edition/master/Chapter16/D4.png\"/>"
            ],
            "text/plain": [
              "<IPython.core.display.Image object>"
            ]
          },
          "metadata": {}
        }
      ],
      "source": [
        "from IPython.display import Image, display\n",
        "\n",
        "# URL of the image\n",
        "image_url = \"https://raw.githubusercontent.com/Denis2054/Transformers_3rd_Edition/master/Chapter16/D4.png\"\n",
        "\n",
        "# Display the image\n",
        "display(Image(url=image_url))"
      ]
    }
  ],
  "metadata": {
    "colab": {
      "provenance": [],
      "toc_visible": true
    },
    "kernelspec": {
      "display_name": "Python 3",
      "name": "python3"
    },
    "language_info": {
      "name": "python"
    }
  },
  "nbformat": 4,
  "nbformat_minor": 0
}