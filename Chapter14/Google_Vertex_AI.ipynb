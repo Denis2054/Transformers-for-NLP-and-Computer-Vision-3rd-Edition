{
  "cells": [
    {
      "cell_type": "markdown",
      "metadata": {
        "id": "PYvzs7cLR9oY"
      },
      "source": [
        "# Vertex AI\n",
        "Copyright 2024, Denis Rothman\n",
        "\n",
        "Google, as other editors advancing at full speed with LLM generative transformer models, is continually updating the available models.\n",
        "\n",
        "\n",
        "The models versions may not be stable. If you encounter an issue, go to Google's model versioning page to see which use.\n",
        "\n",
        "https://cloud.google.com/vertex-ai/docs/generative-ai/learn/model-versioning\n",
        "\n",
        "**October 29, 2024:** Google Vertex AI is continually upgrading. This notebook is now replaced by *Chapter14/Google_Vertex_AI_Gemini.ipynb* that you will find in the same directory as this notebook.\n",
        "\n",
        "**IMPORTANT! March 28, 2024 note:** Due to a major Bigframes upgrade, there is a conflich with Vertex AI. It will no doubt be fixed. In the meantime, biframmes==0.26.0 was installed.\n",
        "(It is recommended to run this notebook cell by cell if necessary)"
      ]
    },
    {
      "cell_type": "markdown",
      "metadata": {
        "id": "DDNGzfPGrSAK"
      },
      "source": [
        "# JUNE 20,2024 IMPORTANT GOOGLE INFORMATION:\n",
        "\n",
        "**We've upgraded.**\n",
        "\n",
        "A Gemini notebook has replaced this one in the GitHub repository with 20 NLP tasks an a vision functionality:\n",
        "https://colab.research.google.com/github/Denis2054/Transformers-for-NLP-and-Computer-Vision-3rd-Edition/blob/main/Chapter14/Google_Vertex_AI_Gemini.ipynb\n",
        "\n",
        "Gemini is faster and more powerful.\n",
        "\n",
        "**Google's message:**\n",
        "\n",
        "[citation: beginning of Google message]    \n",
        "**What you need to know**\n",
        "On **July 6, 2024**, we will remove the public reference from model versions and life cycle documentation and user interface.\n",
        "\n",
        "These are the PaLM models that will be available until the new extended date of **October 9, 2024**:\n",
        "\n",
        "chat-bison@001\n",
        "text-bison@001\n",
        "code-bison@001\n",
        "codechat-bison@001\n",
        "code-gecko@001\n",
        "\n",
        "[citation: end of Google message]    "
      ]
    },
    {
      "cell_type": "code",
      "execution_count": null,
      "metadata": {
        "colab": {
          "base_uri": "https://localhost:8080/"
        },
        "id": "MoDSC70YVXog",
        "outputId": "36a55453-2696-4a4d-aabc-0d3416f4f3f5"
      },
      "outputs": [
        {
          "name": "stdout",
          "output_type": "stream",
          "text": [
            "Requirement already satisfied: google-cloud-aiplatform in /usr/local/lib/python3.10/dist-packages (1.44.0)\n",
            "Requirement already satisfied: google-api-core[grpc]!=2.0.*,!=2.1.*,!=2.2.*,!=2.3.*,!=2.4.*,!=2.5.*,!=2.6.*,!=2.7.*,<3.0.0dev,>=1.34.1 in /usr/local/lib/python3.10/dist-packages (from google-cloud-aiplatform) (2.11.1)\n",
            "Requirement already satisfied: google-auth<3.0.0dev,>=2.14.1 in /usr/local/lib/python3.10/dist-packages (from google-cloud-aiplatform) (2.27.0)\n",
            "Requirement already satisfied: proto-plus<2.0.0dev,>=1.22.0 in /usr/local/lib/python3.10/dist-packages (from google-cloud-aiplatform) (1.23.0)\n",
            "Requirement already satisfied: protobuf!=3.20.0,!=3.20.1,!=4.21.0,!=4.21.1,!=4.21.2,!=4.21.3,!=4.21.4,!=4.21.5,<5.0.0dev,>=3.19.5 in /usr/local/lib/python3.10/dist-packages (from google-cloud-aiplatform) (3.20.3)\n",
            "Requirement already satisfied: packaging>=14.3 in /usr/local/lib/python3.10/dist-packages (from google-cloud-aiplatform) (24.0)\n",
            "Requirement already satisfied: google-cloud-storage<3.0.0dev,>=1.32.0 in /usr/local/lib/python3.10/dist-packages (from google-cloud-aiplatform) (2.8.0)\n",
            "Requirement already satisfied: google-cloud-bigquery<4.0.0dev,>=1.15.0 in /usr/local/lib/python3.10/dist-packages (from google-cloud-aiplatform) (3.12.0)\n",
            "Requirement already satisfied: google-cloud-resource-manager<3.0.0dev,>=1.3.3 in /usr/local/lib/python3.10/dist-packages (from google-cloud-aiplatform) (1.12.3)\n",
            "Requirement already satisfied: shapely<3.0.0dev in /usr/local/lib/python3.10/dist-packages (from google-cloud-aiplatform) (2.0.3)\n",
            "Requirement already satisfied: googleapis-common-protos<2.0.dev0,>=1.56.2 in /usr/local/lib/python3.10/dist-packages (from google-api-core[grpc]!=2.0.*,!=2.1.*,!=2.2.*,!=2.3.*,!=2.4.*,!=2.5.*,!=2.6.*,!=2.7.*,<3.0.0dev,>=1.34.1->google-cloud-aiplatform) (1.63.0)\n",
            "Requirement already satisfied: requests<3.0.0.dev0,>=2.18.0 in /usr/local/lib/python3.10/dist-packages (from google-api-core[grpc]!=2.0.*,!=2.1.*,!=2.2.*,!=2.3.*,!=2.4.*,!=2.5.*,!=2.6.*,!=2.7.*,<3.0.0dev,>=1.34.1->google-cloud-aiplatform) (2.31.0)\n",
            "Requirement already satisfied: grpcio<2.0dev,>=1.33.2 in /usr/local/lib/python3.10/dist-packages (from google-api-core[grpc]!=2.0.*,!=2.1.*,!=2.2.*,!=2.3.*,!=2.4.*,!=2.5.*,!=2.6.*,!=2.7.*,<3.0.0dev,>=1.34.1->google-cloud-aiplatform) (1.62.1)\n",
            "Requirement already satisfied: grpcio-status<2.0.dev0,>=1.33.2 in /usr/local/lib/python3.10/dist-packages (from google-api-core[grpc]!=2.0.*,!=2.1.*,!=2.2.*,!=2.3.*,!=2.4.*,!=2.5.*,!=2.6.*,!=2.7.*,<3.0.0dev,>=1.34.1->google-cloud-aiplatform) (1.48.2)\n",
            "Requirement already satisfied: cachetools<6.0,>=2.0.0 in /usr/local/lib/python3.10/dist-packages (from google-auth<3.0.0dev,>=2.14.1->google-cloud-aiplatform) (5.3.3)\n",
            "Requirement already satisfied: pyasn1-modules>=0.2.1 in /usr/local/lib/python3.10/dist-packages (from google-auth<3.0.0dev,>=2.14.1->google-cloud-aiplatform) (0.3.0)\n",
            "Requirement already satisfied: rsa<5,>=3.1.4 in /usr/local/lib/python3.10/dist-packages (from google-auth<3.0.0dev,>=2.14.1->google-cloud-aiplatform) (4.9)\n",
            "Requirement already satisfied: google-cloud-core<3.0.0dev,>=1.6.0 in /usr/local/lib/python3.10/dist-packages (from google-cloud-bigquery<4.0.0dev,>=1.15.0->google-cloud-aiplatform) (2.3.3)\n",
            "Requirement already satisfied: google-resumable-media<3.0dev,>=0.6.0 in /usr/local/lib/python3.10/dist-packages (from google-cloud-bigquery<4.0.0dev,>=1.15.0->google-cloud-aiplatform) (2.7.0)\n",
            "Requirement already satisfied: python-dateutil<3.0dev,>=2.7.2 in /usr/local/lib/python3.10/dist-packages (from google-cloud-bigquery<4.0.0dev,>=1.15.0->google-cloud-aiplatform) (2.8.2)\n",
            "Requirement already satisfied: grpc-google-iam-v1<1.0.0dev,>=0.12.4 in /usr/local/lib/python3.10/dist-packages (from google-cloud-resource-manager<3.0.0dev,>=1.3.3->google-cloud-aiplatform) (0.13.0)\n",
            "Requirement already satisfied: numpy<2,>=1.14 in /usr/local/lib/python3.10/dist-packages (from shapely<3.0.0dev->google-cloud-aiplatform) (1.25.2)\n",
            "Requirement already satisfied: google-crc32c<2.0dev,>=1.0 in /usr/local/lib/python3.10/dist-packages (from google-resumable-media<3.0dev,>=0.6.0->google-cloud-bigquery<4.0.0dev,>=1.15.0->google-cloud-aiplatform) (1.5.0)\n",
            "Requirement already satisfied: pyasn1<0.6.0,>=0.4.6 in /usr/local/lib/python3.10/dist-packages (from pyasn1-modules>=0.2.1->google-auth<3.0.0dev,>=2.14.1->google-cloud-aiplatform) (0.5.1)\n",
            "Requirement already satisfied: six>=1.5 in /usr/local/lib/python3.10/dist-packages (from python-dateutil<3.0dev,>=2.7.2->google-cloud-bigquery<4.0.0dev,>=1.15.0->google-cloud-aiplatform) (1.16.0)\n",
            "Requirement already satisfied: charset-normalizer<4,>=2 in /usr/local/lib/python3.10/dist-packages (from requests<3.0.0.dev0,>=2.18.0->google-api-core[grpc]!=2.0.*,!=2.1.*,!=2.2.*,!=2.3.*,!=2.4.*,!=2.5.*,!=2.6.*,!=2.7.*,<3.0.0dev,>=1.34.1->google-cloud-aiplatform) (3.3.2)\n",
            "Requirement already satisfied: idna<4,>=2.5 in /usr/local/lib/python3.10/dist-packages (from requests<3.0.0.dev0,>=2.18.0->google-api-core[grpc]!=2.0.*,!=2.1.*,!=2.2.*,!=2.3.*,!=2.4.*,!=2.5.*,!=2.6.*,!=2.7.*,<3.0.0dev,>=1.34.1->google-cloud-aiplatform) (3.6)\n",
            "Requirement already satisfied: urllib3<3,>=1.21.1 in /usr/local/lib/python3.10/dist-packages (from requests<3.0.0.dev0,>=2.18.0->google-api-core[grpc]!=2.0.*,!=2.1.*,!=2.2.*,!=2.3.*,!=2.4.*,!=2.5.*,!=2.6.*,!=2.7.*,<3.0.0dev,>=1.34.1->google-cloud-aiplatform) (2.0.7)\n",
            "Requirement already satisfied: certifi>=2017.4.17 in /usr/local/lib/python3.10/dist-packages (from requests<3.0.0.dev0,>=2.18.0->google-api-core[grpc]!=2.0.*,!=2.1.*,!=2.2.*,!=2.3.*,!=2.4.*,!=2.5.*,!=2.6.*,!=2.7.*,<3.0.0dev,>=1.34.1->google-cloud-aiplatform) (2024.2.2)\n"
          ]
        }
      ],
      "source": [
        "!pip install google-cloud-aiplatform"
      ]
    },
    {
      "cell_type": "code",
      "execution_count": null,
      "metadata": {
        "id": "ZwmwszyXSr9l"
      },
      "outputs": [],
      "source": [
        "from google.colab import auth as google_auth\n",
        "google_auth.authenticate_user()"
      ]
    },
    {
      "cell_type": "markdown",
      "metadata": {
        "id": "YooDjpX3VIre"
      },
      "source": [
        "March 28,2024 Update\n",
        "\n",
        "There's a recent major release in the [BigFrames library](https://pypi.org/project/bigframes/#history) which is now 1.0.1, which might conflict with the Vertex AI SDK used here.\n",
        "\n",
        "BigQuery DataFrames provides a Pythonic DataFrame and machine learning (ML) API powered by the BigQuery engine.\n",
        "\n",
        "Let's install a <1.0.0\n"
      ]
    },
    {
      "cell_type": "code",
      "execution_count": null,
      "metadata": {
        "colab": {
          "base_uri": "https://localhost:8080/"
        },
        "id": "FU-rz71yT_lj",
        "outputId": "eec3ae0e-efe0-439f-ad47-2b6ef75c916c"
      },
      "outputs": [
        {
          "name": "stdout",
          "output_type": "stream",
          "text": [
            "Collecting bigframes==0.26.0\n",
            "  Downloading bigframes-0.26.0-py2.py3-none-any.whl (457 kB)\n",
            "\u001b[?25l     \u001b[90m━━━━━━━━━━━━━━━━━━━━━━━━━━━━━━━━━━━━━━━━\u001b[0m \u001b[32m0.0/457.3 kB\u001b[0m \u001b[31m?\u001b[0m eta \u001b[36m-:--:--\u001b[0m\r\u001b[2K     \u001b[91m━━━\u001b[0m\u001b[91m╸\u001b[0m\u001b[90m━━━━━━━━━━━━━━━━━━━━━━━━━━━━━━━━━━━━\u001b[0m \u001b[32m41.0/457.3 kB\u001b[0m \u001b[31m1.3 MB/s\u001b[0m eta \u001b[36m0:00:01\u001b[0m\r\u001b[2K     \u001b[91m━━━━━━━━━━━━━━━━━━━━━━━━━━━━━━━━━━━━━━━\u001b[0m\u001b[90m╺\u001b[0m \u001b[32m450.6/457.3 kB\u001b[0m \u001b[31m7.0 MB/s\u001b[0m eta \u001b[36m0:00:01\u001b[0m\r\u001b[2K     \u001b[90m━━━━━━━━━━━━━━━━━━━━━━━━━━━━━━━━━━━━━━━━\u001b[0m \u001b[32m457.3/457.3 kB\u001b[0m \u001b[31m6.0 MB/s\u001b[0m eta \u001b[36m0:00:00\u001b[0m\n",
            "\u001b[?25hRequirement already satisfied: cloudpickle>=2.0.0 in /usr/local/lib/python3.10/dist-packages (from bigframes==0.26.0) (2.2.1)\n",
            "Requirement already satisfied: fsspec>=2023.3.0 in /usr/local/lib/python3.10/dist-packages (from bigframes==0.26.0) (2023.6.0)\n",
            "Requirement already satisfied: gcsfs>=2023.3.0 in /usr/local/lib/python3.10/dist-packages (from bigframes==0.26.0) (2023.6.0)\n",
            "Requirement already satisfied: geopandas>=0.12.2 in /usr/local/lib/python3.10/dist-packages (from bigframes==0.26.0) (0.13.2)\n",
            "Requirement already satisfied: google-auth<3.0dev,>=2.15.0 in /usr/local/lib/python3.10/dist-packages (from bigframes==0.26.0) (2.27.0)\n",
            "Requirement already satisfied: google-cloud-bigquery[bqstorage,pandas]>=3.10.0 in /usr/local/lib/python3.10/dist-packages (from bigframes==0.26.0) (3.12.0)\n",
            "Requirement already satisfied: google-cloud-functions>=1.12.0 in /usr/local/lib/python3.10/dist-packages (from bigframes==0.26.0) (1.13.3)\n",
            "Requirement already satisfied: google-cloud-bigquery-connection>=1.12.0 in /usr/local/lib/python3.10/dist-packages (from bigframes==0.26.0) (1.12.1)\n",
            "Requirement already satisfied: google-cloud-iam>=2.12.1 in /usr/local/lib/python3.10/dist-packages (from bigframes==0.26.0) (2.14.3)\n",
            "Requirement already satisfied: google-cloud-resource-manager>=1.10.3 in /usr/local/lib/python3.10/dist-packages (from bigframes==0.26.0) (1.12.3)\n",
            "Requirement already satisfied: google-cloud-storage>=2.0.0 in /usr/local/lib/python3.10/dist-packages (from bigframes==0.26.0) (2.8.0)\n",
            "Requirement already satisfied: ibis-framework[bigquery]<9.0.0dev,>=8.0.0 in /usr/local/lib/python3.10/dist-packages (from bigframes==0.26.0) (8.0.0)\n",
            "Requirement already satisfied: pandas<2.1.4,>=1.5.0 in /usr/local/lib/python3.10/dist-packages (from bigframes==0.26.0) (1.5.3)\n",
            "Requirement already satisfied: pydata-google-auth>=1.8.2 in /usr/local/lib/python3.10/dist-packages (from bigframes==0.26.0) (1.8.2)\n",
            "Requirement already satisfied: requests>=2.27.1 in /usr/local/lib/python3.10/dist-packages (from bigframes==0.26.0) (2.31.0)\n",
            "Requirement already satisfied: scikit-learn>=1.2.2 in /usr/local/lib/python3.10/dist-packages (from bigframes==0.26.0) (1.2.2)\n",
            "Requirement already satisfied: sqlalchemy<3.0dev,>=1.4 in /usr/local/lib/python3.10/dist-packages (from bigframes==0.26.0) (2.0.29)\n",
            "Requirement already satisfied: sqlglot<=20.11,>=20.8.0 in /usr/local/lib/python3.10/dist-packages (from bigframes==0.26.0) (20.11.0)\n",
            "Requirement already satisfied: tabulate>=0.9 in /usr/local/lib/python3.10/dist-packages (from bigframes==0.26.0) (0.9.0)\n",
            "Requirement already satisfied: ipywidgets>=7.7.1 in /usr/local/lib/python3.10/dist-packages (from bigframes==0.26.0) (7.7.1)\n",
            "Requirement already satisfied: humanize>=4.6.0 in /usr/local/lib/python3.10/dist-packages (from bigframes==0.26.0) (4.7.0)\n",
            "Requirement already satisfied: matplotlib>=3.7.1 in /usr/local/lib/python3.10/dist-packages (from bigframes==0.26.0) (3.7.1)\n",
            "Requirement already satisfied: aiohttp!=4.0.0a0,!=4.0.0a1 in /usr/local/lib/python3.10/dist-packages (from gcsfs>=2023.3.0->bigframes==0.26.0) (3.9.3)\n",
            "Requirement already satisfied: decorator>4.1.2 in /usr/local/lib/python3.10/dist-packages (from gcsfs>=2023.3.0->bigframes==0.26.0) (4.4.2)\n",
            "Requirement already satisfied: google-auth-oauthlib in /usr/local/lib/python3.10/dist-packages (from gcsfs>=2023.3.0->bigframes==0.26.0) (1.2.0)\n",
            "Requirement already satisfied: fiona>=1.8.19 in /usr/local/lib/python3.10/dist-packages (from geopandas>=0.12.2->bigframes==0.26.0) (1.9.6)\n",
            "Requirement already satisfied: packaging in /usr/local/lib/python3.10/dist-packages (from geopandas>=0.12.2->bigframes==0.26.0) (24.0)\n",
            "Requirement already satisfied: pyproj>=3.0.1 in /usr/local/lib/python3.10/dist-packages (from geopandas>=0.12.2->bigframes==0.26.0) (3.6.1)\n",
            "Requirement already satisfied: shapely>=1.7.1 in /usr/local/lib/python3.10/dist-packages (from geopandas>=0.12.2->bigframes==0.26.0) (2.0.3)\n",
            "Requirement already satisfied: cachetools<6.0,>=2.0.0 in /usr/local/lib/python3.10/dist-packages (from google-auth<3.0dev,>=2.15.0->bigframes==0.26.0) (5.3.3)\n",
            "Requirement already satisfied: pyasn1-modules>=0.2.1 in /usr/local/lib/python3.10/dist-packages (from google-auth<3.0dev,>=2.15.0->bigframes==0.26.0) (0.3.0)\n",
            "Requirement already satisfied: rsa<5,>=3.1.4 in /usr/local/lib/python3.10/dist-packages (from google-auth<3.0dev,>=2.15.0->bigframes==0.26.0) (4.9)\n",
            "Requirement already satisfied: google-api-core[grpc]!=2.0.*,!=2.1.*,!=2.10.*,!=2.2.*,!=2.3.*,!=2.4.*,!=2.5.*,!=2.6.*,!=2.7.*,!=2.8.*,!=2.9.*,<3.0.0dev,>=1.34.0 in /usr/local/lib/python3.10/dist-packages (from google-cloud-bigquery-connection>=1.12.0->bigframes==0.26.0) (2.11.1)\n",
            "Requirement already satisfied: proto-plus<2.0.0dev,>=1.22.0 in /usr/local/lib/python3.10/dist-packages (from google-cloud-bigquery-connection>=1.12.0->bigframes==0.26.0) (1.23.0)\n",
            "Requirement already satisfied: protobuf!=3.20.0,!=3.20.1,!=4.21.0,!=4.21.1,!=4.21.2,!=4.21.3,!=4.21.4,!=4.21.5,<5.0.0dev,>=3.19.5 in /usr/local/lib/python3.10/dist-packages (from google-cloud-bigquery-connection>=1.12.0->bigframes==0.26.0) (3.20.3)\n",
            "Requirement already satisfied: grpc-google-iam-v1<1.0.0dev,>=0.12.4 in /usr/local/lib/python3.10/dist-packages (from google-cloud-bigquery-connection>=1.12.0->bigframes==0.26.0) (0.13.0)\n",
            "Requirement already satisfied: grpcio<2.0dev,>=1.47.0 in /usr/local/lib/python3.10/dist-packages (from google-cloud-bigquery[bqstorage,pandas]>=3.10.0->bigframes==0.26.0) (1.62.1)\n",
            "Requirement already satisfied: google-cloud-core<3.0.0dev,>=1.6.0 in /usr/local/lib/python3.10/dist-packages (from google-cloud-bigquery[bqstorage,pandas]>=3.10.0->bigframes==0.26.0) (2.3.3)\n",
            "Requirement already satisfied: google-resumable-media<3.0dev,>=0.6.0 in /usr/local/lib/python3.10/dist-packages (from google-cloud-bigquery[bqstorage,pandas]>=3.10.0->bigframes==0.26.0) (2.7.0)\n",
            "Requirement already satisfied: python-dateutil<3.0dev,>=2.7.2 in /usr/local/lib/python3.10/dist-packages (from google-cloud-bigquery[bqstorage,pandas]>=3.10.0->bigframes==0.26.0) (2.8.2)\n",
            "Requirement already satisfied: pyarrow>=3.0.0 in /usr/local/lib/python3.10/dist-packages (from google-cloud-bigquery[bqstorage,pandas]>=3.10.0->bigframes==0.26.0) (14.0.2)\n",
            "Requirement already satisfied: db-dtypes<2.0.0dev,>=0.3.0 in /usr/local/lib/python3.10/dist-packages (from google-cloud-bigquery[bqstorage,pandas]>=3.10.0->bigframes==0.26.0) (1.2.0)\n",
            "Requirement already satisfied: google-cloud-bigquery-storage<3.0.0dev,>=2.6.0 in /usr/local/lib/python3.10/dist-packages (from google-cloud-bigquery[bqstorage,pandas]>=3.10.0->bigframes==0.26.0) (2.24.0)\n",
            "Requirement already satisfied: atpublic<5,>=2.3 in /usr/local/lib/python3.10/dist-packages (from ibis-framework[bigquery]<9.0.0dev,>=8.0.0->bigframes==0.26.0) (4.0)\n",
            "Requirement already satisfied: bidict<1,>=0.22.1 in /usr/local/lib/python3.10/dist-packages (from ibis-framework[bigquery]<9.0.0dev,>=8.0.0->bigframes==0.26.0) (0.23.1)\n",
            "Requirement already satisfied: multipledispatch<2,>=0.6 in /usr/local/lib/python3.10/dist-packages (from ibis-framework[bigquery]<9.0.0dev,>=8.0.0->bigframes==0.26.0) (1.0.0)\n",
            "Requirement already satisfied: numpy<2,>=1 in /usr/local/lib/python3.10/dist-packages (from ibis-framework[bigquery]<9.0.0dev,>=8.0.0->bigframes==0.26.0) (1.25.2)\n",
            "Requirement already satisfied: parsy<3,>=2 in /usr/local/lib/python3.10/dist-packages (from ibis-framework[bigquery]<9.0.0dev,>=8.0.0->bigframes==0.26.0) (2.1)\n",
            "Requirement already satisfied: pyarrow-hotfix<1,>=0.4 in /usr/local/lib/python3.10/dist-packages (from ibis-framework[bigquery]<9.0.0dev,>=8.0.0->bigframes==0.26.0) (0.6)\n",
            "Requirement already satisfied: pytz>=2022.7 in /usr/local/lib/python3.10/dist-packages (from ibis-framework[bigquery]<9.0.0dev,>=8.0.0->bigframes==0.26.0) (2023.4)\n",
            "Requirement already satisfied: rich<14,>=12.4.4 in /usr/local/lib/python3.10/dist-packages (from ibis-framework[bigquery]<9.0.0dev,>=8.0.0->bigframes==0.26.0) (13.7.1)\n",
            "Requirement already satisfied: toolz<1,>=0.11 in /usr/local/lib/python3.10/dist-packages (from ibis-framework[bigquery]<9.0.0dev,>=8.0.0->bigframes==0.26.0) (0.12.1)\n",
            "Requirement already satisfied: typing-extensions<5,>=4.3.0 in /usr/local/lib/python3.10/dist-packages (from ibis-framework[bigquery]<9.0.0dev,>=8.0.0->bigframes==0.26.0) (4.10.0)\n",
            "Requirement already satisfied: ipykernel>=4.5.1 in /usr/local/lib/python3.10/dist-packages (from ipywidgets>=7.7.1->bigframes==0.26.0) (5.5.6)\n",
            "Requirement already satisfied: ipython-genutils~=0.2.0 in /usr/local/lib/python3.10/dist-packages (from ipywidgets>=7.7.1->bigframes==0.26.0) (0.2.0)\n",
            "Requirement already satisfied: traitlets>=4.3.1 in /usr/local/lib/python3.10/dist-packages (from ipywidgets>=7.7.1->bigframes==0.26.0) (5.7.1)\n",
            "Requirement already satisfied: widgetsnbextension~=3.6.0 in /usr/local/lib/python3.10/dist-packages (from ipywidgets>=7.7.1->bigframes==0.26.0) (3.6.6)\n",
            "Requirement already satisfied: ipython>=4.0.0 in /usr/local/lib/python3.10/dist-packages (from ipywidgets>=7.7.1->bigframes==0.26.0) (7.34.0)\n",
            "Requirement already satisfied: jupyterlab-widgets>=1.0.0 in /usr/local/lib/python3.10/dist-packages (from ipywidgets>=7.7.1->bigframes==0.26.0) (3.0.10)\n",
            "Requirement already satisfied: contourpy>=1.0.1 in /usr/local/lib/python3.10/dist-packages (from matplotlib>=3.7.1->bigframes==0.26.0) (1.2.0)\n",
            "Requirement already satisfied: cycler>=0.10 in /usr/local/lib/python3.10/dist-packages (from matplotlib>=3.7.1->bigframes==0.26.0) (0.12.1)\n",
            "Requirement already satisfied: fonttools>=4.22.0 in /usr/local/lib/python3.10/dist-packages (from matplotlib>=3.7.1->bigframes==0.26.0) (4.50.0)\n",
            "Requirement already satisfied: kiwisolver>=1.0.1 in /usr/local/lib/python3.10/dist-packages (from matplotlib>=3.7.1->bigframes==0.26.0) (1.4.5)\n",
            "Requirement already satisfied: pillow>=6.2.0 in /usr/local/lib/python3.10/dist-packages (from matplotlib>=3.7.1->bigframes==0.26.0) (9.4.0)\n",
            "Requirement already satisfied: pyparsing>=2.3.1 in /usr/local/lib/python3.10/dist-packages (from matplotlib>=3.7.1->bigframes==0.26.0) (3.1.2)\n",
            "Requirement already satisfied: setuptools in /usr/local/lib/python3.10/dist-packages (from pydata-google-auth>=1.8.2->bigframes==0.26.0) (67.7.2)\n",
            "Requirement already satisfied: charset-normalizer<4,>=2 in /usr/local/lib/python3.10/dist-packages (from requests>=2.27.1->bigframes==0.26.0) (3.3.2)\n",
            "Requirement already satisfied: idna<4,>=2.5 in /usr/local/lib/python3.10/dist-packages (from requests>=2.27.1->bigframes==0.26.0) (3.6)\n",
            "Requirement already satisfied: urllib3<3,>=1.21.1 in /usr/local/lib/python3.10/dist-packages (from requests>=2.27.1->bigframes==0.26.0) (2.0.7)\n",
            "Requirement already satisfied: certifi>=2017.4.17 in /usr/local/lib/python3.10/dist-packages (from requests>=2.27.1->bigframes==0.26.0) (2024.2.2)\n",
            "Requirement already satisfied: scipy>=1.3.2 in /usr/local/lib/python3.10/dist-packages (from scikit-learn>=1.2.2->bigframes==0.26.0) (1.11.4)\n",
            "Requirement already satisfied: joblib>=1.1.1 in /usr/local/lib/python3.10/dist-packages (from scikit-learn>=1.2.2->bigframes==0.26.0) (1.3.2)\n",
            "Requirement already satisfied: threadpoolctl>=2.0.0 in /usr/local/lib/python3.10/dist-packages (from scikit-learn>=1.2.2->bigframes==0.26.0) (3.4.0)\n",
            "Requirement already satisfied: greenlet!=0.4.17 in /usr/local/lib/python3.10/dist-packages (from sqlalchemy<3.0dev,>=1.4->bigframes==0.26.0) (3.0.3)\n",
            "Requirement already satisfied: aiosignal>=1.1.2 in /usr/local/lib/python3.10/dist-packages (from aiohttp!=4.0.0a0,!=4.0.0a1->gcsfs>=2023.3.0->bigframes==0.26.0) (1.3.1)\n",
            "Requirement already satisfied: attrs>=17.3.0 in /usr/local/lib/python3.10/dist-packages (from aiohttp!=4.0.0a0,!=4.0.0a1->gcsfs>=2023.3.0->bigframes==0.26.0) (23.2.0)\n",
            "Requirement already satisfied: frozenlist>=1.1.1 in /usr/local/lib/python3.10/dist-packages (from aiohttp!=4.0.0a0,!=4.0.0a1->gcsfs>=2023.3.0->bigframes==0.26.0) (1.4.1)\n",
            "Requirement already satisfied: multidict<7.0,>=4.5 in /usr/local/lib/python3.10/dist-packages (from aiohttp!=4.0.0a0,!=4.0.0a1->gcsfs>=2023.3.0->bigframes==0.26.0) (6.0.5)\n",
            "Requirement already satisfied: yarl<2.0,>=1.0 in /usr/local/lib/python3.10/dist-packages (from aiohttp!=4.0.0a0,!=4.0.0a1->gcsfs>=2023.3.0->bigframes==0.26.0) (1.9.4)\n",
            "Requirement already satisfied: async-timeout<5.0,>=4.0 in /usr/local/lib/python3.10/dist-packages (from aiohttp!=4.0.0a0,!=4.0.0a1->gcsfs>=2023.3.0->bigframes==0.26.0) (4.0.3)\n",
            "Requirement already satisfied: click~=8.0 in /usr/local/lib/python3.10/dist-packages (from fiona>=1.8.19->geopandas>=0.12.2->bigframes==0.26.0) (8.1.7)\n",
            "Requirement already satisfied: click-plugins>=1.0 in /usr/local/lib/python3.10/dist-packages (from fiona>=1.8.19->geopandas>=0.12.2->bigframes==0.26.0) (1.1.1)\n",
            "Requirement already satisfied: cligj>=0.5 in /usr/local/lib/python3.10/dist-packages (from fiona>=1.8.19->geopandas>=0.12.2->bigframes==0.26.0) (0.7.2)\n",
            "Requirement already satisfied: six in /usr/local/lib/python3.10/dist-packages (from fiona>=1.8.19->geopandas>=0.12.2->bigframes==0.26.0) (1.16.0)\n",
            "Requirement already satisfied: googleapis-common-protos<2.0.dev0,>=1.56.2 in /usr/local/lib/python3.10/dist-packages (from google-api-core[grpc]!=2.0.*,!=2.1.*,!=2.10.*,!=2.2.*,!=2.3.*,!=2.4.*,!=2.5.*,!=2.6.*,!=2.7.*,!=2.8.*,!=2.9.*,<3.0.0dev,>=1.34.0->google-cloud-bigquery-connection>=1.12.0->bigframes==0.26.0) (1.63.0)\n",
            "Requirement already satisfied: grpcio-status<2.0.dev0,>=1.33.2 in /usr/local/lib/python3.10/dist-packages (from google-api-core[grpc]!=2.0.*,!=2.1.*,!=2.10.*,!=2.2.*,!=2.3.*,!=2.4.*,!=2.5.*,!=2.6.*,!=2.7.*,!=2.8.*,!=2.9.*,<3.0.0dev,>=1.34.0->google-cloud-bigquery-connection>=1.12.0->bigframes==0.26.0) (1.48.2)\n",
            "Requirement already satisfied: requests-oauthlib>=0.7.0 in /usr/local/lib/python3.10/dist-packages (from google-auth-oauthlib->gcsfs>=2023.3.0->bigframes==0.26.0) (1.4.0)\n",
            "Requirement already satisfied: google-crc32c<2.0dev,>=1.0 in /usr/local/lib/python3.10/dist-packages (from google-resumable-media<3.0dev,>=0.6.0->google-cloud-bigquery[bqstorage,pandas]>=3.10.0->bigframes==0.26.0) (1.5.0)\n",
            "Requirement already satisfied: jupyter-client in /usr/local/lib/python3.10/dist-packages (from ipykernel>=4.5.1->ipywidgets>=7.7.1->bigframes==0.26.0) (6.1.12)\n",
            "Requirement already satisfied: tornado>=4.2 in /usr/local/lib/python3.10/dist-packages (from ipykernel>=4.5.1->ipywidgets>=7.7.1->bigframes==0.26.0) (6.3.3)\n",
            "Collecting jedi>=0.16 (from ipython>=4.0.0->ipywidgets>=7.7.1->bigframes==0.26.0)\n",
            "  Downloading jedi-0.19.1-py2.py3-none-any.whl (1.6 MB)\n",
            "\u001b[2K     \u001b[90m━━━━━━━━━━━━━━━━━━━━━━━━━━━━━━━━━━━━━━━━\u001b[0m \u001b[32m1.6/1.6 MB\u001b[0m \u001b[31m71.8 MB/s\u001b[0m eta \u001b[36m0:00:00\u001b[0m\n",
            "\u001b[?25hRequirement already satisfied: pickleshare in /usr/local/lib/python3.10/dist-packages (from ipython>=4.0.0->ipywidgets>=7.7.1->bigframes==0.26.0) (0.7.5)\n",
            "Requirement already satisfied: prompt-toolkit!=3.0.0,!=3.0.1,<3.1.0,>=2.0.0 in /usr/local/lib/python3.10/dist-packages (from ipython>=4.0.0->ipywidgets>=7.7.1->bigframes==0.26.0) (3.0.43)\n",
            "Requirement already satisfied: pygments in /usr/local/lib/python3.10/dist-packages (from ipython>=4.0.0->ipywidgets>=7.7.1->bigframes==0.26.0) (2.16.1)\n",
            "Requirement already satisfied: backcall in /usr/local/lib/python3.10/dist-packages (from ipython>=4.0.0->ipywidgets>=7.7.1->bigframes==0.26.0) (0.2.0)\n",
            "Requirement already satisfied: matplotlib-inline in /usr/local/lib/python3.10/dist-packages (from ipython>=4.0.0->ipywidgets>=7.7.1->bigframes==0.26.0) (0.1.6)\n",
            "Requirement already satisfied: pexpect>4.3 in /usr/local/lib/python3.10/dist-packages (from ipython>=4.0.0->ipywidgets>=7.7.1->bigframes==0.26.0) (4.9.0)\n",
            "Requirement already satisfied: pyasn1<0.6.0,>=0.4.6 in /usr/local/lib/python3.10/dist-packages (from pyasn1-modules>=0.2.1->google-auth<3.0dev,>=2.15.0->bigframes==0.26.0) (0.5.1)\n",
            "Requirement already satisfied: markdown-it-py>=2.2.0 in /usr/local/lib/python3.10/dist-packages (from rich<14,>=12.4.4->ibis-framework[bigquery]<9.0.0dev,>=8.0.0->bigframes==0.26.0) (3.0.0)\n",
            "Requirement already satisfied: notebook>=4.4.1 in /usr/local/lib/python3.10/dist-packages (from widgetsnbextension~=3.6.0->ipywidgets>=7.7.1->bigframes==0.26.0) (6.5.5)\n",
            "Requirement already satisfied: parso<0.9.0,>=0.8.3 in /usr/local/lib/python3.10/dist-packages (from jedi>=0.16->ipython>=4.0.0->ipywidgets>=7.7.1->bigframes==0.26.0) (0.8.3)\n",
            "Requirement already satisfied: mdurl~=0.1 in /usr/local/lib/python3.10/dist-packages (from markdown-it-py>=2.2.0->rich<14,>=12.4.4->ibis-framework[bigquery]<9.0.0dev,>=8.0.0->bigframes==0.26.0) (0.1.2)\n",
            "Requirement already satisfied: jinja2 in /usr/local/lib/python3.10/dist-packages (from notebook>=4.4.1->widgetsnbextension~=3.6.0->ipywidgets>=7.7.1->bigframes==0.26.0) (3.1.3)\n",
            "Requirement already satisfied: pyzmq<25,>=17 in /usr/local/lib/python3.10/dist-packages (from notebook>=4.4.1->widgetsnbextension~=3.6.0->ipywidgets>=7.7.1->bigframes==0.26.0) (23.2.1)\n",
            "Requirement already satisfied: argon2-cffi in /usr/local/lib/python3.10/dist-packages (from notebook>=4.4.1->widgetsnbextension~=3.6.0->ipywidgets>=7.7.1->bigframes==0.26.0) (23.1.0)\n",
            "Requirement already satisfied: jupyter-core>=4.6.1 in /usr/local/lib/python3.10/dist-packages (from notebook>=4.4.1->widgetsnbextension~=3.6.0->ipywidgets>=7.7.1->bigframes==0.26.0) (5.7.2)\n",
            "Requirement already satisfied: nbformat in /usr/local/lib/python3.10/dist-packages (from notebook>=4.4.1->widgetsnbextension~=3.6.0->ipywidgets>=7.7.1->bigframes==0.26.0) (5.10.3)\n",
            "Requirement already satisfied: nbconvert>=5 in /usr/local/lib/python3.10/dist-packages (from notebook>=4.4.1->widgetsnbextension~=3.6.0->ipywidgets>=7.7.1->bigframes==0.26.0) (6.5.4)\n",
            "Requirement already satisfied: nest-asyncio>=1.5 in /usr/local/lib/python3.10/dist-packages (from notebook>=4.4.1->widgetsnbextension~=3.6.0->ipywidgets>=7.7.1->bigframes==0.26.0) (1.6.0)\n",
            "Requirement already satisfied: Send2Trash>=1.8.0 in /usr/local/lib/python3.10/dist-packages (from notebook>=4.4.1->widgetsnbextension~=3.6.0->ipywidgets>=7.7.1->bigframes==0.26.0) (1.8.2)\n",
            "Requirement already satisfied: terminado>=0.8.3 in /usr/local/lib/python3.10/dist-packages (from notebook>=4.4.1->widgetsnbextension~=3.6.0->ipywidgets>=7.7.1->bigframes==0.26.0) (0.18.1)\n",
            "Requirement already satisfied: prometheus-client in /usr/local/lib/python3.10/dist-packages (from notebook>=4.4.1->widgetsnbextension~=3.6.0->ipywidgets>=7.7.1->bigframes==0.26.0) (0.20.0)\n",
            "Requirement already satisfied: nbclassic>=0.4.7 in /usr/local/lib/python3.10/dist-packages (from notebook>=4.4.1->widgetsnbextension~=3.6.0->ipywidgets>=7.7.1->bigframes==0.26.0) (1.0.0)\n",
            "Requirement already satisfied: ptyprocess>=0.5 in /usr/local/lib/python3.10/dist-packages (from pexpect>4.3->ipython>=4.0.0->ipywidgets>=7.7.1->bigframes==0.26.0) (0.7.0)\n",
            "Requirement already satisfied: wcwidth in /usr/local/lib/python3.10/dist-packages (from prompt-toolkit!=3.0.0,!=3.0.1,<3.1.0,>=2.0.0->ipython>=4.0.0->ipywidgets>=7.7.1->bigframes==0.26.0) (0.2.13)\n",
            "Requirement already satisfied: oauthlib>=3.0.0 in /usr/local/lib/python3.10/dist-packages (from requests-oauthlib>=0.7.0->google-auth-oauthlib->gcsfs>=2023.3.0->bigframes==0.26.0) (3.2.2)\n",
            "Requirement already satisfied: platformdirs>=2.5 in /usr/local/lib/python3.10/dist-packages (from jupyter-core>=4.6.1->notebook>=4.4.1->widgetsnbextension~=3.6.0->ipywidgets>=7.7.1->bigframes==0.26.0) (4.2.0)\n",
            "Requirement already satisfied: jupyter-server>=1.8 in /usr/local/lib/python3.10/dist-packages (from nbclassic>=0.4.7->notebook>=4.4.1->widgetsnbextension~=3.6.0->ipywidgets>=7.7.1->bigframes==0.26.0) (1.24.0)\n",
            "Requirement already satisfied: notebook-shim>=0.2.3 in /usr/local/lib/python3.10/dist-packages (from nbclassic>=0.4.7->notebook>=4.4.1->widgetsnbextension~=3.6.0->ipywidgets>=7.7.1->bigframes==0.26.0) (0.2.4)\n",
            "Requirement already satisfied: lxml in /usr/local/lib/python3.10/dist-packages (from nbconvert>=5->notebook>=4.4.1->widgetsnbextension~=3.6.0->ipywidgets>=7.7.1->bigframes==0.26.0) (4.9.4)\n",
            "Requirement already satisfied: beautifulsoup4 in /usr/local/lib/python3.10/dist-packages (from nbconvert>=5->notebook>=4.4.1->widgetsnbextension~=3.6.0->ipywidgets>=7.7.1->bigframes==0.26.0) (4.12.3)\n",
            "Requirement already satisfied: bleach in /usr/local/lib/python3.10/dist-packages (from nbconvert>=5->notebook>=4.4.1->widgetsnbextension~=3.6.0->ipywidgets>=7.7.1->bigframes==0.26.0) (6.1.0)\n",
            "Requirement already satisfied: defusedxml in /usr/local/lib/python3.10/dist-packages (from nbconvert>=5->notebook>=4.4.1->widgetsnbextension~=3.6.0->ipywidgets>=7.7.1->bigframes==0.26.0) (0.7.1)\n",
            "Requirement already satisfied: entrypoints>=0.2.2 in /usr/local/lib/python3.10/dist-packages (from nbconvert>=5->notebook>=4.4.1->widgetsnbextension~=3.6.0->ipywidgets>=7.7.1->bigframes==0.26.0) (0.4)\n",
            "Requirement already satisfied: jupyterlab-pygments in /usr/local/lib/python3.10/dist-packages (from nbconvert>=5->notebook>=4.4.1->widgetsnbextension~=3.6.0->ipywidgets>=7.7.1->bigframes==0.26.0) (0.3.0)\n",
            "Requirement already satisfied: MarkupSafe>=2.0 in /usr/local/lib/python3.10/dist-packages (from nbconvert>=5->notebook>=4.4.1->widgetsnbextension~=3.6.0->ipywidgets>=7.7.1->bigframes==0.26.0) (2.1.5)\n",
            "Requirement already satisfied: mistune<2,>=0.8.1 in /usr/local/lib/python3.10/dist-packages (from nbconvert>=5->notebook>=4.4.1->widgetsnbextension~=3.6.0->ipywidgets>=7.7.1->bigframes==0.26.0) (0.8.4)\n",
            "Requirement already satisfied: nbclient>=0.5.0 in /usr/local/lib/python3.10/dist-packages (from nbconvert>=5->notebook>=4.4.1->widgetsnbextension~=3.6.0->ipywidgets>=7.7.1->bigframes==0.26.0) (0.10.0)\n",
            "Requirement already satisfied: pandocfilters>=1.4.1 in /usr/local/lib/python3.10/dist-packages (from nbconvert>=5->notebook>=4.4.1->widgetsnbextension~=3.6.0->ipywidgets>=7.7.1->bigframes==0.26.0) (1.5.1)\n",
            "Requirement already satisfied: tinycss2 in /usr/local/lib/python3.10/dist-packages (from nbconvert>=5->notebook>=4.4.1->widgetsnbextension~=3.6.0->ipywidgets>=7.7.1->bigframes==0.26.0) (1.2.1)\n",
            "Requirement already satisfied: fastjsonschema in /usr/local/lib/python3.10/dist-packages (from nbformat->notebook>=4.4.1->widgetsnbextension~=3.6.0->ipywidgets>=7.7.1->bigframes==0.26.0) (2.19.1)\n",
            "Requirement already satisfied: jsonschema>=2.6 in /usr/local/lib/python3.10/dist-packages (from nbformat->notebook>=4.4.1->widgetsnbextension~=3.6.0->ipywidgets>=7.7.1->bigframes==0.26.0) (4.19.2)\n",
            "Requirement already satisfied: argon2-cffi-bindings in /usr/local/lib/python3.10/dist-packages (from argon2-cffi->notebook>=4.4.1->widgetsnbextension~=3.6.0->ipywidgets>=7.7.1->bigframes==0.26.0) (21.2.0)\n",
            "Requirement already satisfied: jsonschema-specifications>=2023.03.6 in /usr/local/lib/python3.10/dist-packages (from jsonschema>=2.6->nbformat->notebook>=4.4.1->widgetsnbextension~=3.6.0->ipywidgets>=7.7.1->bigframes==0.26.0) (2023.12.1)\n",
            "Requirement already satisfied: referencing>=0.28.4 in /usr/local/lib/python3.10/dist-packages (from jsonschema>=2.6->nbformat->notebook>=4.4.1->widgetsnbextension~=3.6.0->ipywidgets>=7.7.1->bigframes==0.26.0) (0.34.0)\n",
            "Requirement already satisfied: rpds-py>=0.7.1 in /usr/local/lib/python3.10/dist-packages (from jsonschema>=2.6->nbformat->notebook>=4.4.1->widgetsnbextension~=3.6.0->ipywidgets>=7.7.1->bigframes==0.26.0) (0.18.0)\n",
            "Requirement already satisfied: anyio<4,>=3.1.0 in /usr/local/lib/python3.10/dist-packages (from jupyter-server>=1.8->nbclassic>=0.4.7->notebook>=4.4.1->widgetsnbextension~=3.6.0->ipywidgets>=7.7.1->bigframes==0.26.0) (3.7.1)\n",
            "Requirement already satisfied: websocket-client in /usr/local/lib/python3.10/dist-packages (from jupyter-server>=1.8->nbclassic>=0.4.7->notebook>=4.4.1->widgetsnbextension~=3.6.0->ipywidgets>=7.7.1->bigframes==0.26.0) (1.7.0)\n",
            "Requirement already satisfied: cffi>=1.0.1 in /usr/local/lib/python3.10/dist-packages (from argon2-cffi-bindings->argon2-cffi->notebook>=4.4.1->widgetsnbextension~=3.6.0->ipywidgets>=7.7.1->bigframes==0.26.0) (1.16.0)\n",
            "Requirement already satisfied: soupsieve>1.2 in /usr/local/lib/python3.10/dist-packages (from beautifulsoup4->nbconvert>=5->notebook>=4.4.1->widgetsnbextension~=3.6.0->ipywidgets>=7.7.1->bigframes==0.26.0) (2.5)\n",
            "Requirement already satisfied: webencodings in /usr/local/lib/python3.10/dist-packages (from bleach->nbconvert>=5->notebook>=4.4.1->widgetsnbextension~=3.6.0->ipywidgets>=7.7.1->bigframes==0.26.0) (0.5.1)\n",
            "Requirement already satisfied: sniffio>=1.1 in /usr/local/lib/python3.10/dist-packages (from anyio<4,>=3.1.0->jupyter-server>=1.8->nbclassic>=0.4.7->notebook>=4.4.1->widgetsnbextension~=3.6.0->ipywidgets>=7.7.1->bigframes==0.26.0) (1.3.1)\n",
            "Requirement already satisfied: exceptiongroup in /usr/local/lib/python3.10/dist-packages (from anyio<4,>=3.1.0->jupyter-server>=1.8->nbclassic>=0.4.7->notebook>=4.4.1->widgetsnbextension~=3.6.0->ipywidgets>=7.7.1->bigframes==0.26.0) (1.2.0)\n",
            "Requirement already satisfied: pycparser in /usr/local/lib/python3.10/dist-packages (from cffi>=1.0.1->argon2-cffi-bindings->argon2-cffi->notebook>=4.4.1->widgetsnbextension~=3.6.0->ipywidgets>=7.7.1->bigframes==0.26.0) (2.21)\n",
            "Installing collected packages: jedi, bigframes\n",
            "  Attempting uninstall: bigframes\n",
            "    Found existing installation: bigframes 1.0.0\n",
            "    Uninstalling bigframes-1.0.0:\n",
            "      Successfully uninstalled bigframes-1.0.0\n",
            "Successfully installed bigframes-0.26.0 jedi-0.19.1\n"
          ]
        }
      ],
      "source": [
        "!pip install bigframes==0.26.0"
      ]
    },
    {
      "cell_type": "markdown",
      "metadata": {
        "id": "dnH8ZYT3WJ7r"
      },
      "source": [
        "restart session before continuing if necessary"
      ]
    },
    {
      "cell_type": "code",
      "execution_count": null,
      "metadata": {
        "id": "-36qtyScUiy6"
      },
      "outputs": [],
      "source": [
        "import vertexai"
      ]
    },
    {
      "cell_type": "code",
      "execution_count": null,
      "metadata": {
        "id": "VRWWL_vpNZpg"
      },
      "outputs": [],
      "source": [
        "import textwrap"
      ]
    },
    {
      "cell_type": "markdown",
      "metadata": {
        "id": "lnCHBV8LJhmq"
      },
      "source": [
        "# Question Answering(QA)"
      ]
    },
    {
      "cell_type": "code",
      "execution_count": null,
      "metadata": {
        "colab": {
          "base_uri": "https://localhost:8080/"
        },
        "id": "M_6EDI6AJjfT",
        "outputId": "495d0bfb-58ab-43f1-fb1d-97b78ea4e5dc"
      },
      "outputs": [
        {
          "name": "stdout",
          "output_type": "stream",
          "text": [
            "No, Gemini does not repeat existing\n",
            "text.\n"
          ]
        }
      ],
      "source": [
        "from vertexai.preview.language_models import ChatModel, InputOutputTextPair\n",
        "\n",
        "vertexai.init(project=\"aiex-57523\", location=\"us-central1\")\n",
        "chat_model = ChatModel.from_pretrained(\"chat-bison@001\")\n",
        "parameters = {\n",
        "    \"temperature\": 0.2,\n",
        "    \"max_output_tokens\": 256,\n",
        "    \"top_p\": 0.8,\n",
        "    \"top_k\": 40\n",
        "}\n",
        "chat = chat_model.start_chat(\n",
        "    context=\"\"\"Answer a question on the text submitted\"\"\",\n",
        ")\n",
        "from vertexai.preview.language_models import ChatModel, InputOutputTextPair\n",
        "\n",
        "vertexai.init(project=\"aiex-57523\", location=\"us-central1\")\n",
        "chat_model = ChatModel.from_pretrained(\"chat-bison@001\")\n",
        "parameters = {\n",
        "    \"temperature\": 0.2,\n",
        "    \"max_output_tokens\": 256,\n",
        "    \"top_p\": 0.8,\n",
        "    \"top_k\": 40\n",
        "}\n",
        "chat = chat_model.start_chat(\n",
        "    context=\"\"\"Answer a question on the text submitted\"\"\",\n",
        ")\n",
        "response = chat.send_message(\"\"\"Based on the following text, Does Gemini repeat existing text? “\n",
        "Gemini is a multimodal LLM, understanding and generating text, code, images, and more. It excels at reasoning across vast amounts of information, solving complex problems, and adapting to various tasks through fine-tuning.”\"\"\", **parameters)\n",
        "\n",
        "wrapped_text=textwrap.fill(response.text, width=40)\n",
        "print(wrapped_text)"
      ]
    },
    {
      "cell_type": "code",
      "execution_count": null,
      "metadata": {
        "colab": {
          "base_uri": "https://localhost:8080/"
        },
        "id": "NTWGk9On59jm",
        "outputId": "58a3099b-99d4-436e-bc46-235629453d1d"
      },
      "outputs": [
        {
          "name": "stdout",
          "output_type": "stream",
          "text": [
            "No, Gemini does not just repeat text. Gemini is a multimodal AI model that can understand, process, and combine different information formats seamlessly. This allows it to reason and solve problems in ways that were previously impossible for AI. Gemini's capabilities include question answering, code generation, image description, and more. It can also understand and reason with exceptionally long stretches of information. Gemini is used in a variety of applications, including scientific discovery, product development, and personalized experiences."
          ]
        }
      ],
      "source": [
        "import vertexai\n",
        "from vertexai.preview.generative_models import GenerativeModel, Part\n",
        "import vertexai.preview.generative_models as generative_models\n",
        "\n",
        "import vertexai\n",
        "from vertexai.preview.generative_models import GenerativeModel, Part\n",
        "import vertexai.preview.generative_models as generative_models\n",
        "\n",
        "def generate():\n",
        "  vertexai.init(project=\"aiex-57523\", location=\"us-central1\")\n",
        "  model = GenerativeModel(\"gemini-1.0-pro-001\")\n",
        "  responses = model.generate_content(\n",
        "    \"\"\"Based on the following text, does Gemini just repeat text: Gemini: Google\\'s Multimodal AI Powerhouse\n",
        "Gemini is Google\\'s most advanced and versatile AI model yet, representing a significant leap forward in artificial intelligence capabilities. Here\\'s a breakdown of its key aspects:\n",
        "Capabilities:\n",
        "Multimodal: Unlike most AI models that specialize in one type of data (text, image, code, etc.), Gemini is natively multimodal. This means it can understand, process, and combine different information formats seamlessly. This allows it to reason and solve problems in ways that were previously impossible for AI.\n",
        "State-of-the-art performance: Across various domains, Gemini demonstrates cutting-edge capabilities in tasks like question answering, code generation, image description, and more.\n",
        "Long-context understanding: Gemini 1.5, the latest iteration, boasts a breakthrough feature: understanding and reasoning with exceptionally long stretches of information. This enables it to grasp complex contexts and nuances in a way that surpasses previous models.\n",
        "Applications:\n",
        "Scientific discovery: By analyzing vast amounts of scientific data from various sources, Gemini can assist researchers in uncovering new insights and making groundbreaking discoveries.\n",
        "Product development: Its ability to understand and generate different creative formats makes Gemini valuable for product design, marketing, and content creation.\n",
        "Personalized experiences: By tailoring its responses to individual user preferences and contexts, Gemini can power personalized experiences in education, healthcare, and other domains.\n",
        "Technical underpinnings:\n",
        "Transformer architecture: At its core, Gemini leverages the power of transformer-based neural networks. These models excel at identifying complex relationships within data, allowing Gemini to understand and process information in a nuanced way.\n",
        "Multimodal pre-training: Unlike traditional models trained on single data types, Gemini undergoes multimodal pre-training. This means it\\'s exposed to various formats from the very beginning, enabling it to develop a comprehensive understanding of the world from the outset.\n",
        "Fine-tuning: Further refinement is achieved through fine-tuning on specific tasks and datasets. This allows Gemini to specialize in particular domains and excel at specific applications.\n",
        "Overall, Gemini represents a significant step forward in AI, paving the way for a future where machines can interact with the world in a more comprehensive and human-like manner.\n",
        "It\\'s important to note that I am also part of the Gemini family of AI models, specifically the 1.0 Pro version. While I share the core capabilities of understanding and generating text, I am still under development and learning new skills every day.\"\"\",\n",
        "    generation_config={\n",
        "        \"max_output_tokens\": 2048,\n",
        "        \"temperature\": 0.9,\n",
        "        \"top_p\": 1\n",
        "    },\n",
        "    safety_settings={\n",
        "          generative_models.HarmCategory.HARM_CATEGORY_HATE_SPEECH: generative_models.HarmBlockThreshold.BLOCK_MEDIUM_AND_ABOVE,\n",
        "          generative_models.HarmCategory.HARM_CATEGORY_DANGEROUS_CONTENT: generative_models.HarmBlockThreshold.BLOCK_MEDIUM_AND_ABOVE,\n",
        "          generative_models.HarmCategory.HARM_CATEGORY_SEXUALLY_EXPLICIT: generative_models.HarmBlockThreshold.BLOCK_MEDIUM_AND_ABOVE,\n",
        "          generative_models.HarmCategory.HARM_CATEGORY_HARASSMENT: generative_models.HarmBlockThreshold.BLOCK_MEDIUM_AND_ABOVE,\n",
        "    },\n",
        "    stream=True,\n",
        "  )\n",
        "\n",
        "  for response in responses:\n",
        "    print(response.text, end=\"\")\n",
        "\n",
        "\n",
        "generate()"
      ]
    },
    {
      "cell_type": "markdown",
      "metadata": {
        "id": "5M9lPXAJShrC"
      },
      "source": [
        "# Question Answering(QA) - general"
      ]
    },
    {
      "cell_type": "code",
      "execution_count": null,
      "metadata": {
        "colab": {
          "base_uri": "https://localhost:8080/"
        },
        "id": "FvfFMN5ySyd3",
        "outputId": "a1984cd8-3b4a-4fe3-97c7-12ea7e729f02"
      },
      "outputs": [
        {
          "name": "stdout",
          "output_type": "stream",
          "text": [
            "I am powered by PaLM 2, which stands for\n",
            "Pathways Language Model 2, a large\n",
            "language model from Google AI.\n"
          ]
        }
      ],
      "source": [
        "from vertexai.preview.language_models import ChatModel, InputOutputTextPair\n",
        "\n",
        "def predict_large_language_model_sample(\n",
        "    project_id: str,\n",
        "    model_name: str,\n",
        "    temperature: float,\n",
        "    max_output_tokens: int,\n",
        "    top_p: float,\n",
        "    top_k: int,\n",
        "    location: str = \"us-central1\",\n",
        "    ) :\n",
        "    \"\"\"Predict using a Large Language Model.\"\"\"\n",
        "    vertexai.init(project=project_id, location=location)\n",
        "\n",
        "    chat_model = ChatModel.from_pretrained(model_name)\n",
        "    parameters = {\n",
        "      \"temperature\": temperature,\n",
        "      \"max_output_tokens\": max_output_tokens,\n",
        "      \"top_p\": top_p,\n",
        "      \"top_k\": top_k,\n",
        "    }\n",
        "\n",
        "    chat = chat_model.start_chat(\n",
        "      examples=[]\n",
        "    )\n",
        "    response=chat.send_message('''What Transformer model are you using for this conversation?''',**parameters)\n",
        "    #print(response.text)\n",
        "    wrapped_text=textwrap.fill(response.text, width=40)\n",
        "    print(wrapped_text)\n",
        "\n",
        "\n",
        "predict_large_language_model_sample(\"aiex-57523\", \"chat-bison@001\", 0.2, 256, 0.8, 40, \"us-central1\")"
      ]
    },
    {
      "cell_type": "markdown",
      "metadata": {
        "id": "u7Iggtu8SrI2"
      },
      "source": [
        "# Summarization of a conversation"
      ]
    },
    {
      "cell_type": "code",
      "execution_count": null,
      "metadata": {
        "colab": {
          "base_uri": "https://localhost:8080/"
        },
        "id": "hJoN4TsxnjK6",
        "outputId": "4a0e35e7-5f88-4c57-8d3e-de9094a4c9f5"
      },
      "outputs": [
        {
          "name": "stdout",
          "output_type": "stream",
          "text": [
            "The customer wants to change the\n",
            "shipping address for an order. The\n",
            "service rep informs them that the order\n",
            "has already shipped and they will need\n",
            "to contact the shipping provider to\n",
            "update their delivery details.\n"
          ]
        }
      ],
      "source": [
        "import vertexai\n",
        "from vertexai.language_models import TextGenerationModel\n",
        "\n",
        "vertexai.init(project=\"aiex-57523\", location=\"us-central1\")\n",
        "parameters = {\n",
        "    \"temperature\": 0.2,\n",
        "    \"max_output_tokens\": 256,\n",
        "    \"top_p\": 0.8,\n",
        "    \"top_k\": 40\n",
        "}\n",
        "model = TextGenerationModel.from_pretrained(\"text-bison@001\")\n",
        "response = model.predict(\n",
        "    \"\"\"Summarize the following conversation between a service rep and a customer in a few sentences. Use only the information from the conversation.\n",
        "\n",
        "Service Rep: How may I assist you today?\n",
        "Customer: I need to change the shipping address for an order.\n",
        "Service Rep: Ok, I can help you with that if the order has not been fulfilled from our warehouse yet. But if it has already shipped, then you will need to contact the shipping provider. Do you have the order ID?\n",
        "Customer: Yes, it\\'s 88986367.\n",
        "Service Rep: One minute please while I pull up your order information.\n",
        "Customer: No problem\n",
        "Service Rep: Ok, it looks like your order was shipped from our warehouse 2 days ago. It is now in the hands of  the shipping provider, so you will need to contact them to update your delivery details. You can track your order with the shipping provider here: https://www.shippingprovider.com\n",
        "Customer: Sigh, ok.\n",
        "Service Rep: Is there anything else I can help you with today?\n",
        "Customer: No, thanks.\"\"\",\n",
        "    **parameters\n",
        ")\n",
        "#print(f\"Response from Model: {response.text}\")\n",
        "wrapped_text=textwrap.fill(response.text, width=40)\n",
        "print(wrapped_text)"
      ]
    },
    {
      "cell_type": "markdown",
      "metadata": {
        "id": "qyaLZEkoS4W_"
      },
      "source": [
        "# Sentiment Analysis"
      ]
    },
    {
      "cell_type": "code",
      "execution_count": null,
      "metadata": {
        "colab": {
          "base_uri": "https://localhost:8080/"
        },
        "id": "MQgm5sNDnxOD",
        "outputId": "ac233bea-abdd-4a1c-91d1-e26d7ce7781d"
      },
      "outputs": [
        {
          "name": "stdout",
          "output_type": "stream",
          "text": [
            "positive\n"
          ]
        }
      ],
      "source": [
        "from vertexai.language_models import TextGenerationModel\n",
        "\n",
        "vertexai.init(project=\"aiex-57523\", location=\"us-central1\")\n",
        "parameters = {\n",
        "    \"temperature\": 0.2,\n",
        "    \"max_output_tokens\": 256,\n",
        "    \"top_p\": 0.8,\n",
        "    \"top_k\": 40\n",
        "}\n",
        "model = TextGenerationModel.from_pretrained(\"text-bison@001\")\n",
        "response = model.predict(\n",
        "    \"\"\"Is the sentiment positive or negative towards Louis van Gaal based on the article:\n",
        "\n",
        "Article:\n",
        "Louis van Gaal said he had no option but to substitute Paddy McNair in the first half against Southampton because the defender\\'s \\'confidence\\' was shot - but believes that it will benefit the youngster in the long run.\n",
        "The 19-year-old was hooked by Van Gaal after only 39 minutes at St Mary\\'s Stadium on Monday night during Manchester United\\'s 2-1 victory over the Saints.\n",
        "McNair was struggling to contain Southampton strikers Shane Long and Graziano Pelle, forcing Van Gaal into replacing him prematurely.\n",
        "Speaking to Sky Sports after the match, Van Gaal explained: \\'He (McNair) hadn\\'t any confidence. He had already given three big chances away.\n",
        "\\'I had to (substitute him), it\\'s very disappointing for me and also for Paddy, but I had to because as a manager, I\\'m responsible to win.\n",
        "\\'And I think, after the change, we played a little better.\\'\n",
        "But in spite of the fact United won the game, McNair was exposed time after time in defence and was substituted - even though Chris Smalling had already departed early with an injury.\n",
        "Jonny Evans came on to replace Smalling, before McNair made way for midfielder Ander Herrera as Michael Carrick dropped back in to the centre of defence in Van Gaal\\'s 3-5-2 system.\n",
        "And, despite admitting it will be difficult for McNair to accept being replaced so early, Van Gaal insisted that it was a necessity which will serve the Northern Irishman well long term.\n",
        "Van Gaal continued: \\'Of course, it\\'s tough (for McNair), but it\\'s also in his best interests.\\'\n",
        "The victory moved United up to third in the Premier League - their highest position since they claimed the title in 2012-13 under Sir Alex Ferguson. \"\"\",\n",
        "    **parameters\n",
        ")\n",
        "#print(f\"Response from Model: {response.text}\")\n",
        "wrapped_text=textwrap.fill(response.text, width=40)\n",
        "print(wrapped_text)"
      ]
    },
    {
      "cell_type": "code",
      "execution_count": null,
      "metadata": {
        "colab": {
          "base_uri": "https://localhost:8080/"
        },
        "id": "9IeUFdFGWSAp",
        "outputId": "27320a18-0b67-49d0-cb6d-d10380906d49"
      },
      "outputs": [
        {
          "name": "stdout",
          "output_type": "stream",
          "text": [
            "The sentiment towards Louis van Gaal is\n",
            "positive.  The article is about Louis\n",
            "van Gaal's decision to substitute Paddy\n",
            "McNair in the first half of the match\n",
            "against Southampton. The article says\n",
            "that Van Gaal had to make the\n",
            "substitution because McNair was\n",
            "struggling and had given away three big\n",
            "chances. Van Gaal also says that he\n",
            "believes the substitution will benefit\n",
            "McNair in the long run.  The article\n",
            "does not mention any negative aspects of\n",
            "Van Gaal's decision. It does not say\n",
            "that Van Gaal made a mistake or that he\n",
            "should not have substituted McNair.\n",
            "Overall, the article presents Van Gaal\n",
            "in a positive light. It says that he is\n",
            "a good manager who is responsible for\n",
            "winning games. It also says that he is\n",
            "looking out for the best interests of\n",
            "his players.\n"
          ]
        }
      ],
      "source": [
        "from vertexai.language_models import TextGenerationModel\n",
        "\n",
        "vertexai.init(project=\"aiex-57523\", location=\"us-central1\")\n",
        "parameters = {\n",
        "    \"temperature\": 0.2,\n",
        "    \"max_output_tokens\": 256,\n",
        "    \"top_p\": 0.8,\n",
        "    \"top_k\": 40\n",
        "}\n",
        "model = TextGenerationModel.from_pretrained(\"text-bison@001\")\n",
        "response = model.predict(\n",
        "    \"\"\"Is the sentiment positive or negative towards Louis van Gaal based on the article and explain why in detail:\n",
        "\n",
        "Article:\n",
        "Louis van Gaal said he had no option but to substitute Paddy McNair in the first half against Southampton because the defender\\'s \\'confidence\\' was shot - but believes that it will benefit the youngster in the long run.\n",
        "The 19-year-old was hooked by Van Gaal after only 39 minutes at St Mary\\'s Stadium on Monday night during Manchester United\\'s 2-1 victory over the Saints.\n",
        "McNair was struggling to contain Southampton strikers Shane Long and Graziano Pelle, forcing Van Gaal into replacing him prematurely.\n",
        "Speaking to Sky Sports after the match, Van Gaal explained: \\'He (McNair) hadn\\'t any confidence. He had already given three big chances away.\n",
        "\\'I had to (substitute him), it\\'s very disappointing for me and also for Paddy, but I had to because as a manager, I\\'m responsible to win.\n",
        "\\'And I think, after the change, we played a little better.\\'\n",
        "But in spite of the fact United won the game, McNair was exposed time after time in defence and was substituted - even though Chris Smalling had already departed early with an injury.\n",
        "Jonny Evans came on to replace Smalling, before McNair made way for midfielder Ander Herrera as Michael Carrick dropped back in to the centre of defence in Van Gaal\\'s 3-5-2 system.\n",
        "And, despite admitting it will be difficult for McNair to accept being replaced so early, Van Gaal insisted that it was a necessity which will serve the Northern Irishman well long term.\n",
        "Van Gaal continued: \\'Of course, it\\'s tough (for McNair), but it\\'s also in his best interests.\\'\n",
        "The victory moved United up to third in the Premier League - their highest position since they claimed the title in 2012-13 under Sir Alex Ferguson. \"\"\",\n",
        "    **parameters\n",
        ")\n",
        "#print(f\"Response from Model: {response.text}\")\n",
        "wrapped_text=textwrap.fill(response.text, width=40)\n",
        "print(wrapped_text)"
      ]
    },
    {
      "cell_type": "markdown",
      "metadata": {
        "id": "rilcm2bGS-sC"
      },
      "source": [
        "# Multi-choice problems"
      ]
    },
    {
      "cell_type": "code",
      "execution_count": null,
      "metadata": {
        "colab": {
          "base_uri": "https://localhost:8080/"
        },
        "id": "KfMQS2dqoBoF",
        "outputId": "350071d7-16e1-4979-9efc-ba51e01ab2cd"
      },
      "outputs": [
        {
          "name": "stdout",
          "output_type": "stream",
          "text": [
            "culture\n"
          ]
        }
      ],
      "source": [
        "from vertexai.language_models import TextGenerationModel\n",
        "\n",
        "vertexai.init(project=\"aiex-57523\", location=\"us-central1\")\n",
        "parameters = {\n",
        "    \"temperature\": 0.2,\n",
        "    \"max_output_tokens\": 256,\n",
        "    \"top_p\": 0.8,\n",
        "    \"top_k\": 40\n",
        "}\n",
        "model = TextGenerationModel.from_pretrained(\"text-bison@001\")\n",
        "response = model.predict(\n",
        "    \"\"\"Multi-choice problem: What is the topic of this text?\n",
        "- entertainment\n",
        "- technology\n",
        "- politics\n",
        "- sports\n",
        "- business\n",
        "- health\n",
        "- fun\n",
        "- culture\n",
        "- science\n",
        "\n",
        "Text: Samba, is a name or prefix used for several rhythmic variants, such as samba urbano carioca (urban Carioca samba), samba de roda (sometimes also called rural samba), recognized as part of the Intangible Cultural Heritage of Humanity by UNESCO, amongst many other forms of Samba, mostly originated in the Rio de Janeiro and Bahia States. Samba is a broad term for many of the rhythms that compose the better known Brazilian music genres that originated in the Afro-Brazilian communities of Bahia in the late 19th century and early 20th century, having continued its development on the communities of Rio de Janeiro in the early 20th century. Having its roots in the Afro-Brazilian Candomblé, as well as other Afro-Brazilian and Indigenous folk traditions, such as the traditional Samba de Caboclo, it is considered one of the most important cultural phenomena in Brazil and one of the country\\'s symbols. Present in the Portuguese language at least since the 19th century, the word \\\"samba\\\" was originally used to designate a \\\"popular dance\\\". Over time, its meaning has been extended to a \\\"batuque-like circle dance\\\", a dance style, and also to a \\\"music genre\\\". This process of establishing itself as a musical genre began in the 1910s and it had its inaugural landmark in the song \\\"Pelo Telefone\\\", launched in 1917. Despite being identified by its creators, the public, and the Brazilian music industry as \\\"samba\\\", this pioneering style was much more connected from the rhythmic and instrumental point of view to maxixe than to samba itself.\n",
        "\n",
        "Samba was modernly structured as a musical genre only in the late 1920s from the neighborhood of Estácio and soon extended to Oswaldo Cruz and other parts of Rio through its commuter rail. Today synonymous with the rhythm of samba, this new samba brought innovations in rhythm, melody and also in thematic aspects. Its rhythmic change based on a new percussive instrumental pattern resulted in a more \\\"batucado\\\" and syncopated style – as opposed to the inaugural \\\"samba-maxixe\\\" – notably characterized by a faster tempo, longer notes and a characterized cadence far beyond the simple ones palms used so far. Also the \\\"Estácio paradigm\\\" innovated in the formatting of samba as a song, with its musical organization in first and second parts in both melody and lyrics. In this way, the sambistas of Estácio created, structured and redefined the urban Carioca samba as a genre in a modern and finished way. In this process of establishment as an urban and modern musical expression, the Carioca samba had the decisive role of samba schools, responsible for defining and legitimizing definitively the aesthetic bases of rhythm, and radio broadcasting, which greatly contributed to the diffusion and popularization of the genre and its song singers. Thus, samba has achieved major projection throughout Brazil and has become one of the main symbols of Brazilian national identity. Once criminalized and rejected for its Afro-Brazilian origins, and definitely working-class music in its mythic origins, the genre has also received support from members of the upper classes and the country\\'s cultural elite.\"\"\",\n",
        "    **parameters\n",
        ")\n",
        "#print(f\"Response from Model: {response.text}\")\n",
        "wrapped_text=textwrap.fill(response.text, width=40)\n",
        "print(wrapped_text)"
      ]
    },
    {
      "cell_type": "markdown",
      "metadata": {
        "id": "BsxGgCS5XjBv"
      },
      "source": [
        "# Code"
      ]
    },
    {
      "cell_type": "code",
      "execution_count": null,
      "metadata": {
        "colab": {
          "base_uri": "https://localhost:8080/"
        },
        "id": "Rw2TkOsGXkiV",
        "outputId": "ed5c1168-ce40-42a1-f620-9e0a5b6969ad"
      },
      "outputs": [
        {
          "name": "stdout",
          "output_type": "stream",
          "text": [
            "Response from Model: Sure, here is the code for a function in Python that calculates a Fibonacci suite up to 10:\n",
            "\n",
            "```python\n",
            "def fibonacci(n):\n",
            "  \"\"\"\n",
            "  This function calculates the nth Fibonacci number.\n",
            "\n",
            "  Args:\n",
            "    n: The nth Fibonacci number to calculate.\n",
            "\n",
            "  Returns:\n",
            "    The nth Fibonacci number.\n",
            "  \"\"\"\n",
            "\n",
            "  if n == 0:\n",
            "    return 0\n",
            "  elif n == 1:\n",
            "    return 1\n",
            "  else:\n",
            "    return fibonacci(n - 1) + fibonacci(n - 2)\n",
            "\n",
            "```\n",
            "\n",
            "To use this function, simply call it with the desired Fibonacci number as the argument. For example, to calculate the 10th Fibonacci number, you would call the function like this:\n",
            "\n",
            "```python\n",
            "fibonacci(10)\n",
            "```\n",
            "\n",
            "This would return the value 55, which is the 10th Fibonacci number.\n"
          ]
        }
      ],
      "source": [
        "from vertexai.preview.language_models import CodeChatModel\n",
        "\n",
        "vertexai.init(project=\"aiex-57523\", location=\"us-central1\")\n",
        "chat_model = CodeChatModel.from_pretrained(\"codechat-bison@001\")\n",
        "parameters = {\n",
        "    \"temperature\": 0.5,\n",
        "    \"max_output_tokens\": 1024\n",
        "}\n",
        "chat = chat_model.start_chat()\n",
        "response = chat.send_message(\"\"\"Write the code in Python for a function in Python that calculates a Fibonacci  suite up to 10:\"\"\", **parameters)\n",
        "print(f\"Response from Model: {response.text}\")"
      ]
    },
    {
      "cell_type": "markdown",
      "metadata": {
        "id": "rmExDk96XqqJ"
      },
      "source": [
        "copy code into cell"
      ]
    },
    {
      "cell_type": "code",
      "execution_count": null,
      "metadata": {
        "id": "SHM1bskUXtGc"
      },
      "outputs": [],
      "source": [
        "def fibonacci(n):\n",
        "  \"\"\"\n",
        "  This function calculates the Fibonacci sequence up to the given number.\n",
        "\n",
        "  Args:\n",
        "    n: The number to calculate the Fibonacci sequence up to.\n",
        "\n",
        "  Returns:\n",
        "    The Fibonacci sequence up to the given number.\n",
        "  \"\"\"\n",
        "\n",
        "  # Initialize the sequence with 0 and 1.\n",
        "  a = 0\n",
        "  b = 1\n",
        "\n",
        "  # Iterate through the sequence, calculating each new number.\n",
        "  for i in range(n):\n",
        "    # Calculate the next number in the sequence.\n",
        "    c = a + b\n",
        "\n",
        "    # Update the sequence.\n",
        "    a = b\n",
        "    b = c\n",
        "\n",
        "  # Return the sequence.\n",
        "  return a, b"
      ]
    },
    {
      "cell_type": "markdown",
      "metadata": {
        "id": "PZwHyuSHXyZr"
      },
      "source": [
        "call the function and run the code"
      ]
    },
    {
      "cell_type": "code",
      "execution_count": null,
      "metadata": {
        "colab": {
          "base_uri": "https://localhost:8080/"
        },
        "id": "xIZLkZvwXyAA",
        "outputId": "908a75fb-1921-4a6d-ce2e-10b93f530d7a"
      },
      "outputs": [
        {
          "data": {
            "text/plain": [
              "(55, 89)"
            ]
          },
          "execution_count": 15,
          "metadata": {},
          "output_type": "execute_result"
        }
      ],
      "source": [
        "fibonacci(10)"
      ]
    },
    {
      "cell_type": "code",
      "execution_count": null,
      "metadata": {
        "colab": {
          "base_uri": "https://localhost:8080/"
        },
        "id": "KsuEsPSsDd0k",
        "outputId": "1d9d1bbf-8ec1-499f-e32e-391faa10117a"
      },
      "outputs": [
        {
          "name": "stdout",
          "output_type": "stream",
          "text": [
            "Response from Model: ```python\n",
            "from vertexai.preview.language_models import CodeChatModel\n",
            "\n",
            "vertexai.init(project=\"aiex-57523\", location=\"us-central1\")\n",
            "chat_model = CodeChatModel.from_pretrained(\"codechat-bison@001\")\n",
            "parameters = {\n",
            "    \"temperature\": 0.5,\n",
            "    \"max_output_tokens\": 1024\n",
            "}\n",
            "chat = chat_model.start_chat()\n",
            "response = chat.send_message(\"\"\"Write the code in Python for a function in Python that calculates a Fibonacci  suite up to 10:\"\"\", **parameters)\n",
            "print(f\"Response from Model: {response.text}\")\n",
            "```\n"
          ]
        }
      ],
      "source": [
        "import vertexai\n",
        "from vertexai.preview.language_models import CodeGenerationModel\n",
        "\n",
        "vertexai.init(project=\"aiex-57523\", location=\"us-central1\")\n",
        "parameters = {\n",
        "    \"temperature\": 0.2,\n",
        "    \"max_output_tokens\": 1024\n",
        "}\n",
        "model = CodeGenerationModel.from_pretrained(\"code-bison@001\")\n",
        "response = model.predict(\n",
        "    prefix = \"\"\"Correct the following code in Python that calculates a Fibonacci suite up to 10 numbers starting from 0 or 1. The code is inaccurate because it calculates 11 numbers instead of 10. Provide a corrected code:from vertexai.preview.language_models import CodeChatModel\n",
        "\n",
        "vertexai.init(project=\\\"aiex-57523\\\", location=\\\"us-central1\\\")\n",
        "chat_model = CodeChatModel.from_pretrained(\\\"codechat-bison@001\\\")\n",
        "parameters = {\n",
        "    \\\"temperature\\\": 0.5,\n",
        "    \\\"max_output_tokens\\\": 1024\n",
        "}\n",
        "chat = chat_model.start_chat()\n",
        "response = chat.send_message(\\\"\\\"\\\"Write the code in Python for a function in Python that calculates a Fibonacci  suite up to 10:\\\"\\\"\\\", **parameters)\n",
        "print(f\\\"Response from Model: {response.text}\\\")\"\"\",\n",
        "    **parameters\n",
        ")\n",
        "print(f\"Response from Model: {response.text}\")"
      ]
    },
    {
      "cell_type": "code",
      "execution_count": null,
      "metadata": {
        "colab": {
          "base_uri": "https://localhost:8080/"
        },
        "id": "DSmbU3ztFk9v",
        "outputId": "9bd5106e-161a-4b94-84cd-d1d4cb7f34fd"
      },
      "outputs": [
        {
          "name": "stdout",
          "output_type": "stream",
          "text": [
            "55\n"
          ]
        }
      ],
      "source": [
        "def fibonacci(n):\n",
        "  \"\"\"Calculates the nth Fibonacci number.\n",
        "\n",
        "  Args:\n",
        "    n: The nth Fibonacci number to calculate.\n",
        "\n",
        "  Returns:\n",
        "    The nth Fibonacci number.\n",
        "  \"\"\"\n",
        "  if n == 0:\n",
        "    return 0\n",
        "  elif n == 1:\n",
        "    return 1\n",
        "  else:\n",
        "    return fibonacci(n - 1) + fibonacci(n - 2)\n",
        "\n",
        "\n",
        "print(fibonacci(10))"
      ]
    }
  ],
  "metadata": {
    "colab": {
      "provenance": [],
      "toc_visible": true
    },
    "kernelspec": {
      "display_name": "Python 3",
      "name": "python3"
    },
    "language_info": {
      "name": "python"
    }
  },
  "nbformat": 4,
  "nbformat_minor": 0
}
